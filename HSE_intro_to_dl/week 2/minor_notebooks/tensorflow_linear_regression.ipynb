{
  "nbformat": 4,
  "nbformat_minor": 0,
  "metadata": {
    "colab": {
      "name": "tensorflow_linear_regression.ipynb",
      "version": "0.3.2",
      "provenance": [],
      "collapsed_sections": []
    },
    "kernelspec": {
      "name": "python3",
      "display_name": "Python 3"
    },
    "accelerator": "TPU"
  },
  "cells": [
    {
      "metadata": {
        "id": "EueLBEqJ8gkY",
        "colab_type": "code",
        "colab": {}
      },
      "cell_type": "code",
      "source": [
        "import tensorflow as tf\n",
        "import numpy as np"
      ],
      "execution_count": 0,
      "outputs": []
    },
    {
      "metadata": {
        "id": "rOf3xS0G8vWA",
        "colab_type": "code",
        "colab": {
          "base_uri": "https://localhost:8080/",
          "height": 69
        },
        "outputId": "146817e3-8e9d-47ee-88a7-e41851615b42"
      },
      "cell_type": "code",
      "source": [
        "N = 1000\n",
        "D = 3\n",
        "X = np.random.random((N, D))\n",
        "W = np.random.random((D, 1))\n",
        "y = X @ W + np.random.randn(N, 1) * 0.2\n",
        "\n",
        "print(W)"
      ],
      "execution_count": 2,
      "outputs": [
        {
          "output_type": "stream",
          "text": [
            "[[0.0933867 ]\n",
            " [0.39417104]\n",
            " [0.95645345]]\n"
          ],
          "name": "stdout"
        }
      ]
    },
    {
      "metadata": {
        "id": "6IvNteBA9EAI",
        "colab_type": "code",
        "colab": {
          "base_uri": "https://localhost:8080/",
          "height": 383
        },
        "outputId": "68327436-14ac-43cc-df75-1b1b86f0eb25"
      },
      "cell_type": "code",
      "source": [
        "tf.reset_default_graph()\n",
        "# placeholders for data\n",
        "features = tf.placeholder(tf.float32, shape=(None, D))\n",
        "target = tf.placeholder(tf.float32, shape=(None, 1))\n",
        "\n",
        "# predictions \n",
        "weights = tf.get_variable(\"w\", shape=(D, 1), dtype=tf.float32)\n",
        "predictions = features @ weights\n",
        "\n",
        "# loss\n",
        "loss = tf.reduce_mean((target - predictions) ** 2)\n",
        "\n",
        "# optimizer\n",
        "optimizer = tf.train.GradientDescentOptimizer(0.1)\n",
        "step = optimizer.minimize(loss)\n",
        "\n",
        "# gradient descent \n",
        "s = tf.InteractiveSession()\n",
        "s.run(tf.global_variables_initializer())\n",
        "\n",
        "for i in range(300):\n",
        "  _, curr_loss, curr_weights = s.run([step, loss, weights], \n",
        "                                     feed_dict={features: X, target: y})\n",
        "  if i % 50 == 0:\n",
        "    print(curr_loss)"
      ],
      "execution_count": 12,
      "outputs": [
        {
          "output_type": "stream",
          "text": [
            "0.60125554 [[ 0.8834821 ]\n",
            " [-0.33151487]\n",
            " [-0.10033429]]\n",
            "0.07246378 [[0.567024  ]\n",
            " [0.22890139]\n",
            " [0.64191586]]\n",
            "0.04684404 [[0.29087824]\n",
            " [0.33023244]\n",
            " [0.8189766 ]]\n",
            "0.042156257 [[0.17276338]\n",
            " [0.37342185]\n",
            " [0.8948169 ]]\n",
            "0.04129851 [[0.12224875]\n",
            " [0.39183542]\n",
            " [0.9273081 ]]\n",
            "0.041141555 [[0.10064492]\n",
            " [0.3996857 ]\n",
            " [0.94122803]]\n"
          ],
          "name": "stdout"
        },
        {
          "output_type": "stream",
          "text": [
            "/usr/local/lib/python3.6/dist-packages/tensorflow/python/client/session.py:1702: UserWarning: An interactive session is already active. This can cause out-of-memory errors in some cases. You must explicitly call `InteractiveSession.close()` to release resources held by the other session(s).\n",
            "  warnings.warn('An interactive session is already active. This can '\n"
          ],
          "name": "stderr"
        }
      ]
    },
    {
      "metadata": {
        "id": "_ThTsbmg-PeG",
        "colab_type": "code",
        "colab": {
          "base_uri": "https://localhost:8080/",
          "height": 35
        },
        "outputId": "34310f37-d1a5-4a90-dd9e-9d7a95e6e958"
      },
      "cell_type": "code",
      "source": [
        "curr_weights.T"
      ],
      "execution_count": 14,
      "outputs": [
        {
          "output_type": "execute_result",
          "data": {
            "text/plain": [
              "array([[0.09152386, 0.40298966, 0.9471152 ]], dtype=float32)"
            ]
          },
          "metadata": {
            "tags": []
          },
          "execution_count": 14
        }
      ]
    },
    {
      "metadata": {
        "id": "SQlQ0QRo-hM-",
        "colab_type": "code",
        "colab": {
          "base_uri": "https://localhost:8080/",
          "height": 35
        },
        "outputId": "3932a192-b996-4d50-f041-e6f2cd8fb236"
      },
      "cell_type": "code",
      "source": [
        "W.T"
      ],
      "execution_count": 15,
      "outputs": [
        {
          "output_type": "execute_result",
          "data": {
            "text/plain": [
              "array([[0.0933867 , 0.39417104, 0.95645345]])"
            ]
          },
          "metadata": {
            "tags": []
          },
          "execution_count": 15
        }
      ]
    },
    {
      "metadata": {
        "id": "VewvEb1lAjOf",
        "colab_type": "code",
        "colab": {}
      },
      "cell_type": "code",
      "source": [
        ""
      ],
      "execution_count": 0,
      "outputs": []
    }
  ]
}