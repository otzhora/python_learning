{
  "nbformat": 4,
  "nbformat_minor": 0,
  "metadata": {
    "colab": {
      "name": "tensorflow mnist.ipynb",
      "version": "0.3.2",
      "provenance": [],
      "collapsed_sections": []
    },
    "language_info": {
      "codemirror_mode": {
        "name": "ipython",
        "version": 3
      },
      "file_extension": ".py",
      "mimetype": "text/x-python",
      "name": "python",
      "nbconvert_exporter": "python",
      "pygments_lexer": "ipython3",
      "version": "3.6.5"
    },
    "kernelspec": {
      "display_name": "Python 3",
      "language": "python",
      "name": "python3"
    }
  },
  "cells": [
    {
      "metadata": {
        "slideshow": {
          "slide_type": "slide"
        },
        "id": "b10ziiqIVSAl",
        "colab_type": "text"
      },
      "cell_type": "markdown",
      "source": [
        "# MNIST digits classification with TensorFlow"
      ]
    },
    {
      "metadata": {
        "id": "rBTaj-P6VX5P",
        "colab_type": "code",
        "colab": {
          "base_uri": "https://localhost:8080/",
          "height": 311
        },
        "outputId": "97d361ff-0956-4cc9-9fd9-2633c4994a70"
      },
      "cell_type": "code",
      "source": [
        "! shred -u setup_google_colab.py\n",
        "! wget https://raw.githubusercontent.com/hse-aml/intro-to-dl/master/setup_google_colab.py -O setup_google_colab.py\n",
        "import setup_google_colab\n",
        "setup_google_colab.setup_week2()"
      ],
      "execution_count": 1,
      "outputs": [
        {
          "output_type": "stream",
          "text": [
            "--2019-04-16 18:08:16--  https://raw.githubusercontent.com/hse-aml/intro-to-dl/master/setup_google_colab.py\n",
            "Resolving raw.githubusercontent.com (raw.githubusercontent.com)... 151.101.0.133, 151.101.64.133, 151.101.128.133, ...\n",
            "Connecting to raw.githubusercontent.com (raw.githubusercontent.com)|151.101.0.133|:443... connected.\n",
            "HTTP request sent, awaiting response... 200 OK\n",
            "Length: 3792 (3.7K) [text/plain]\n",
            "Saving to: ‘setup_google_colab.py’\n",
            "\n",
            "\rsetup_google_colab.   0%[                    ]       0  --.-KB/s               \rsetup_google_colab. 100%[===================>]   3.70K  --.-KB/s    in 0s      \n",
            "\n",
            "2019-04-16 18:08:16 (68.5 MB/s) - ‘setup_google_colab.py’ saved [3792/3792]\n",
            "\n",
            "**************************************************\n",
            "inception_v3_weights_tf_dim_ordering_tf_kernels_notop.h5\n",
            "**************************************************\n",
            "cifar-10-batches-py.tar.gz\n",
            "**************************************************\n",
            "mnist.npz\n"
          ],
          "name": "stdout"
        }
      ]
    },
    {
      "metadata": {
        "id": "5bICrw66VSAn",
        "colab_type": "text"
      },
      "cell_type": "markdown",
      "source": [
        "<img src=\"https://github.com/hse-aml/intro-to-dl/blob/master/week2/v2/images/mnist_sample.png?raw=1\" style=\"width:30%\">"
      ]
    },
    {
      "metadata": {
        "id": "W2WRl-5VVSAn",
        "colab_type": "code",
        "colab": {
          "base_uri": "https://localhost:8080/",
          "height": 52
        },
        "outputId": "98886594-e23c-4b3d-84e8-1f9e7dabad47"
      },
      "cell_type": "code",
      "source": [
        "import numpy as np\n",
        "from sklearn.metrics import accuracy_score\n",
        "from matplotlib import pyplot as plt\n",
        "%matplotlib inline\n",
        "import tensorflow as tf\n",
        "print(\"We're using TF\", tf.__version__)\n",
        "\n",
        "import sys\n",
        "sys.path.append(\"../..\")\n",
        "import grading\n",
        "\n",
        "import matplotlib_utils\n",
        "from importlib import reload\n",
        "reload(matplotlib_utils)\n",
        "\n",
        "import grading_utils\n",
        "reload(grading_utils)\n",
        "\n",
        "import keras_utils\n",
        "from keras_utils import reset_tf_session"
      ],
      "execution_count": 2,
      "outputs": [
        {
          "output_type": "stream",
          "text": [
            "We're using TF 1.13.1\n"
          ],
          "name": "stdout"
        },
        {
          "output_type": "stream",
          "text": [
            "Using TensorFlow backend.\n"
          ],
          "name": "stderr"
        }
      ]
    },
    {
      "metadata": {
        "id": "OAqZXxOHVSAq",
        "colab_type": "text"
      },
      "cell_type": "markdown",
      "source": [
        "# Fill in your Coursera token and email\n",
        "To successfully submit your answers to our grader, please fill in your Coursera submission token and email"
      ]
    },
    {
      "metadata": {
        "id": "QLDgsqi8VSAq",
        "colab_type": "code",
        "colab": {}
      },
      "cell_type": "code",
      "source": [
        "grader = grading.Grader(assignment_key=\"XtD7ho3TEeiHQBLWejjYAA\", \n",
        "                        all_parts=[\"9XaAS\", \"vmogZ\", \"RMv95\", \"i8bgs\", \"rE763\"])"
      ],
      "execution_count": 0,
      "outputs": []
    },
    {
      "metadata": {
        "id": "vkGgInLsVSAt",
        "colab_type": "code",
        "colab": {}
      },
      "cell_type": "code",
      "source": [
        "# token expires every 30 min\n",
        "COURSERA_EMAIL = \"rogachev.yra28@gmail.com\"\n",
        "COURSERA_TOKEN = \"RD0Dn6Q1LvAptnFx\""
      ],
      "execution_count": 0,
      "outputs": []
    },
    {
      "metadata": {
        "id": "BsWpyb-PVSAv",
        "colab_type": "text"
      },
      "cell_type": "markdown",
      "source": [
        "# Look at the data\n",
        "\n",
        "In this task we have 50000 28x28 images of digits from 0 to 9.\n",
        "We will train a classifier on this data."
      ]
    },
    {
      "metadata": {
        "id": "xUNcvjP_VSAw",
        "colab_type": "code",
        "colab": {
          "base_uri": "https://localhost:8080/",
          "height": 52
        },
        "outputId": "5fad0480-22db-4579-a699-2d2f7bff2197"
      },
      "cell_type": "code",
      "source": [
        "import preprocessed_mnist\n",
        "X_train, y_train, X_val, y_val, X_test, y_test = preprocessed_mnist.load_dataset()"
      ],
      "execution_count": 5,
      "outputs": [
        {
          "output_type": "stream",
          "text": [
            "Downloading data from https://s3.amazonaws.com/img-datasets/mnist.npz\n",
            " 8929280/11490434 [======================>.......] - ETA: 0s"
          ],
          "name": "stdout"
        }
      ]
    },
    {
      "metadata": {
        "id": "pCUnR6rZVSAy",
        "colab_type": "code",
        "colab": {
          "base_uri": "https://localhost:8080/",
          "height": 694
        },
        "outputId": "2eb1c5ba-a003-4fe6-9023-24070bac59d6"
      },
      "cell_type": "code",
      "source": [
        "# X contains rgb values divided by 255\n",
        "print(\"X_train [shape %s] sample patch:\\n\" % (str(X_train.shape)), X_train[1, 15:20, 5:10])\n",
        "print(\"A closeup of a sample patch:\")\n",
        "plt.imshow(X_train[1, 15:20, 5:10], cmap=\"Greys\")\n",
        "plt.show()\n",
        "print(\"And the whole sample:\")\n",
        "plt.imshow(X_train[1], cmap=\"Greys\")\n",
        "plt.show()\n",
        "print(\"y_train [shape %s] 10 samples:\\n\" % (str(y_train.shape)), y_train[:10])"
      ],
      "execution_count": 6,
      "outputs": [
        {
          "output_type": "stream",
          "text": [
            "X_train [shape (50000, 28, 28)] sample patch:\n",
            " [[0.         0.29803922 0.96470588 0.98823529 0.43921569]\n",
            " [0.         0.33333333 0.98823529 0.90196078 0.09803922]\n",
            " [0.         0.33333333 0.98823529 0.8745098  0.        ]\n",
            " [0.         0.33333333 0.98823529 0.56862745 0.        ]\n",
            " [0.         0.3372549  0.99215686 0.88235294 0.        ]]\n",
            "A closeup of a sample patch:\n"
          ],
          "name": "stdout"
        },
        {
          "output_type": "display_data",
          "data": {
            "image/png": "[encoded data removed]",
            "text/plain": [
              "<Figure size 432x288 with 1 Axes>"
            ]
          },
          "metadata": {
            "tags": []
          }
        },
        {
          "output_type": "stream",
          "text": [
            "And the whole sample:\n"
          ],
          "name": "stdout"
        },
        {
          "output_type": "display_data",
          "data": {
            "image/png": "[encoded data removed]",
            "text/plain": [
              "<Figure size 432x288 with 1 Axes>"
            ]
          },
          "metadata": {
            "tags": []
          }
        },
        {
          "output_type": "stream",
          "text": [
            "y_train [shape (50000,)] 10 samples:\n",
            " [5 0 4 1 9 2 1 3 1 4]\n"
          ],
          "name": "stdout"
        }
      ]
    },
    {
      "metadata": {
        "id": "exJNQLutVSA0",
        "colab_type": "text"
      },
      "cell_type": "markdown",
      "source": [
        "# Linear model\n",
        "\n",
        "Your task is to train a linear classifier $\\vec{x} \\rightarrow y$ with SGD using TensorFlow.\n",
        "\n",
        "You will need to calculate a logit (a linear transformation) $z_k$ for each class: \n",
        "$$z_k = \\vec{x} \\cdot \\vec{w_k} + b_k \\quad k = 0..9$$\n",
        "\n",
        "And transform logits $z_k$ to valid probabilities $p_k$ with softmax: \n",
        "$$p_k = \\frac{e^{z_k}}{\\sum_{i=0}^{9}{e^{z_i}}} \\quad k = 0..9$$\n",
        "\n",
        "We will use a cross-entropy loss to train our multi-class classifier:\n",
        "$$\\text{cross-entropy}(y, p) = -\\sum_{k=0}^{9}{\\log(p_k)[y = k]}$$ \n",
        "\n",
        "where \n",
        "$$\n",
        "[x]=\\begin{cases}\n",
        "       1, \\quad \\text{if $x$ is true} \\\\\n",
        "       0, \\quad \\text{otherwise}\n",
        "    \\end{cases}\n",
        "$$\n",
        "\n",
        "Cross-entropy minimization pushes $p_k$ close to 1 when $y = k$, which is what we want.\n",
        "\n",
        "Here's the plan:\n",
        "* Flatten the images (28x28 -> 784) with `X_train.reshape((X_train.shape[0], -1))` to simplify our linear model implementation\n",
        "* Use a matrix placeholder for flattened `X_train`\n",
        "* Convert `y_train` to one-hot encoded vectors that are needed for cross-entropy\n",
        "* Use a shared variable `W` for all weights (a column $\\vec{w_k}$ per class) and `b` for all biases.\n",
        "* Aim for ~0.93 validation accuracy"
      ]
    },
    {
      "metadata": {
        "id": "VvX_CfODVSA0",
        "colab_type": "code",
        "colab": {
          "base_uri": "https://localhost:8080/",
          "height": 52
        },
        "outputId": "d95367e9-1741-439d-bdbc-ce7ee0c08647"
      },
      "cell_type": "code",
      "source": [
        "X_train_flat = X_train.reshape((X_train.shape[0], -1))\n",
        "print(X_train_flat.shape)\n",
        "\n",
        "X_val_flat = X_val.reshape((X_val.shape[0], -1))\n",
        "print(X_val_flat.shape)"
      ],
      "execution_count": 7,
      "outputs": [
        {
          "output_type": "stream",
          "text": [
            "(50000, 784)\n",
            "(10000, 784)\n"
          ],
          "name": "stdout"
        }
      ]
    },
    {
      "metadata": {
        "id": "dTEu9JgiVSA2",
        "colab_type": "code",
        "colab": {
          "base_uri": "https://localhost:8080/",
          "height": 86
        },
        "outputId": "8c9af56f-4152-4df4-d500-09cd56490801"
      },
      "cell_type": "code",
      "source": [
        "import keras\n",
        "\n",
        "y_train_oh = keras.utils.to_categorical(y_train, 10)\n",
        "y_val_oh = keras.utils.to_categorical(y_val, 10)\n",
        "\n",
        "print(y_train_oh.shape)\n",
        "print(y_train_oh[:3], y_train[:3])"
      ],
      "execution_count": 8,
      "outputs": [
        {
          "output_type": "stream",
          "text": [
            "(50000, 10)\n",
            "[[0. 0. 0. 0. 0. 1. 0. 0. 0. 0.]\n",
            " [1. 0. 0. 0. 0. 0. 0. 0. 0. 0.]\n",
            " [0. 0. 0. 0. 1. 0. 0. 0. 0. 0.]] [5 0 4]\n"
          ],
          "name": "stdout"
        }
      ]
    },
    {
      "metadata": {
        "id": "O0MX0V-IVSA4",
        "colab_type": "code",
        "colab": {}
      },
      "cell_type": "code",
      "source": [
        "# run this again if you remake your graph\n",
        "s = reset_tf_session()"
      ],
      "execution_count": 0,
      "outputs": []
    },
    {
      "metadata": {
        "id": "VcAitgVdVSA8",
        "colab_type": "code",
        "colab": {}
      },
      "cell_type": "code",
      "source": [
        "# Model parameters: W and b\n",
        "W = tf.get_variable(\"w\", shape=(784,10))### YOUR CODE HERE ### tf.get_variable(...) with shape[0] = 784\n",
        "b = tf.get_variable(\"b\", shape=(1, 10))### YOUR CODE HERE ### tf.get_variable(...)"
      ],
      "execution_count": 0,
      "outputs": []
    },
    {
      "metadata": {
        "id": "5Pk78IDQVSA_",
        "colab_type": "code",
        "colab": {}
      },
      "cell_type": "code",
      "source": [
        "# Placeholders for the input data\n",
        "input_X = tf.placeholder(tf.float32, shape=(None, 784))\n",
        "input_y = tf.placeholder(tf.float32, shape=(None, 10))"
      ],
      "execution_count": 0,
      "outputs": []
    },
    {
      "metadata": {
        "id": "UXsiESeZVSBB",
        "colab_type": "code",
        "colab": {}
      },
      "cell_type": "code",
      "source": [
        "# Compute predictions\n",
        "logits = input_X @ W + b\n",
        "probas = tf.nn.softmax(logits) \n",
        "classes = tf.argmax(probas, 1)\n",
        "\n",
        "# Loss should be a scalar number: average loss over all the objects with tf.reduce_mean().\n",
        "# Use tf.nn.softmax_cross_entropy_with_logits on top of one-hot encoded input_y and logits.\n",
        "# It is identical to calculating cross-entropy on top of probas, but is more numerically friendly (read the docs).\n",
        "loss = tf.reduce_mean(tf.nn.softmax_cross_entropy_with_logits(labels=input_y, logits=logits))\n",
        "\n",
        "# Use a default tf.train.AdamOptimizer to get an SGD step\n",
        "step = tf.train.AdamOptimizer().minimize(loss)"
      ],
      "execution_count": 0,
      "outputs": []
    },
    {
      "metadata": {
        "id": "V15hkmyUWxuA",
        "colab_type": "code",
        "colab": {
          "base_uri": "https://localhost:8080/",
          "height": 35
        },
        "outputId": "1626dd2e-ca63-40a9-fc9a-0cb4a3526c1e"
      },
      "cell_type": "code",
      "source": [
        "classes"
      ],
      "execution_count": 28,
      "outputs": [
        {
          "output_type": "execute_result",
          "data": {
            "text/plain": [
              "<tf.Tensor 'ArgMax:0' shape=(?,) dtype=int64>"
            ]
          },
          "metadata": {
            "tags": []
          },
          "execution_count": 28
        }
      ]
    },
    {
      "metadata": {
        "scrolled": false,
        "id": "v18Y0RZAVSBD",
        "colab_type": "code",
        "colab": {
          "base_uri": "https://localhost:8080/",
          "height": 309
        },
        "outputId": "bac3337e-1528-492a-d1b6-d830dfdd4597"
      },
      "cell_type": "code",
      "source": [
        "s.run(tf.global_variables_initializer())\n",
        "\n",
        "BATCH_SIZE = 512\n",
        "EPOCHS = 40\n",
        "\n",
        "# for logging the progress right here in Jupyter (for those who don't have TensorBoard)\n",
        "simpleTrainingCurves = matplotlib_utils.SimpleTrainingCurves(\"cross-entropy\", \"accuracy\")\n",
        "\n",
        "for epoch in range(EPOCHS):  # we finish an epoch when we've looked at all training samples\n",
        "    \n",
        "    batch_losses = []\n",
        "    for batch_start in range(0, X_train_flat.shape[0], BATCH_SIZE):  # data is already shuffled\n",
        "        _, batch_loss = s.run([step, loss], {input_X: X_train_flat[batch_start:batch_start+BATCH_SIZE], \n",
        "                                             input_y: y_train_oh[batch_start:batch_start+BATCH_SIZE]})\n",
        "        # collect batch losses, this is almost free as we need a forward pass for backprop anyway\n",
        "        batch_losses.append(batch_loss)\n",
        "\n",
        "    train_loss = np.mean(batch_losses)\n",
        "    val_loss = s.run(loss, {input_X: X_val_flat, input_y: y_val_oh})  # this part is usually small\n",
        "    train_accuracy = accuracy_score(y_train, s.run(classes, {input_X: X_train_flat}))  # this is slow and usually skipped\n",
        "    valid_accuracy = accuracy_score(y_val, s.run(classes, {input_X: X_val_flat}))  \n",
        "    simpleTrainingCurves.add(train_loss, val_loss, train_accuracy, valid_accuracy)"
      ],
      "execution_count": 42,
      "outputs": [
        {
          "output_type": "display_data",
          "data": {
            "text/html": [
              "<img src=\"data:image/jpeg;base64,/9j/4AAQSkZJRgABAQEASABIAAD/2wBDAAIBAQEBAQIBAQECAgICAgQDAgICAgUEBAMEBgUGBgYFBgYGBwkIBgcJBwYGCAsICQoKCgoKBggLDAsKDAkKCgr/2wBDAQICAgICAgUDAwUKBwYHCgoKCgoKCgoKCgoKCgoKCgoKCgoKCgoKCgoKCgoKCgoKCgoKCgoKCgoKCgoKCgoKCgr/wAARCAEgA2ADASIAAhEBAxEB/8QAHwAAAQUBAQEBAQEAAAAAAAAAAAECAwQFBgcICQoL/8QAtRAAAgEDAwIEAwUFBAQAAAF9AQIDAAQRBRIhMUEGE1FhByJxFDKBkaEII0KxwRVS0fAkM2JyggkKFhcYGRolJicoKSo0NTY3ODk6Q0RFRkdISUpTVFVWV1hZWmNkZWZnaGlqc3R1dnd4eXqDhIWGh4iJipKTlJWWl5iZmqKjpKWmp6ipqrKztLW2t7i5usLDxMXGx8jJytLT1NXW19jZ2uHi4%2BTl5ufo6erx8vP09fb3%2BPn6/8QAHwEAAwEBAQEBAQEBAQAAAAAAAAECAwQFBgcICQoL/8QAtREAAgECBAQDBAcFBAQAAQJ3AAECAxEEBSExBhJBUQdhcRMiMoEIFEKRobHBCSMzUvAVYnLRChYkNOEl8RcYGRomJygpKjU2Nzg5OkNERUZHSElKU1RVVldYWVpjZGVmZ2hpanN0dXZ3eHl6goOEhYaHiImKkpOUlZaXmJmaoqOkpaanqKmqsrO0tba3uLm6wsPExcbHyMnK0tPU1dbX2Nna4uPk5ebn6Onq8vP09fb3%2BPn6/9oADAMBAAIRAxEAPwD9/KKKKACiiigAooooAKKKKACiiigAooooAKKKKACiiigAooooAKKKKACiiigAooooAKKKKACiiigAooooAKKKKACiiigAooooAKKKKACiiigAooooAKKKKACiiigAooooAKKKKACiiigAooooAKKKKACiiigAooooAKKKKACiiigAooooAKKKKACiiigAooooAKKKKACiiigAooooAKKKKACiiigAooooAKKKKACiiigAooooAKKKKACiiigAooooAKKKKACiiigAooooAKKKKACiiigAooooAKKKKACiiigAooooAKKKKACiiigAooooAKKKKACiiigAooooAKKKKACiiigAooooAKKKKACvPfjt%2B1J8FP2b5NGsfil4g1Maj4ilnTQNB8OeF9R1zVNR8lVed4bHTbee5kjiVkMkixlI96biu5c%2BhV4N%2B0P8D/j5/wANJ%2BDv2tv2bLLwfrWueH/B2seFNX8KeOdcutLtLywv7mwuxcQXtraXj288U2noCpt3WVJSCUKK1ABpf/BTL9izWLvxPb2nxXv0h8FWsk/jLUrvwXrEFjoIS0iu9l5dy2iwWsrQzRskMjrJIWKorMrKL2n/APBQ/wDZK1HwBrXxFTx/q9vB4f1ay0vVdE1DwNrNrrkV5ebfscC6PNaLqEr3AYGER27eaAxTcFYjy2b9gH4y%2BMf2a/jn8NfGHinwppHin4o/FS38daHc6U1xeWFpeW0OiywQ3IkihkkiN3pRRwoyYHGDuJVaPi79i/8AaV%2BLmr/Ef45fG34S/CjWvFnjWx8KaPp/gKy%2BI2s2Wm6fY6Hcaldw3qa7b6al5DqDXOqTOksVoPJSKNFZiWcgHsviH9vv9mzwv4a8OeI9XvvG3meK0v5NE8P2vwm8SXGuSRWUscV3NJpMWntf28MLzQq8s0CIpmiy37xM%2Bmaz8RPBHhv4e3XxX8T%2BJbbSvDljo76rf6vqrfZYbSySIzPPMZdvlKsYLNvxtAOcYNfGHin9hH9s/WPgX4X8Nay3hfxV470a58RHRfGV/wDHbxNpGr%2BCLW%2BuUktLO11q1sJLzXIYkjhEy3qw/aTbReYCFGPUfjR/wTotfj1%2Bzb4n%2BHHxD%2BOfjW78d%2BMPhfH4Z17xS3jbWho818tpDE2oJoS3y2FuzzQLK3kRRSEPIBIrSM5AOkg/4KUfsZf8K58V/FbWPite6Jo3giysr7xQ/ifwdq%2Bk3NlZXkxhtb37LeWsVxJaSyK6pcxxtC3luQ%2BEYjj/AI3f8FZP2d/hn8ENU%2BMfgPRfFXiqbQfiD4X8L674Y/4QXXbHU7A6zqVrax3T2cmnNdeV5Fw88DeT5d48aW8MhknjB8r1T/gmJ8ZPHfwq8faR4i8DeG9G8Y%2BI9D0fR7DxDqv7RfjPxut3aWusW%2BoTRyf27AfsEZ8likUSzHe%2BGkxknv8A9qH9gz40/GD4g/F/4g%2BBfEPheOTxfB8LbzwlZ6tfXMSvf%2BE/EdzrUsN40dvJ5ENwGt4VljEzrl2MfyKrgHqFh/wUE/Zb1H4m2XwZh8T%2BJo/Fd5oun6xLoF38N9egudO0%2B9adILu/SSyU6dDut5VeS68pYiFEhQum6j4a/wCCmH7FPi3wZ4s%2BIWkfGC4TR/Bfgi68Zaxe6h4S1W0Fx4et0Z5tWsVntUbVLNVQ4nsxPGxZArEugbB0P9kP4ofEP4mfG74g/G9fD2gxfGj4O%2BHfCF1Y%2BE9duNRl0u4tE11Ltlnns7XzYwNViMT7FZikm6OPA3fN37Y37Kn7UOj/ALDHxS%2BJv7TF34AtIfhD%2BxT8QfBHhePwFqF5cNrzXukWxn1G6W5toBYqE0i3CWcbXAVppCZ22oKAPrPw9/wUl/Yy8TaHrHiPT/i1dQWehppU1/JqnhLVbJmtNSu1s7HUIUuLVGubCWdgovoQ9qoDO0qorMPT9E%2BLvw88R/FLX/gvofiH7T4k8LaXp%2Boa/YR2k22zgvmuBa7pinlF3%2ByzHy1cyKoRmVVkjLfJOofsz%2BIPFegeKfjb/wAFIvF/wz8J%2BBbf9nu5%2BHUlx4f8QTLay6beyQyXmq3k17BbpYOTBbCG2QzCAmT/AEiQsuOw/wCCPngP4u2f7I9r8f8A9pDUDf8AxJ%2BL15H4n8V6g9nJbtJCLSCy01fKl%2BeH/iX2lpI0TYKSzTZAYtkA%2BqqKKKACiiigAooooAKKKKACiiigAooooAKKKKACiiigAooooAKKKKACiiigAooooAKKKKACiiigAooooAKKKKACiiigAooooAK8R0j/AIKMfse6ld69Z6n8Urzw83hzw5c%2BINQk8a%2BEdV0GObSbd0jnv7WTUrWBb63R5IlaW2MqAyxjOXXPtN7FczWcsNndCCZ4mWKYx7/LYjhtp64POO9fmJq//BHL9uX4v6t4X1z43fHHQ31vw14P1Cz1DxRqHxW8TeJx4h1v7ZpV9a6idLvoobLSbaS50xfPsLIBRHJtWWQKgUA%2B2X/b/wD2YbX4aN8WNY8QeKtK0ttcg0axs9c%2BGWv2GqanfzIZIYLLTbixS9v2kQM6/Z4ZAyo7AkIxHReA/wBqz4H/ABH1%2By8J%2BHPEOqQ6vf8AhSfxJDpGteFdS0y7TTYbv7JLLLDeW8UkDrP8hhkVZe%2BzbzXk3xO%2BDn7bvxib4e/G3XPBvwq0P4h/Cjx1NrHh/wAM2vjjUr/Rdcs7jSbvTLmO4vn0qGaxmKXskkbpa3AjMQU%2BYJGxV%2BJPwG/bg1/4y%2BHf2mvA%2BjfCu08WX3ww1XwX4x0LUvFepSWGkLcX8N1a39lcJpwk1AxCN1kt5YrQSlxiWLHIB3Gk/wDBRv8AZA8R694F8LeFfiNqus6n8SfBuleLfBunaJ4H1m9nvND1F9lrqMiQWjNa2%2B7HmSTiNbcMpm8oMCdj4a/tufs3fFf4jXPwn8M%2BL9Ws9ft9LudThsvE/gzVtEW/sbeRI57uyl1G1gjv4I3liDy2zSIvmISQGUnyj9hT9hL4sfsw6/8ADjWfHniDw1dnwd%2Byl4R%2BGN%2B%2BkXM8rNq2lvM1zNF5kEe61bemxmKu235o0wK8a%2BGn/BKv9sbxP8UfC/ib9qb4w2eqRaf4A8V%2BF/GniaD4v%2BJNavPEUur2KW39p2umX0Men6EcqWNpaKUXKgTOI1WgD6l8J/8ABRf9kfxrosfirQfHeuf2Hcarpen6f4lvfh/rdrpWoy6lex2VlJaX09mlteQS3M0UYuIJHhBlQs4VgT6X4W%2BLvw88a/EDxT8LvC/iH7XrnguSzj8T2iWkwWxkuoPtEEZlZBG7tCVkKIzMiyRlgokTd8w%2BOPAnxF8K/wDBPbxp8CP%2BChnif4VeCPAWg/DSLQLb4meHfFt2GadI0trXUntLqzgTTZlmFvJDBHcXTGcoiOTtDdr/AMEr/h98WPDf7ImlfFX9oqwS3%2BJ3xYvpfHXxEhW3aL7Pf36xmG02N8yfZbGOys9pyQLXBoA%2BjaKKKACiiigAooooAKKKKACiiigAooooAKKKKACiiigAooooAKKKKACiiigAooooAKKKKACiiigAooooAKKKKACiiigAooooAKKKKACvF/j14/8A2i/%2BGi/AvwI%2BAvjPwV4fTX/BXiXXtX1Pxf4Lu9aJOnXeh28MMMdvqVj5Yb%2B1JWZmZ8%2BWgAXkn2ivC/iLrS2f/BSr4Q6LIoxe/BP4hsjd90ereDTj8mY/hSbS3LhCVR2j2b%2B7Vl7/AIQf/goX/wBHQfBn/wAMPq3/AM1FH/CD/wDBQv8A6Og%2BDP8A4YfVv/mor2aimQeM/wDCD/8ABQv/AKOg%2BDP/AIYfVv8A5qKP%2BEH/AOChf/R0HwZ/8MPq3/zUV7NRQB4z/wAIP/wUL/6Og%2BDP/hh9W/8Amoo/4Qf/AIKF/wDR0HwZ/wDDD6t/81FezUUAeM/8IP8A8FC/%2BjoPgz/4YfVv/moo/wCEH/4KF/8AR0HwZ/8ADD6t/wDNRXs1FAHjP/CD/wDBQv8A6Og%2BDP8A4YfVv/moo/4Qf/goX/0dB8Gf/DD6t/8ANRXs1FAHjP8Awg//AAUL/wCjoPgz/wCGH1b/AOaij/hB/wDgoX/0dB8Gf/DD6t/81FezUUAeM/8ACD/8FC/%2BjoPgz/4YfVv/AJqKP%2BEH/wCChf8A0dB8Gf8Aww%2Brf/NRXs1effEDx/8AAz4aDU/GHx98ceFPD%2BnnWotPstS8YapbWkHmG0jlWCOS5ZV3kCV9oOSFY44OJnOFOLlNpJdW7L73ZG2Hw%2BIxdeNGhCU5ydlGKcpN9lGKlJvR6JN6bHNf8IP/AMFC/wDo6D4M/wDhh9W/%2Baij/hB/%2BChf/R0HwZ/8MPq3/wA1FV/%2BGv8A/gnB/wBHRfBH/wALbR//AI7R/wANf/8ABOD/AKOi%2BCP/AIW2j/8Ax2ub6/gP%2Bf0P/A4f/JHtf6pcWf8AQuxH/hPX/wDlBY/4Qf8A4KF/9HQfBn/ww%2Brf/NRR/wAIP/wUL/6Og%2BDP/hh9W/8AmorsPhp4k/Zy%2BNGhS%2BKfg7r/AIJ8WaZb3bWs%2Bo%2BGrqzv4I51VXaJpICyhwroxUnIDqcYIryf4g/ts/snfCH41/ET4RfFjwPqGh2nw08Dad4p8Q%2BLZPh/f3GlRWVyL5mLXMFo8UflpZE5Z/3jO0ce54ZVXphOFSKlBpp9U7r71dHi4jD4jCV5Ua8JQnF2cZJxkn2cZKMk9Vo0nrsdR/wg/wDwUL/6Og%2BDP/hh9W/%2Baij/AIQf/goX/wBHQfBn/wAMPq3/AM1FRN%2B03%2ByhbTeG49Y8J69pUPiu4ht9Iv8AXPg/rdhaLNNevZW8dzc3FgkNk81woSJbh4ml82FkDLNEz8zrv7dP7FPgK0J%2BJM1jb3bXvitYbXw34H1bWCLPw/qp03UbqUW%2Bm74UglaITMy%2BUhdiks0SidqMTq/%2BEH/4KF/9HQfBn/ww%2Brf/ADUUf8IP/wAFC/8Ao6D4M/8Ahh9W/wDmorvtAj%2BDHiu4ntPC8fhjUZraGCa5hsVt5XhjnTzIXdVyVEifMpONy8jIrw/9n79qrRPjR8UtG8L65%2Bzdomh%2BGPHOm67qHwz8SQ6ql3Pq1vpV7DazG7tTaRixaZJ47mBUluN0IfzDC6iMgHZf8IP/AMFC/wDo6D4M/wDhh9W/%2Baij/hB/%2BChf/R0HwZ/8MPq3/wA1Fcb4s/aq0Tw18eNR8D2/7N2h3PgTw98RNF8B%2BJ/Graqkd5aa/qtpZ3FokWn/AGQrPa51LTYXnNyjLJdECJxE7Vt/CH4r%2BLfiTr/xg8Bax%2Byz4S0vxJ8NdTjtdC0%2B28Trcwa6J9PS8tGmnNhH9iZ/MRHUJOI8khpMYoA1/wDhB/8AgoX/ANHQfBn/AMMPq3/zUUf8IP8A8FC/%2BjoPgz/4YfVv/morivDn7S0/iL9jC2/ap1D4J/CXwreW2r6jZeJ7Lx18SP7L0LSVstSutPlmOrnSnLq0tumzfbRbvOAJUjDcB4h/4KV%2BDdL%2BFtr8Y7T9lfQoND0j4PwfEr4hSa/4hjsZdO0OS4uYd2mJ9ik/taUizuJUVjaq6Pa/MrXKoAD3T/hB/wDgoX/0dB8Gf/DD6t/81FH/AAg//BQv/o6D4M/%2BGH1b/wCaisjxj8Xdc%2BHH7QnhD4aeOf2afCCeEvH/AIkudD8KeJNJ8Si61SS4h0q71IzXGmmwRIrcx2U6b47qZ1Zoi0YDsU4f9nT9suT9o6HTdL8P/szeAtP17xr8LYPiF8MNJu/G4kXUdFknihP9pyRaYzaZcIbi33RxJeJud1WVjG%2BAD0//AIQf/goX/wBHQfBn/wAMPq3/AM1FH/CD/wDBQv8A6Og%2BDP8A4YfVv/mory7QP2t/Ft9%2Bz542%2BOnjH9nz4HeEbbwP8Sb/AMMX%2Bq%2BLfjC9h4dmtrNltbi9XVJdCDIy6l5tiIXt1DPA5EvKoYvHf7c%2Bh%2BCvhT8J/jfdfs6eCLTSPihp%2BkS2fhbxB4wWw8WT3V7LCj2emaV/Z7rqkkSTxyEC4hJUklVHJAPVv%2BEH/wCChf8A0dB8Gf8Aww%2Brf/NRR/wg/wDwUL/6Og%2BDP/hh9W/%2BaiuS%2BG/7U/gH4v8A7UPiH4B%2BAPAXwuksfDOo3unXz6j47gh8RXNxaR4nmt9FSydns0uj9lNxJcRnfHKwjZVRpMT4aftcSfEOT4r%2BFIfgx8Fm8QfCmwsrrWNR0n4rfbPC9s0st0t1Z3%2Brf2Qj6feWkdnJNPA1rJsjmtyzKJSUAPSP%2BEH/AOChf/R0HwZ/8MPq3/zUUf8ACD/8FC/%2BjoPgz/4YfVv/AJqK8X8O/wDBQKw%2BIfgjwpqPwt/Zj8B6trfiO18XagJrnx7Hb%2BHLjTfD1zbW91eafq405/t6TG7ge3Jt4VdFndnjWElp/wDh418ItZk0zx/4N%2BBXh24%2BGsll4HuNb8U6xrUVlqNuvip4V017XT/ssi3Ua/aYDK7XEJH70RLM0RUgHsP/AAg//BQv/o6D4M/%2BGH1b/wCaij/hB/8AgoX/ANHQfBn/AMMPq3/zUV5f8Mv26/hr4v1n4x6n4w%2BHfwq0vw58G5PEx1620nx8mo%2BJ0g0e6lha6uNH/s6IWsMyQSSIxuX6xqA28stHWv29NJ%2BF/hDxIn7Q37L3hLwf4x0qx8MX2kaCfGME2nXNrr9xdW1nJdalNZQLZeRLYXxu/wB1KsEVsXja43orAHr3/CD/APBQv/o6D4M/%2BGH1b/5qKoeB/HH7Vng79qzw58Efjd8R/h74m0bxN8PfEOuQzeFfh5faLdWl1pt9oluis9xq98ksbpqkpKhEYNEhDYyD0Hwu13Svib%2Bz3D8WpPDvgOC9vNNurq1vPh34lXW9MIRpBFLa6iLW2M4KorE%2BUm1iyfMF3NneOP8AlIX8L/8AsjPjz/07eEKAPZqKKKACvNv2sv2ldK/ZG%2BCOrfHrxH8L/FfivSdBhkudatPB8Nm9zZ2ccUk0124vLm3QxRpGchXLklQqMTivSa8Z/wCCgnwn%2BNXx8/Y/8efAb4CaN4Wu9e8b%2BG73QvO8X%2BI7nTLSyhuraWJrnzLeyu3kdCykReWoYE/vFwMgHYfHr46eH/gD4OtPE%2Br%2BGtY1691XW7TR/D/hzw9HA19q1/cvtit4ftEsMKnAeRnlljjSOJ3Z1Ck15P4j/wCCmvwg0PwPp3jPTfhT4/1maTSde1TxPoOkaZZPf%2BFLLRLz7Dq01%2Bkl2iE211uh8q1e4lnMbm3SdVLVsfGz4Y/tL/GbwV4S8UDwd4F0fxt4D8Y6Z4n0TSR40vLrTL%2BdIbi2vLOa7/syOWBDb3U6xzrbyHeUdogFKHxq9/YD/at8M%2BGtQ1/4c658P5/F3xA8NeNdI%2BIEer6tex2Gjya/rEmpxXVg6Wjveix8%2BaDyZUtvtQ2OZbYgqQD7U03UtP1nTrfV9JvYrm1u4EmtriFwySxsAyupHBBBBB96%2BePhN4q/bv8Ajro%2BveO/C/xv%2BEmgaXb/ABC8VaHpelX/AMH9Uv7iK10vXr/TIWluE8RQLLI8dmrsyxRrucgKABXs1v8ACPwxF8H7P4Jvf6xHpFnodvpSXGma5dafeiGGNY1ZLq0kimhfCD543U9eea8e/Yc8O6f4V/ZSvfB%2BmXN/LZ2nxp8cWKSalqtxe3MsP/CeatGRLcXDvNO7JkNJI7O5JLMSSaAOj/4Qf/goX/0dB8Gf/DD6t/8ANRR/wg//AAUL/wCjoPgz/wCGH1b/AOain6/%2B1B/wT98Ka7e%2BFvFP7RHwc03U9Nu5LXUdO1DxdpUM9rPGxSSKSN5QyOrAqysAQQQRkVU/4a//AOCcH/R0XwR/8LbR/wD47XK8dgU7OrD/AMDj/wDJHvQ4V4pqQU4ZfiGmk01QrtNPVNNUGmmmmmm00002mmWP%2BEH/AOChf/R0HwZ/8MPq3/zUUf8ACD/8FC/%2BjoPgz/4YfVv/AJqKfoH7UH/BP3xXrtl4W8LftEfBzUtT1K7jtdO07T/FulTT3U8jBI4o40lLO7MQqqoJJIAGTV79qv4l/Cr9lD9m/wAa/tJeKfhcuraf4K8PXGq3Wm6RogmuLlYlzsRY42IycZcjai5dyqqzDWlXoV03TmpW7NP8mzz8dleZ5XOMMbh6lJyV0qkJ021tdKcINq%2Bl0mr6XvoZ3/CD/wDBQv8A6Og%2BDP8A4YfVv/moo/4Qf/goX/0dB8Gf/DD6t/8ANRVDSf2s/wBj/XPG8vw10vw1r8viG28OLr2oaL/wprXVutPsHju3iluo208NatL9huVijmCSTPGI41d3RWdpn7Tn7MHiaTw7/wAIrplgh1nx1N4VvbDxL4S1HR9Rsb6PRrrVzC1lc2AmSU2tusyrcLbxvDJ5iysxijm1OEu/8IP/AMFC/wDo6D4M/wDhh9W/%2Baij/hB/%2BChf/R0HwZ/8MPq3/wA1FUPgp%2B1/%2Bwv%2B0Fo03iP4beJtL/s6Lw/p%2Bupf%2BIvCN3osFzpd8zLa3sEmo20C3NvI6lBLEXUPhCQxAq7%2B0b8RG%2BFev%2BD/AIafCD4AeGvF3jPxte3iaVpetaqukWMFrZ2rXFzcz3SWd06AfuYlVYXLSXEediB3UAd/wg//AAUL/wCjoPgz/wCGH1b/AOaij/hB/wDgoX/0dB8Gf/DD6t/81Fc9r/7Unwtg/Yt8Nftf%2BE/gpZXg8Xjw7b6N4d1QwWfkX%2BsX9pp8EF3ciORbeOK5vEWaVVk2rHIUWQ7VbirX9txfEV9ZfCzwT%2BzN4CvPiUni7xBoHiLRr7xyttoWnT6Pa293c7NUGmvJOzQXlo6Rm0jb5pvM8oQOaAPVv%2BEH/wCChf8A0dB8Gf8Aww%2Brf/NRR/wg/wDwUL/6Og%2BDP/hh9W/%2BaivLvFv7Y2r3fwf%2BE/7RnwL/AGWvAPinwT8XJPC0GgjVvGsmnayJ9ZmiUotpFpFzBIttBI1xI32lfkt58AbAW6q4/ag8H6l%2B2fP%2ByJ4C/Z70zWY7bwNrWrS%2BLGu4YIG1nTpNK8zR0jMDbiItXtJJLjeFjLiPa7CQRAHT/wDCD/8ABQv/AKOg%2BDP/AIYfVv8A5qKP%2BEH/AOChf/R0HwZ/8MPq3/zUVU/Z7%2BJ198Sfif41%2BB/xi/Z68I%2BGfFPgqw0jULweGNeGt6dNbaiLvyVFxLY2ciXCGzlMkLQ/KkkDh2Eox654MGzQzApOyG%2Bu4ogTnaiXMiqv0CgAewoA8u/4Qf8A4KF/9HQfBn/ww%2Brf/NRR/wAIP/wUL/6Og%2BDP/hh9W/8Amor2aigDxn/hB/8AgoX/ANHQfBn/AMMPq3/zUUf8IP8A8FC/%2BjoPgz/4YfVv/mor2aigDxn/AIQf/goX/wBHQfBn/wAMPq3/AM1FH/CD/wDBQv8A6Og%2BDP8A4YfVv/mor2aigDxn/hB/%2BChf/R0HwZ/8MPq3/wA1FH/CD/8ABQv/AKOg%2BDP/AIYfVv8A5qK9mooA8Z/4Qf8A4KF/9HQfBn/ww%2Brf/NRR/wAIP/wUL/6Og%2BDP/hh9W/8Amor2aigDxn/hB/8AgoX/ANHQfBn/AMMPq3/zUUf8IP8A8FC/%2BjoPgz/4YfVv/mor2aigDxn/AIQf/goX/wBHQfBn/wAMPq3/AM1FH/CD/wDBQv8A6Og%2BDP8A4YfVv/mor2aigDxn/hB/%2BChf/R0HwZ/8MPq3/wA1FH/CD/8ABQv/AKOg%2BDP/AIYfVv8A5qK9mooA8Z/4Qf8A4KF/9HQfBn/ww%2Brf/NRR/wAIP/wUL/6Og%2BDP/hh9W/8Amor2akkkjiQyyuFVRlmY4AFAHjX/AAg//BQv/o6D4M/%2BGH1b/wCaij/hB/8AgoX/ANHQfBn/AMMPq3/zUV6Frfxl%2BEHhosPEfxW8Naft%2B99t123ix9dziuC8af8ABQb9hn4fRNJ4q/a3%2BHsLKMmC38V2txN/37hdn/Suepi8JRV6lSMfWUV%2BbR7GC4e4gzKSjhMHWqN7clKrL/0mm/zIv%2BEH/wCChf8A0dB8Gf8Aww%2Brf/NRR/wg/wDwUL/6Og%2BDP/hh9W/%2BaivNtQ/4LUfsDS3b6X8PPHPiTxtexnDWfg/wPqV05PoC0KIfwbFQ/wDDzn4o%2BLvl%2BDf/AATL%2BPWrhv8AVXHiPw9DokEvoVkmkb5ffFcTzzKW7QrKX%2BHmn/6TGX5n08fCzxBUVKvl86C713Tw6/8AK9ak/wDyVnp//CD/APBQv/o6D4M/%2BGH1b/5qKt/srfEb40%2BMNY%2BKHgT46a/4X1bVPAPxCi0Oz1Xwn4audJt7q1l0HR9TVnt7i9vGWRZNRlQsJdpWNDtU5z5MP2o/%2BCrfiIbvD/8AwS90bRY2/wBXL4g%2BMthKcdiyQR5X6da6H/gnZq/xl17XPjzq37QPhDSNA8XTfGaA6tpGhag11a2%2BPCPhsRBJWAL5hEbN6MzDtW%2BGx9HF1HGEZrS95QlFffJLX5HkZ3wlmOQYVV8TXw8rvl5aWJoVprRu7jSlO0dLNuVk7LqfSdFFFdx8uFFFFABRRRQAUUUUAFFFFABRRRQAUUUUAFFFFABRRRQAUUUUAFFct8bfBFj8RvhRrvg3Utf17S4LuxJe%2B8M6/daXfR7CJB5V1aSRzQklApaN1YqWGRmvIf2bfEejeMv%2BCWHwz8c/tA/FrWNOsrz4H%2BH9V8ZeNJfFlxYXqp/ZVtPdXcuopIs8Tth2ecSLJ8zHcCc0AfQ9fMH7QGsf2Z/wVk/Zqst%2BP7Q%2BF3xMt8euJfC8uP8AyF%2BldX/wT%2B0/4hR/CTW/Efim48Wp4b17xfc6j8NNK8e6td32t6d4deC3SBLya9d7kvLPHdXaR3DtNDFeRQybWiKL4X%2B0x8SfEd7/AMFtf2UPDGsfCjxBoNla%2BHviXaWOu6rc6c9rravYaTIXtVtruWdFQxKGFzFAxMi7Q3zbebFz9nR5vOP4yiv1Pc4ew/1vM/Zf9O6z/wDAaFaX/tp90UUUV0nhhRRRQAUUUUAFFFFABRRRQAUUUUAFcT4r%2BEXwn%2BNEGr%2BFvjF8MPDvizTLfxBFdQad4m0WC/gjnWyhRZVjnRlDhXdQwGQHYZwTXbV5P8d/2rfgF%2Bx94a1H4l/tF%2BPf%2BEd0S%2B8Vw6Za3v8AZd1d77p9PSVY9lrFI4ykMp3FQvy4zkgHHETw9OhKVdpQS15rWt530t6jWPllT%2BtxrOk6evOpODj0upKUXHfdSW%2B%2Bon/DA/7Cv/Rlnwl/8Nzpn/xij/hgf9hX/oyz4S/%2BG50z/wCMV5J/w/N/4JZf9HRf%2BWTrn/yFR/w/N/4JZf8AR0X/AJZOuf8AyFXi/XuFf%2BflD/yn/kaf8RSxP/Q9n/4WVf8A5oPpL4afCL4T/BfQpfC3wd%2BGHh3wnplxdtdT6d4a0WCwgknZVRpWjgRVLlURSxGSEUZwBXiv7Sv7C/iv48eLviVqfh/4z6boWj/FX4X2HhDxLp174QkvriFrKXU5La7tp1vYVQZ1OQSRPFJvESbXjJYn0n9mj9q34Bftg%2BBLv4l/s6ePf%2BEi0Sx1eTTLq9/su6tNl0kUUrR7LqKNzhJojuClfmxnIIGP8Sv2y/hh8K/FniXwL4l0HXn1jw5L4Yjj0%2B1tYGk1b%2B3799O09rTdMocG7imicuY9nkux%2BQBj7WHnh6lCMqDTg1py2tbytpb0M3j5Zq/rcqzquprzuTm5dLuTlJy23cntvoeVftff8Ex5f2rPj1b/ABlufil4ds4oZfDE1vHr/wAO01jUtHk0fVjqBGk3r3cY01LvIiuNsLu4UEOMBRseHf8AgnYug67qutn4vib%2B09B%2BJmm%2BX/wj23yv%2BEu8RQ6zvz9oOfsnleRt48/dvzFjYea%2BPX/BWP4d%2BDvDfx78DfDTSreP4l/CP4S%2BLfF%2Bk6ZretaTqFpqB0WH5zNDpepTXVsnnS2uYbpbSZ0mOwZSTy%2B81b9vDQfD/wAR/Enwp034deK/GviXT/iBc%2BH9L8M%2BE9Gs4Low22iaZql1cmW81BIZYYl1GEGVmgdnnjhSB2USS7CPVPgz8PvEfws8CaR8O9T8U2WqWGg%2BH9O0zTZINJe2mP2e2WGSSVjPIr72QMqqqbAdpMn3q8c%2BDv7Cvjn4P%2BNbPxBZfHTTNQ0zwVoXiLTfhFo114MdRoQ1a7iuWbUJFvgdTFuIIreJYxZnyPMDs8jCZey/Yg/aR1T9p79mX4efF3xZo5s9c8W%2BAdN8RajFY6JeW9hGbpCdkUkwZQwKtmEyNKgKlwAyk%2Bd%2BCf2xvjZr3x50GXVtN8LD4beMfjF4k%2BG2g6fb6bcrrVnf6PaapK%2Boz3TXJhlhln0S/iFutujIstu5lf51ABueKP2G/EHiP46X/jdfjJbQeB/EHxC0Tx54p8Gf8IwWu7zxBpVpZ29rJDf/AGoLb2pOm6bM8Bt5HaS1JEyiVxV/4S/s4ftL/Df42fFv4uap%2B0F4F1KH4jbLjRtMt/hde27aNeW9rFaWUk0p1qQXkSQxDzYlS3aVyWSSAfJXKftNftjfG34V/FPxi/w80zws3g34TaL4b1Px3bazptzNqOsR6pfXEU0djNHcxx2jW1rb%2BeGkiuBPJKIsQhTIbXjb47ftbeAP2vn%2BE1t4m%2BHXinwxD8PPEHjHUdIt/B93pOoaXawSRwaVaS6lNq01u0lzM8wMxtY0KWFw22PgAA0PgJ%2BzJ%2B1/8Af2fk%2BEegftP/Dm91qHxdqOqwa5dfBy%2BFobS%2Burq8ntXtBr%2B9pBc3RKTLcKFjjCNG5Jkrj/AIhf8EsdK%2BI/wB8Jfsy%2BJ/GHgrVfDWlaVf2PiHVfEHwtivdcZL%2Bd5b0aNeG7WPQ1kSWWFAsNwYY/LCMDGrV5n4B/4KlftIeIfgp4s8ZX2keHLrUdMtvAc9lf/wDCrdd0yaxGv301tdKuhXN21/rkdskaPBcWUiR6i8jxW%2BXgkz3umftsftReIP2XfAv7Q%2Biy%2BA1WT46aZ4K8ZW2oeENStp9S0%2B88Z2fh1J7ezlvln0S78q5a4e2vPtEkLqIpIwd20A9O0H9lv452H7aOpftReJPjr4S1vRJrIaX4d8MX3w6uRe%2BG9J8pDLaWV6uqiGN57lEnnna0Z5RHFEcJDFsqfAT9hpvg/wDGbxP%2B0NqGqfD6PxZrGh3Ol6TL4E%2BFy6BZ26XFwlzcXV5ELyeTULuaWG0MkzSxgraoESMs7M39pT9o341/Az9of4feFtI1HRNR8N%2BNvFOnaOdCn%2BHOqpJBHPIY5rl/EQu/7Nt5E5eOzlgE1wUEURZ5FI8nu/8Agp58V/hl8P7v9o74v%2BGfC154D8QfDfxp4v8ABGkaNa3FpqNhHoU0XkW19dTXEsVw15bSiUyJDAts6GMiYHzAAe6%2BAv2bfi98CP2ZPBXwC/Z7%2BM3hyy1Hw1p6W%2BueI/GngWfV012ZkZ7u7e3t9RszFPPdPJcM3muoMjrtOQw43Wv2CvifP%2Bzr4a/Y%2B8PftF6Va/DnTfDun6Z4gF74DefXLuS3ufPknsb1L%2BODTt22NYl%2ByTfZ/LBjOQu3iNc/b6%2BM3h/4HReIbP4keEPEPiif4iaZoOrnS/gh4lt5/DVtd2klwsn/AAj015/amslzGoie28kSRStOI9lvLnKsf%2BCi37QuqeGfhZ8QfE2s%2BEvBHg7xF4V1nUPGvji8%2BEeva5plnc2erw2UMc8lpfRJ4eEtuZ55F1CRjavG8Mrb4ZMgHqVl/wAE/NR0X47J8RfDXxW0qw8MWfxM1P4iaboEXgzOop4jvtKuNOnebUftYE1oRdTTeQLdJS2xDOYl8s7Phn9mj9pvRvHHiz456n%2B0f4Kn%2BIXiDw7pOhafe2fwsurfRLWxsrq6uMz2B1h57qdzeToJPtkaxjZtQfvPM5fS/wBuvUPFf7bmvfAK1%2BIHhvw54e8J%2BMrXwpcWereAdWvLjXtTl0m31HZFrEU8Wn6ZIRdpHFazpNPObeVlAV4zXJfseft0ftPftVeOtV%2BG8s/g7QdRvPA1zrmlzX3w61aGHQ7qLUltfsyPPqEcfim22M27UNNkht0ZI8n/AEmJQAdd4g/4J8eNNc%2BDEvw4vfiX8OtW1fWPG%2BqeKfEGs%2BLfg2mq2tpf3rE%2Bdo1lLqAXTJYslo5JXu8uzvIJGdsyeOf%2BCZ3gLxdffDLwdap4HtvAnww0jQNO0aC6%2BHSXXilbbSJo5YLSHXHuv9HtJDb26zRLal3QTKJV83K8n8NP2vf2yPiBoGjeEbTxF8M5tf8AG/xq8R%2BF/BnjNPAmoRaWmh6JaXP2q/l046u8txLJfWFzBEEvI0aGWKbkKVkwrX/gqr4l8Vat4Q8K3PiTwn8O7uHwDZ%2BJPiNquueBtY8Q2MDy6tf6U8MT2M8C6daLcaVeltRvZPKjWS2BQl2KgHsPxM/Yg8VftD/Ea71r9o/4raDqvhaHw74m0PQdA8KeCJNKvI7LWofs06Xl7LfXP2orb8ARRW6NLiVkJVFXmrr/AIJxeOPGmlal4p%2BMv7QWkeJfiEsvg8%2BF/FC%2BADb2Gnr4avbi%2B08z2DX0hupJJ728Nw6Twb1nAiFuY0Ya/wALP2p/i7rv7aXir4G/FjxNonhnRbfxPc6b4A0C/wDhPrdpc%2BJ7aLS7e7Nxa69PdjT7uRXa7LW8EDSCO1ckAIzjrf2Ofi78cPiVdfFLwd8fr3wpd6z8P/iY3h62vvB%2Bi3Nha3Fq2jaVqSForm6uXMitqDxlw4VxGrBEyRQBd%2BDHwFvv2fPgV4p8O674wg13WNe1bXPEWvajYaR/Z9o97fyy3Eq21r5sxt4QWwFaWRydzu7s7E1PHH/KQv4X/wDZGfHn/p28IV6l45/5EnWP%2BwVcf%2Bi2ry3xx/ykL%2BF//ZGfHn/p28IUAezUUUUAFFFFABRRRQAV4L%2Bx/wD8m9av/wBl78c/%2BrA1Wveq8F/Y/wD%2BTetX/wCy9%2BOf/VgarQB1mv8A7E37GXivXb3xT4p/ZH%2BGOpanqV3JdajqOoeAdOmnup5GLySySPCWd2YlmZiSSSScmqn/AAwP%2Bwr/ANGWfCX/AMNzpn/xivO/H/8AwWU/4JufC/x3rfw08dftHfYdb8O6vc6ZrFl/wiGsS/Z7q3laKWPfHaMj7XRhuVipxkEjmsj/AIfm/wDBLL/o6L/yydc/%2BQq8GeN4YU2pTo3u739ne/W%2Bm973NP8AiJuJofulnk48ulvrdVWtpa31hWta1rK1rWVrL2bQP2Jv2MvCmu2Xinwt%2ByP8MdN1PTbuO607UdP8A6dDPazxsHjljkSEMjqwDKykEEAg5Fa37TXwTsv2k/2dPHf7Peoa/LpMPjfwjqGhvqsEAlez%2B1W7wiYISA5QuG2kgNtxkZzXjXgH/gsp/wAE3Pih470X4aeBf2jvt2t%2BItXttM0ey/4RDWIvtF1cSrFFHvktFRNzuo3MwUZySBzXuPx1%2BMPhz9n34PeI/jf4y0zUbrRvCulS6nrKaVCkk8VnEN08wV3QMscYeVhnO2NtoZsKfQwNbLa0JPByg0nryctr%2BfKlrbuTLiSpxJ%2B9njXieTS7qyq8t9bXlUqWvvZNX3t1PI/EX7E3xC8f6D8XZfHvx9tYvEnxb%2BHem%2BGb7WvCfhWbTYdNksxqIW5iikvp5GRxfgNEZgcRNiQeYNnDfBH/AIJTRfCLxFD4mh%2BJPhCw2/FweOX0HwF8L49A0iBh4RvPDhs7a1S8lMIb7ULtpWeRmdGUj5w6ei/Gf/goh8Hfgtpfi7XNU8N6nqFj4K8W2fhvWNRHiDQdKtHv7jTYtRCQ3Gr6lZwybIJ4AwD798wVFfZIU5G1/wCCjuk%2BKfH0d/4JuLS48Ba54M%2BEmu%2BEdVi0KSe8uv8AhMPEGraaVmR7uFY4xFZ2ZVgC8DSTOyXOFgruJOr%2BBv7FHiH4BR%2BBLvwj8XLK5v8AwN8DdK%2BHVvLqHhd2hu/sckDG%2BaNLtWXesLAQhzsLg%2BY23a3WftG/ALxx8VPEHg/4mfB/4n6d4R8Z%2BCb28fStU1rw0%2Br2M9reWrW9zbT2qXVq7g/uZVZZkKyW8ed6F0bzDwb/AMFGj8TP2ivB/gjwh8H/ABNZeAfEfgrxZr9p4s1TQlnbxDDpNxp0Mc%2Blx2VzNOY3%2B1St5U9uk8waBoUIJz6T%2B1J8aPiB8PdG8C%2BFvg4mkQ%2BKPiT43t/Duhah4n0ue4stNzZXmoT3M9rHNbyzbbWwuAsQliJkZAWUZoAp%2BHf2WNY8Bfsu2v7K3gzxT4X1DQ9M8D2GhWP/AAnfgltYjvJ49wu7nUIFvII7uO4TbmBBDscyNvdXVE87s/8AgmvF4b/Z5f4L%2BEb34SPeat4ym8SeI5/E3wPh1HRku3gS3iOmaSL%2BKPTjbwQ20UBeS42pB84lZ2c9DpX7XXxTf9gnxr%2B0e/w7stY8ceBf%2BEr0y%2B0TR4bgWeoanoepX2myzQxgyTrbyyWRnEQMkqxvsy7jJ5P4I/tmfEf49eD/AImaP4K/aa%2BEF1f/AAw1Cyu9Q%2BKWl%2BBr2%2B8M6jo8%2Bnm6Zo7ZNZVklhkSeN5FvZox5ByodmjiAPSPCv7FHhPwVe/A3RPD/iu4/wCET%2BBOgXNr4f0C8tRLNe6gdPj0211GW43Ab4rOTUUK%2BWfMe/L7k8va/L23/BND4Z%2BCf2mdJ/ag%2BCnjzxR4e1XSdG8XpFo2peMde1TS5NW166s7uS%2BNnNqYgSFZ4J5JLOONY55LiOQlHtoWXwv4o/8ABTH9sv4Ufs3/AA2%2BJPi7wn4Qs/Enif4Pan471W3h%2BHOsX1tPJHJbvaaZNFbX7N4ejNvdRi41W%2Blls4JA24gLg%2Bv%2BHP29NR8b/tnax8Drfx94Y8N%2BHvDPiyz8L3FlqXgbVr%2BbXtTn0i31Ly4daini07TnxdpHFbTJNNcfZ5GVVWSM0Ad5%2BxD%2BzL8Wv2X/AAXq/hn4tfGPw3471LWdSGqan4o0vwPcaRqOralICLq8v3m1K8W4dwsCRpEsEdvFAsUaeWsaR%2Bs%2BD/8AkEzf9hW%2B/wDSuWtSsvwf/wAgmb/sK33/AKVy0AalFFFABRRVHxJ4o8NeDtHm8Q%2BLvEVjpVhbjM99qV2kEMY9WdyFH4mk2oq72LhTqVZqEE23okk22%2BySTbfkk2XqK%2BZfiL/wV4/YZ8FayfCHg74l3nxE8QtkW/h74Z6PNrVxcEdkeEeQTnj/AFg61z6/tTf8FOvjmc/s8fsHaV4E0yQf6P4g%2BNniIwyMD/e06z/0iMjryT%2BleZPOcvUnGnJ1JdoJzfz5fdXzkj7mh4acYSoxr42hHB0nqp4qpDDRa7xVVqrJf4KEv0PrqoNT1XTNEsJdU1nUYLS1hXdNc3Uyxxxj1ZmIAH1r5OH7Hv8AwUf%2BLJ8748/8FJJvDlrJ/rNB%2BE3g%2BCxEfrsvpiZ/YZX3qxpn/BGf9j7Ur%2BLWfjjqnxA%2BKt/C29b34j%2BPby9bf/eKxNEh%2BhUj2qfrmZ1f4WGt5znGP4R55Gv%2BrXBGA/5GGeKo1vHC4erW%2BXtKzw1L5pNdVc7b4o/8FQ/%2BCffwdkkt/Gv7V/hJp4siS20S9bVJUP8AdKWSysD7EZrgx/wV1%2BH3jD5P2fv2TPjn8RVf/UahoHw8lisW9C09wybAfUrXvPwt/Za/Zr%2BCMcafCH4CeEPDjx4xcaR4et4ZmPq0qpvY%2B5JNd7R7HOqvx1oQ/wAMHJ/fOX/tof2n4Z4HTD5biMS%2B9fExpRf/AG5hqTa9Pav9T5J/4as/4KifEL5Phh/wTT0/w1bv/qtV%2BIPxLtV/76tbZfNXH1pV%2BH3/AAWi8efvvEf7QnwS8Ao/SHwp4UvdUeIe5vSFLfTivrWij%2By5z/i4mpL0koL7oRX5i/18wuG0y/JsFR85Up4iX/gWIrTX/klvJHyWP2FP28PEw3/Er/grP4xmLffTwt4B03SAo9AYyx/HrR/w6jbWP3njv/gof%2B0vrDN9%2BFfid9mtz/2zjg4/OvrSij%2BxMtfxxcv8U6j/ADmH/EUONIf7vWp0f%2BvWGwlP/wBJwrf4/M%2BTB/wRo/ZXuvm8Q/EH4sau5%2B/LqXxMvmZvrtZaT/hyh%2BwY3zXHhjxhK3d5PiFqhJ/KevrSij%2Bwsm64ePzV/wA2w/4it4lL4c3rr/DPl/CMIr8D5M/4cnfsDf8AQoeLf/Dg6p/8fpU/4Ii/8E453DeIPg7rGsKpykeqeOtXdV/Bblf1r6yop/2Fkv8A0DQ/8BQf8RX8TumdYlelaaf3qz/E%2BcNE/wCCRH/BNvw/gWH7JXhuTb0%2B3SXNz/6OlbNd34M/Ya/Yx%2BHswufBf7Kfw80%2BdTlbqHwhZ%2BcP%2B2hjLfrXqlFb08sy2i7woQXpCP8A8iePjOOONsxi44rNMTUT3UsRWafqva2f3EOn6bp2kWiafpVhDawRjEcFvEERR7AAAVNRRXckkj5iUpSbbd2wrxn9l/8A5Lf%2B0d/2Wax/9QrwvXs1eM/sv/8AJb/2jv8Ass1j/wCoV4XoEezUUUUAFFFFABRRRQAUUUUAFFFFABRRRQAUUUUAFFFFABRRRQAUUUUAY3xB%2BHXw%2B%2BLXg6%2B%2BHfxU8CaN4m8P6pGsepaF4g0uK9s7tAwcLLDMrJIAyqwDA8qD1FcdpP7GX7H2gfD65%2BEmhfso/DWy8KXlk1neeGbTwLp8enz2zTCZoXtlhEbRmVVkKFcF1DYyM16VRQBzHwo%2BCfwa%2BA/h2bwf8DvhJ4Y8GaTcXrXlxpfhTQbfTraW4ZERpmjt0RWkKRxqXIyQijOAK%2BO/%2BCi%2Bp/2L/wAFZ/2IdT3bc3Hjm1z/ANdotFix/wCPV911%2Bef/AAV01M6L/wAFJP2HNU3Yz451i2J/67X3h6L/ANmrzc3lyZfOXZx/9Lpn2vh3Q%2BtcYYej/NGuvvwuL/yP0Mooor0j4oKKKKACiiigAooooAKKKKACiiigArK8P/8AIW1z/sKJ/wCklvWrWfe%2BGNIv7t7%2BQXMUsgAke1v5oN%2BBgFhG6hiBxk84oA0KKy/%2BEP0n/n71X/weXf8A8do/4Q/Sf%2BfvVf8AweXf/wAdoA1K8p%2BKv7Hnwq%2BMH7Rvw9/ac8UX%2Bsxa58ORef2fp9jdxpYaoZoysRvomjZp/szNJLBtdPLkkZvm4x6F/wAIfpP/AD96r/4PLv8A%2BO0f8IfpP/P3qv8A4PLv/wCO0AfNWof8EkvghrGl%2BIfDOsfGj4k3Oh638PfGfgzTtCfUtNW20HS/E80U2pfZNliJHmEkKGOa5e4ZeQ5kGAO18VfsE%2BAdZ8far8WfCXxY8b%2BEvFmqeM7nxEfEXh27sDPbNc6TYaVc2UaXVnNEbWWDTbR2V43kWWMOkiEKF9g/4Q/Sf%2BfvVf8AweXf/wAdo/4Q/Sf%2BfvVf/B5d/wDx2gDk/wBnL9njw/8AsxfCvwt8FfAfjXxBfeG/CHhOy0HSLHW5raZvLtgyrcySpAkkk7qVVyW8siNSqKxZm5fQP2Hvh14d%2BOa/Gqz8e%2BK5Le08Saj4k0TwVNdWh0bSNdv7WS1vNUt1FsLnz5Yri7BSSd4Va8uGWJWkJr1T/hD9J/5%2B9V/8Hl3/APHaP%2BEP0n/n71X/AMHl3/8AHaAPIfiR%2Bwf4E%2BKvjSz8a%2BLfiz41Z5tK0TT/ABvp9tPp8Vr41j0m7e7sjqSLZ5UrPLMz/YzarKsrRSBogsa9Vf8A7LHwu13xT8TPFfisahq8vxX8PWmgeJre%2BuVEcWk29tcQJY2/lqrxxZvLyY5Zm827lIYAqq9p/wAIfpP/AD96r/4PLv8A%2BO0f8IfpP/P3qv8A4PLv/wCO0AeBwf8ABNPwBLp1xc%2BJf2gfiXrfidI9Ai0DxzqV9pY1PQYtGuJ7iwjtlh0%2BO1cLJdXJc3EE7TiYrK0gCBZvGn/BOjw94s%2BDFj8GtN/ab%2BJuhCP4gweNtc8SaX/YUmo6/rkGq2%2BrQXN0bvS5oEEd5a27rFbQwR7YhGVaPKV7t/wh%2Bk/8/eq/%2BDy7/wDjtH/CH6T/AM/eq/8Ag8u//jtAHm3jr9ktvih4t0bWPiP%2B0R4/1jQNG1jR9YXwPP8A2RDpl3qWmSw3FrdzNBp6XZYXdvDdGJLhYTLGP3YT5K5fTP8Agmp8BYn8Q6V4p8R%2BKfEXhvWfDXiHw/pfg7Wb62/s7w7puuXCz6pb2PkW8c4ErpGFaeWZoEQRwtEmUPuP/CH6T/z96r/4PLv/AOO0f8IfpP8Az96r/wCDy7/%2BO0AeGzf8E6/CN9cf8JlrP7RHxKvvH8PiSw1rTfidc3GkDV7CWzsLzT4IY4k05bAwi11HUImSS1cv9tlZiX2ssmu/8E8/CWtfBT/hnOL9oT4kWPgrUrXVYfG%2Bh2lzpX/FXtql5cXmpy31xJp7XEUl1Nd3RkNlJagCdggTC7fbv%2BEP0n/n71X/AMHl3/8AHaP%2BEP0n/n71X/weXf8A8doA8r1/9hz4beIPjPJ8WX8ceKLXT7vxbp/irVvAtnPZpo2pa7Y2sFtaajLm2N0JI47Wz/dx3CQM1pEzRM24tS%2BAn7A/gH9nvU9N1Dwz8W/HGqJ4X8DXHg74eWmuXdhJF4O0SaS1d7Sx8qzjaUZsbACS8a5k22US7iN%2B/wBh/wCEP0n/AJ%2B9V/8AB5d//HaP%2BEP0n/n71X/weXf/AMdoA8puv2GfhvZ/A74bfBT4fePfFfhKT4Srbf8ACD%2BL9DuLOTVrSSOxmsJJZDeWs9vctPb3E4m82B1dpTIAsio6854o/wCCYvwJ17wLY/DPRPGvjLQNCPgGPwV4usdI1C0Y%2BMNBWSWQ2epS3NtLKd73N6zTW7wTMb64/efOMe8/8IfpP/P3qv8A4PLv/wCO0f8ACH6T/wA/eq/%2BDy7/APjtAHn99%2By1B4i%2BOWi/Gvx78b/GviKHwtrVzq/hHwdqR0yPSdFvprO4smni%2BzWUV1MVtru6jQXNxMqidiBuVGWD9nD9lG6/Z18aeOvGr/tHePfGknxA15da1ix8XW%2BiJBBfC1trPzoP7O020df9Hs7aLa7umIt23ezM3o//AAh%2Bk/8AP3qv/g8u/wD47R/wh%2Bk/8/eq/wDg8u//AI7QAnjn/kSdY/7Bdx/6LavLvHH/ACkL%2BF//AGRnx5/6dvCFeonwZob4Wdr6ZMgmK41a5kRvZlaQqw9iCK8u8cf8pC/hf/2Rnx5/6dvCFAHs1FFFABXmH7W3xk8ZfBj4YWF98NbPTJfEviTxhovhrQJNbgklsrW41C/htjdTxxSRvLHDHJJN5SyRmUxCMPHv3r6fXG/Hj4JeGv2gfh1L8O/E2sanpe3UrHU9L1rRJo473S9QsrqK7tLuBpY5I98c8MbbZEeNwCjo6MykA8Tv/wBsf4z%2BGf2Q/iJ8SNd8PeHr3xz8N/G83hbW76w026TRgFvraL%2B2WtvOknS1hsruO%2BngEzMghmjExwJa8uuP%2BCofxL1XwFJa%2BAfGHgzxHeaX8aJvBGqfEjwb8N9Y8R6bf248Nx67FeadoOnXz314G%2B0RWrmC5mSMwzXBJiHH0z8Of2WB8Kfh7q3gbwX8evHEF1rkl5e6l4mlXSZdQm1a6unuJ9VJewMPnkuIxF5X2VIoo0SBQtcxL/wT88Gx6dp2raH8dPiBpnjmx8WXniO4%2BKFrPpb6zqN/dWS2E5uI5rCSweNrSK3gWNbRUjS1g8sIYwaAOo%2BAH7SWm%2BN/2PPB37Unxu1nw14Ug1jwZY614ivDrsI0vT2mhR3P2l32LGGbGWc7fuliRk8X%2Bwz4n8NeNf2WLjxh4N8Q2Or6Rqnxv8aXemarpl2lxbXdvJ4%2B1Vo5YpUJWRGUhgykgggg17B8E/hB4P8AgD8J9B%2BDfgFbr%2ByfD2npaWkl/cma4mxkvLLIcb5Hcs7NgAs5IAHFeefsPWFpqfwF1%2BxvoBJFJ8ZfiMGUkj/mdtaIORyCDggjkEUAe2UVlf8ACH6T/wA/eqf%2BDy7/APjtL/wh%2Bk/8/eq/%2BDy7/wDjtAGpVTXtC0fxRod74Z8RabFeafqNpJa31ncJujnhkUo8bDurKSCPQ1W/4Q/Sf%2BfvVf8AweXf/wAdo/4Q/Sf%2BfvVf/B5d/wDx2gD5%2B8E/8EwfhR8NPhH4D%2BGHw8%2BNXxH0rUPh9rep6ppfjldT0%2B51u8lv0miuhdSXNlJBJuim8pXWFJY0hiEbptJNjwN/wTE%2BAfw/8NeHvCuieLfGElt4a8NfDzQ7BrvUrZ5HtvBuq3eqaW0jfZxuklnvJVuG4DoqCMQsC7e8/wDCH6T/AM/eq/8Ag8u//jtH/CH6T/z96r/4PLv/AOO0AeIfDb/gnd4F%2BFPxE0v4geEvjr8RFXwv4b13QvAehXF5pslh4Ws9VmtppktENjvlMT2kHkm6e42Kmw7k%2BWvSPjn8A9E%2BO/g3S/Dmr%2BNNd0TVNA1q11jw94s0B7VdR0zUIAyrcxCeCW3YtHJNE6SQvG8c0ilMHjp/%2BEP0n/n71X/weXf/AMdo/wCEP0n/AJ%2B9V/8AB5d//HaAOL%2BG37Nth8IvhhD8K/h78VfFVhapp2rrcaiTYTXl1qmpXTXlxrUjy2jKb37TLcTABRbF7mTdA4EYTmbn9hXwBrvwV%2BIPwd8d/E/xl4jm%2BKrbfH/i7VLmxj1TVrfyIrY2h%2BzWkVtBbm1i%2Bz%2BXDBGNksrDEsjyn1r/AIQ/Sf8An71X/wAHl3/8do/4Q/Sf%2BfvVf/B5d/8Ax2gDyv8AaL/Yj8EftE69L4hm%2BKPjLwfNqHg658J%2BI08HXVlGmt6HO%2B97GcXVrOYgCZNs1sYZ0E0m2UZGILz9gr4UT/FSL4haf4w8T6fo3/CTaZ4kvvAFjcWi6Nfa1p9pBaWV/LutjdiSKK0swI0uEhZrSJmjZtxb1v8A4Q/Sf%2BfvVf8AweXf/wAdqG/8O%2BG9LspdS1PWL%2B2t4IzJPcT%2BIbpEjQDJZmMuAAO5o2Gk5OyV2bVZXg//AJBM3/YUvv8A0rlr5g%2BJv/BTL9ljRfFEvww/Z8g8afGjxmvA8P8Awxu7y/jiOcBprsSeRHHkEMys5XByKzbD4df8FVf2nbSO08Y%2BOfDn7OXg6QcaF4SK614kkjJyUlvXxDCxznzIvnBzkGvKnm%2BGlJwwydaS6QV0vWbtBf8AgTfkffYfw6zujQjic6qU8voyV1LEycJyXenh4qWJnfo1Spxf89tT6O%2BNv7S3wA/Zu0MeIvjt8XtB8LWzqWgGragkctxjqIosmSU%2ByKxr57/4ei%2BMfjZIbL9g79i3x58T4XOIvFmsRr4e0Fx/fS6vBulx1KbFJGMda7T4If8ABLj9j74La7/wnl/4EuPHXi%2BRg9140%2BJF82s6jNIP%2BWm6cGON/wDajRT719DoiRqERQqqMAAYAFT7POMV8c40Y9ornl/4FK0V/wBuwfqavG%2BHGRaYXDVcxqL7deTw9C/lQouVaS/6%2BV4X6xWx8jf8Kl/4K8/Hj5viV%2B0t8P8A4OaTN97TPhz4dfVtR8v%2B49zekJG/%2B3FkDsO1XvDf/BHr9la71iHxb%2B0Nrnjf4x67Edy6l8TPFtxeojHqEgjMcQTsEZWAHFfVlFNZLgZO9dOq/wDp5Jy/8ldor/wEzn4mcV0YOnlcqeBg9LYWlCg7dnUipV5ed6%2BvVdDn/h38Jvhb8IdFHhz4UfDfQfDNgAP9C0DSIbOI46ZWJVBPvXQUUV6kIQpxUYpJLotF%2BFj4XEYjEYutKtXm5zlq5SblJvu3Jybfm2worH8U/ET4f%2BBk83xr450fR1IyG1TU4rcY9f3jCvOvEn7f/wCw14RZo9f/AGv/AIawyJ96FfGllJIPqiSFv0rKrisNR/iVIx9ZJfm0cFbGYPD/AMWrGPrKK/OSPXaK%2BZPFP/BY7/gmz4UQ%2Bf8AtQ6XqEpbbFbaJpl7fSSseiqIIW5P1A96xB/wVs8PeJ/n%2BDf7D37QvjO3b/V6ppfw3aGyf0xLNKp/Na4pZ1lMXZV4t9ovmf3RUjz5cRZHGXKsRGT7RfO/ugps%2BtqK%2BSv%2BG/v20Nc/5EX/AIJM/ES4z9z%2B3/FenaXn6%2BZuxSN%2B0F/wV98bYtPCv/BPnwJ4Jd/u3njP4qw6lEn%2B8lggc/hS/tnCP4Izl6U6n6xivxJ/1gwMv4cakvSjV/NxivxR9bUV8kr8PP8AgtVqg/tjUP2ifgVpdy3XRtN8J389on0llIlP40v/AAh3/BbW5/0Gb4yfs820Q/5frbw9qzzH/gDnZR/ak/8AoGq/%2BAr/AOT0%2BYf2zU/6A63/AIBH/wCWafM%2BtaK%2BSh8Af%2BCv15/pF1/wUB8A2Tt1t7P4VRSRr9Gkfcfxo/4Z9/4K9RfNH/wUK8CzH%2B7L8JoVH/jr0f2liP8AoFqfdD/5YH9r4r/oCrfdT/8Alp9a0V8lf8Kd/wCCyVj81r%2B2R8J74/3b34eyxA/9%2B2prfAr/AILB%2BOT/AGZ4t/bl%2BHHgy1HDXvgr4cm%2BuZV75F8wVD2yvTrR/adbZYWrf0h%2BftLB/bGI2WCrX9IL8fa2R9b0V8kr/wAEwPibr4%2B0fET/AIKg/tFXdzJzcN4c8Xw6TCx/2Yo4XCD2Bpf%2BHPvwgvv%2BRs/ap/aB17P3v7Y%2BK077vrsjWj63msvhwtvWpD9IsPr2dS%2BHBW/xVqa/BRkfWtFfJX/Dlr9jBvmnvviJK5%2B9JJ8R9R3MfU4ko/4ck/8ABP8AvPl8S%2BCPFWtJ3j1T4gaq4I9PkuFo%2BsZy/wDmHh/4N/yph9a4ge2Fh/4O/wAqR9I%2BM/jL8IPhwjSfEP4q%2BG9BVRlm1rXbe1AHv5rrXkv7EXxB8B/FP4iftCeO/hl400rxDol98Z7UWWsaJqEd1a3Hl%2BDvDMT7JYyUfbIjqcE4Kkdqy/Bn/BIL/gmv4DkWTRP2SvDs5U5H9sz3WpD8RdyyA1rfsTeAvA3wx%2BIv7QfgX4beDdK8P6JYfGSzFjo%2BiafHa2tuG8GeGXbZFEqouXZmOByzEnkmujDSzKU28RGEY/3XJu/q1FW%2BVzqwks3nUbxUacY22jKcnf1cYxt8rnvlFFFdp6IUUUUAFFFFABRRRQAUUUUAFFFFABRRRQAUUUUAFFFFABRRRQAUV57%2B1dafAO9/Z38V2/7UEnhdfAh03OvnxrPBHpe0SKYhcNcERbTMIwA5wW2jnOK%2BRPAvxk%2BHvxF/4IU%2BBNG%2BE3xV0nXZLH4I%2BEovF1p4U1yO6vLfR7dNOt9cUrbO0iNHareROAA6OCvDDFAH37X5y/8ABbf/AEH9q79lrxZ0/sHW9R1Df/d2674UTP8A5Er6B/4Jun4XGb4xf8M2HQ/%2BFQ/8LOi/4Vt/wiflf2J5P9g6T9u/s3yP3P2X%2B0PtefJ%2BT7R9qxzur5d/4Lgal8V0%2BIOgeIPG3gvw9p2heGfBur3/AIa1TSvE895d3qDxV4KSR7m3ksoUtCu9MBJrgNuOSuBu8nPdMmrvtFv7nF/ofoHhTr4kZVD%2Besof%2BDI1af8A7kP07ooor1j8/CiiigAooooAKKKKACiiigAooooAKKKKACiiigAooooAKKKKACiiigAooooAKKKKACiiigAooooAKKKKACiiigAooooAK8Z8cf8AKQv4X/8AZGfHn/p28IV7NXjPjj/lIX8L/wDsjPjz/wBO3hCgD2aiiigAooooAKKKKACvGf2D/wDkiGuf9lm%2BI/8A6mut17NXjP7B/wDyRDXP%2ByzfEf8A9TXW6APZqKKKACiiigAooooAKKKKACgkAZJwB1JryP8Aam/be/Z5/ZA0i3m%2BLPi5pNZ1HC6F4Q0WH7Xq%2BrSE7VSC2Q7jlvl3ttTOAWBIr49/aA%2BL3j745ad/wkH/AAUb/aCsf2cPhLdJ5lr8I9H1jf4s8R2x6fbzCrTRxMPvQRRk4Yq6qwD15GOzjDYNuEfemt1dJR85yfuwXq3J9Is%2BwyzhGc8rWc51iIYDL9f39bT2lt40KV1OvLp7lqcX8daOqPdPi9/wUjm8S/EG5/Z4/YD%2BGw%2BLvj62fZq2o29z5fh3w7yQXvb0fK7DB/dRnLFWXcHG05Onf8E1fib%2B0Zfw%2BLf%2BClH7R%2BpePgsgmh%2BG3hKSXSfC9mwOQrJGVmvCpHEkhVuSDuFc58Gv26/hr4L8CWfwq/4Js/8ABOD4leJ9BtR/oN3aeHl0HRp2IA8xr68JaSRsAs8ilj1JNdU3jH/gtH8WFMegfBv4M/Ce0m4d/E3iG51y/gU90%2BxgQM4/2htNeQq2Hx3vYlyr/wBynCfsl9/Ip%2Bs5Ndo2M6nizk%2BSL6vwThp00tPrPs/aYqp5qs4qlh0%2BkMNZpPWvN3Z9MfDL4SfC74LeF4vBXwj%2BHmjeGtJh5TT9E06O2izj7xCAbmPdjknuTXnHx0/4KJfsR/s3XElh8YP2kvDWnX0TbZdKs7pr69jPo1varJKv4qK8r/4dhfEz4yD7T%2B2z%2B3p8SPH0cvNx4a8NTR%2BHNFkB6xyW9rkygDgNuUnr3r2j4EfsQ/skfszRRj4Hfs/eGtBuYl2rqcWnia%2BI9Gupt8zfi5r1oTzWpFRo0Y0orbmd2vSFOyXzkfnuIzDibNa8q0oKEpO7nWm6k231ai3d/wCKq2eOH/gsJ8H/ABV%2B7%2BBH7M/xw%2BIxf/UXHhb4bT/Zm9C0k7R7F99tA/a5/wCCm3xDP/Fqf%2BCZEeg2jf6vVPiF8SLS3b6NaQqZV/M19b0Vf1LMan8TFNf4IQj%2BL52Zf2dmtX%2BNjZLyhCEPxftJHyT9i/4Lc%2BNOLnWv2dvBVs/Q2ltq%2Bo3kf134iNH/AAxp/wAFJPGR834lf8FVr6xjbrp/gz4X6dZCP1xOzGRvxFfW1FH9kUZfxKtSXrUkvwjyB/YOHn/FrVZ%2BtWaX3Q5EfJX/AA6w8T65%2B98ff8FLP2lb%2BTuml/EFNPhP/bOOA/zoP/BHf4HakPK8Z/tIfHfxHA3%2Bttdb%2BKlzJHKPRgiofyIr61oo/sPKnvSv6ub/ADmw/wBXMkfxUU/WU5fnUf5HzD4W/wCCNX/BNfwpIbmH9mLT9RuGO6W513WL6/aRvVhPOy/kAK9G8N/sHfsSeEAv/COfsifDW2deky%2BCbFpP%2B%2B2iLH869YorelleWUf4dCC9IR/%2BRZ00cmyfD/wsNTj6Qh/8izE8MfDP4b%2BCXEngz4f6JpDBdobTNJhtyB6fu1FbdFFdkYxgrRVl5HoRhCCtFJLyVvysFFFFUUFFFFABRRRQAUUUUAFFFFABRRRQAV4z%2By//AMlv/aO/7LNY/wDqFeF69mrxn9l//kt/7R3/AGWax/8AUK8L0AezUUUUAFFFFABRRRQAUUUUAFFFFABRRRQAUUUUAFFFFABRRRQAUUUUAFFFFABX57/8F2tH/tzwlLZ7N3l/AjxbcY/65eKPAsuf/HK/QiviH/grzo/9uDUbLZu2fsvfEq4x/wBctT8IS5/8crzs4h7TKcRHvCf/AKTI%2By8OsR9U8Qsnr/y4rDv/AMrUv8z7M8Gav/wkHg/Sdf37vt2mwXG713xq2f1rSrg/2WdY/wCEh/Zj%2BHOv79327wHpFxu9d9lE2f1rvK7KE/aUIT7pP70n%2Bp83meH%2Bp5nXw/8AJUnH/wABnOP/ALaFFFFanCFFFFABRRRQAUUUUAFFFFABRRRQAUUUUAFFFFABRRRQAUUUUAFFFFABRRRQAUUUUAFFFFABRRRQAUUUUAFFFFABXjPjj/lIX8L/APsjPjz/ANO3hCvZq8Z8cf8AKQv4X/8AZGfHn/p28IUAezUUUUAFeIft/eJPEWhfBPRtI0TxXqWgWniT4l%2BFfD%2Bv65o%2BoSWd1Z6dfa1aW1wIrmJle2eZZPswmRleP7RuRkcKw9vrN8Y%2BDPB/xE8LX/gf4geFNN13RNUtmt9T0fWLGO6tbyFhho5YpAUkQjqrAg0AfKfhCL9oHxx%2Bxr8V/hf8F/H%2BvarqPhf4r6loHhLWb3xVJ/auo6La6pbtd2EeqXDmT7WIjf6bFdyyeYkkUbPLvRpK8TsPi/8AtT%2BK5ov2bfCvhHxpZ6BfftN3/hbS9P8AFHxnurXVF0y38FRay2nXfiWxlvrpCNS%2B2FntpbiVfs32PzNqSlfvW3/Zr/ZztPBb/De1%2BAPgqLw7Jof9iyaBH4Vs1sm03zGk%2BxGAR%2BWbfe7v5WNm52OMkmkvf2aP2cdS%2BEsHwD1H9n/wTceBLYqbbwVN4Us30mIrIZF22Zj8lcOS4wvDHPXmgDmP2bvjTZeN/wBjvwz8YPh18OPFerodAAtPDMviGLUNVnkgdoHhF/qF0iXbb43xczTjzlAkLZesj/gnTq1/r37N19req%2BGL7RLm8%2BLfxDmuNH1OSB7mxdvGetEwytbyywl0J2kxyOmQdrMME%2B1aFoWieF9Es/DXhrR7XTtO0%2B1jtrDT7G3WGC2hRQqRRogCoiqAAoAAAAFeR/sH/wDJENc/7LN8R/8A1NdboA9mooooAKKKKACiivOP2m/2s/gF%2Bx/8PpPiR8fPiDaaLZYZbK1J33eoSgZ8q3hX55X5GcDC5yxVckZ1q1LD0nUqyUYrVtuyXzMq1ajh6TqVZKMVu27JfNnc%2BJ/E/hvwV4evfFvjDX7PStK062e41DUtQuVhgtolGWd3chVUDkknFfnR8fv%2BCvXxt/aq%2BJEv7K3/AASW%2BH11r%2Brykx6n8Rr2yC21jFnDTQpMNkUY/wCe84wTwkbEqxd4j%2BEH7Yn/AAWvurLxJ8TJ9S%2BDX7OyzpdaH4dODrfiiMHMd1Mn3EVgNyF8xplSiT/60/cf7N37LvwN/ZK%2BHMHwv%2BA/gO10XTY8PdSoN9xfTYwZriZvnmkPqx4HCgKAB85UqZpnk%2BXDt0cP/PtUn/gT%2BGL/AJmrvdJaHfhs1pYegvqdFuu96tWHuU1/06oTV6lT/p5XiqVP7FCtPVfDH7O3/BFD9qHR/Et58Tfjv%2B29caX4m1nJ13WfAtk1xrdzuBDbdZvh59v8p2lYY1VgBkHAr6x/Z8/4Jsfsdfs3amPFng34S2%2BreJ2k8248Y%2BLZm1TVZpu8vn3G7ynPcxBAfSvdqK78FkGVYCzp07ta3k3J36v3r2b6tJPzOHMIVc5zH%2B0M0qzxWIskqlacqsklolHm92EUtIxp06cYrSMUtAooor2DQKKKKACiiigAooooAKKKKACiiigAooooAKKKKACiiigAooooAKKKKACiiigAooooAK8Z/Zf/AOS3/tHf9lmsf/UK8L17NXjP7L//ACW/9o7/ALLNY/8AqFeF6APZqKKKACiiigAooooAKKKKACiiigAooooAKKKKACiiigAooooAKKKKAM3xn4x8K/Dvwfq3xA8c6/a6VomhabPqGsapeyhIbO1hjaSWaRjwqIisxPYA1yPww/ak%2BB/xd8Da98RfCfi25ttM8LSyR%2BJh4l0K90W50gpbR3RN1a6hDBPApt5Y5gzoqtHIrqSpBqh%2B2p8IfFXx8/ZM%2BIfwd8CvajW/EHhS8tdHjvpSlvNdGMmKKVgCVidwqO2DhWY4OMHyLw94B/aU8fJ8ePiBcfs%2Bz%2BENa%2BK/hgaV4T0Lxne6Tf21hLZaO8EM2qpZ3c8bpcXV1JGI4TPmC2Uy%2BWXEYAPavgV%2B1L8FP2kH1K2%2BFOv6nNc6Rb2lzf6frnhbUdHuktrsSG1uRBqFvBK9vN5M3lzqpjcwyBWJRgPDP%2BCiej/8JB4%2Bu9DCbjd/smfFqFR7tN4XA/Uipf8Agm7%2Bzn8Q/gj4z8Z67q/wk8Y%2BDPDmp%2BEfC%2BmafpnxH8c2/iPWptSsV1BbyVLyK8vDHp/lz2awWxmVI5FunjtrcSt5j/jx8M/En/DacD6t8WvEOvWfiT9nj4jxWHh/VbXTktNGBvvCqlLZra0incPvGftEs5%2BQbSvzZwxUPaYWpDvGS%2B%2BMl%2Bp6uRYj6nnuExH8lWlL/wABq05f%2B2npH/BO3V/7c/YK%2BDV%2BX3EfDPRYWb1MdlFGf1SvZa%2Bcf%2BCResf25/wTc%2BEl7v3bPDRt8/8AXK4mix/45X0dXPlc/aZZQl3hD/0mJ63HmH%2Bqcc5rQ/lxWIX/AJXq/wCYUUUV3nygUUUUAFFFFABRRRQAUUUUAFFFFABRRRQAUUUUAFFFFABRRRQAUUUUAFFFFABRRRQAUUUUAFFFFABRRRQAUUUUAFeM%2BOP%2BUhfwv/7Iz48/9O3hCvZq8Z8cf8pC/hf/ANkZ8ef%2BnbwhQB7NRRRQAUUVzvxX%2BK/gH4I%2BAr34mfE3XG0/R7B4I5porOa5lklmmSCCCKCBHlnmlmljijijRpJJJERFZmAIB0VFed2X7VvwEvvgXdftIp46aHwhYyTw317eaRd29zbXMNybSS0kspYlukuhcqYPsrRCYy4jCFyFNcftgfs8x/A3xB%2B0ZqXji403wr4U89fEk2s%2BH7%2BxvdNlhClreawuIEvEnIePZAYfNl86Ly1fzE3AHpleM/sH/wDJENc/7LN8R/8A1Ndbr1TwZ4v8O/ELwfpPj7whqP2zSdc0yDUNLu/JePz7aaNZI32uAy5RlOGAIzggHivK/wBg/wD5Ihrn/ZZviP8A%2BprrdAHs1FFFABRRXxH/AMFIP%2BCtOifs62eufCH9m57HXfHemW//ABUWuT/vNL8Iq5KqbhhkTXbNxHarklh8w42NxY/MMJlmGdfESsl97fZLq/8Ah20tSHKbrU6FKEqlWrJQp04RcqlScnaMIQWspSeyXm24xTkui/4Kb/8ABUXwf%2BxT4dl%2BHXw8m0/V/iZqFiZ7ayu5CbTQbY8fb74ryFyR5cI%2BeViqqORn58/4J9f8Ezvih%2B1N8S4P2%2BP%2BCkOr6v4kuLlkufB/hXxQgDzxg7o7m6th%2B7t4MndHZqNvOXyOH0v%2BCY3/AASn8R%2BJvEUP7aH7dFte6rr2qXw1jQ/DPiL95cS3LfMmp6mGzunwf3VscrAp5Bctj9K6%2BcweAxee4iOOzGPLTWtOk9vKU11fVJr5JWT%2Btq4PBcJU3CryV80fxTTU6WDX/PrDtXhUxPSti0pRpu9HBtcs8TNFVVUKqgADAAHSloor7A%2BVCiiigAooooAKKKKACiiigAooooAKKKKACiiigAooooAKKKKACiiigAooooAKKKKACiiigAooooAK8Z/Zf/5Lf%2B0d/wBlmsf/AFCvC9ezV4z%2By/8A8lv/AGjv%2ByzWP/qFeF6APZqKKKACiiigAooooAKKKKACiiigAooooAKKKKACiiigAooooAKKKKACiiigArxX4hW0V5/wUB%2BGdpOuUl%2BCvj1HHqDqvhAGvaq8Z8cf8pC/hf8A9kZ8ef8Ap28IUDTad0ea/wDBEO5mP/BNLwBpF02Z9Lu9aspvYpq95gf98kV9YV8l/wDBGj/Qf2WvEfhPp/YPxa8Taft/u7b0vj/yJX1pXlZF/wAiXDrtCK%2B66/Q%2B%2B8Vkv%2BImZxJfaxFSf/gxxqf%2B5Aooor1T4AKKKKACiiigAooooAKKKKACiiigAooooAKKKKACiiigAooooAKKKKACiiigAooooAKKKKACiiigAooooAKKKKACvGfHH/KQv4X/APZGfHn/AKdvCFezV4z44/5SF/C//sjPjz/07eEKAPZqKKKACvIP21/hv4%2B%2BIfwn0i%2B%2BGXhltd1jwn4/8O%2BJ4fDqXcMD6tFp%2Bp29xPbRyTukSzGFJDF5rpGZVjDuikuvr9FAHyf4V%2BBPjvxP%2Bzt8UPD3xk/Z%2B8Z213478b3njjT9A8Oa/oy6lpdwl/BJp1vDO179mXUojYWt6Szm0EsmzzpQGz5hB/wT3/bD8c/Cjxv4s/4W1JpWt%2BLfiTqHjOTwl8WNBtNfvNRlTw5p%2Bi6et62j6hY2MFxG1g11GsDSW0LyWp2s9qr19/0UAeTfs5/Cr4u%2BG/2LfA3wb%2BInjuXw/wCMdM8Cabpmp634U061STT7mK3jQiGO7N9AzoF2Fn81HIZgAGAGJ/wTp0m/0H9m6%2B0TVfE99rdzZ/Fv4hw3GsanHAlzfOvjPWgZpVt4ooQ7kbiI40TJO1VGAPdK8Z/YP/5Ihrn/AGWb4j/%2BprrdAHs1FFeMftz/ALWth%2ByJ8Fm8U6Xox1zxjr97Ho3w/wDCsILTaxq8/wAsMQUHJRSd7kY%2BUYB3MoOOIxFLC0JVqrtGKu/66t7JbttJbnPisVQwWGnXrO0Yq7f9bt6JJattJas8l/4KYftna74MV/2SvgB4xg0nxrrGiTan4y8YOSYPAfhxFzcalMV5EzLlYUHzlmUrhmiD%2BRf8E0/2C/DHxduvD/7R3jP4dz6J8L/Ds4vfhL4L1hQ15rt0QM%2BKNXPPnXMuN0KHKxqV2AIqtJx/we/ZN1n4/fHa7/ZN8U%2BJZPEcltqlr4s/a38eJJka3rGfMsvC8Ei4AtoSDuRcAbGIEbRqlfqVZ2dpp1pFp%2Bn2scEEEaxwQQoFSNFGAqgcAAAAAdK%2BUwOFqZ3j5Y3Fr3IO0Y9Lp3t58rtzdJVNNY00n97l1CvwFkscfXjy5xj6d1f4sDgqi92EP5MTi4tzrTVpww7jTi4%2B1bclFFFfYnxQUUUUAFFFFABRRRQAUUUUAFFFFABRRRQAUUUUAFFFFABRRRQAUUUUAFFFFABRRRQAUUUUAFFFFABRRRQAV4z%2By/8A8lv/AGjv%2ByzWP/qFeF69mrxn9l//AJLf%2B0d/2Wax/wDUK8L0AezUUUUAFFFFABRRRQAUUUUAFFFFABRRRQAUUUUAFFFFABRRRQAUUUUAc78XPil4N%2BB/wt8RfGP4h372uheFtFudU1aeKFpZFt4ImkfYi5aRyFIVFBZmIABJFcl8H/2qfCHxQ0Pxbf8AirwX4g%2BH%2Bo%2BA5VHi/QPHH2KO60yF7RLyO5d7O5uLd4XgfcHSZgCkiNteN1W/%2B1X8Fbr9oz9m7xt8DtO16PSrzxP4curHTtTmhMsdpdMhMEzoCC6LKEZkBBZQRkZzXlfhT9mD45/EKH4u3n7RWmeEdKufjToJ0HWrbwd4nu76PQ9Oh0w2cHkyXFhbm8lklub2VyywCJWhQCYqzkA9U/Z9%2BPF7%2B0B4cfxjH8D/ABp4R0i4tre60G%2B8XxafEdZtJ1Z47iGG2u55oBtCsY7qOCZfMUGMHcF5nxx/ykL%2BF/8A2Rnx5/6dvCFcV%2BwB%2Bxz8Rv2YfEGva14s8NeB/C9jf%2BEtB0VfDvw/1W6u7XVL%2BwN59p1%2B6NxbW5S9u1uYUddsr7bVPMuZzt8vUv8A4Y%2BG/B3/AAU28F%2BM9J1LxDNeeIfg944kv4dV8XajfWkRTVvCWBbWtzPJBZA7jlbdIw2BuB2rgA5L/gk5/wAS6z/aG8Jtx/ZX7T3iuOFfSFzbOh/HJr60r5L/AOCcf/Eq/aO/ap8J9PJ%2BM51Db/19Wkb5/HbX1pXk5HplkI9nNfdUqI/QPFH3uOcTV/5%2BRw8//A8JhJfncKKKK9Y/PwooooAKKKKACiiigAooooAKKKKACiiigAooooAKKKKACiiigAooooAKKKKACiiigAooooAKKKKACiiigAooooAK8Z8cf8pC/hf/ANkZ8ef%2BnbwhXs1eM%2BOP%2BUhfwv8A%2ByM%2BPP8A07eEKAPZqKKKACiivP8A9pf443PwB%2BGsXizRfCK%2BINa1XxDpeg%2BG9Dk1H7HHe6jqF7FaQLLP5chghVpfMlkEcjLFG5VJGCowB6BRXz7c/t0XWhfsveKfjd4t%2BFMdp4n8HeMT4R1vwlb%2BIhJaR6w%2BpQWEGNQeBMWUhurW4Ny0CtHBKWeIMjR0eEP2sfjv8SvDHizT/h18DvAl341%2BHXjebw38QdJ1H4rT2%2Bj6fKmnWuorJBqKaTJJcbre%2Btcq9rDscyoxHlZYA%2Bgq8Z/YP/5Ihrn/AGWb4j/%2Bprrddp%2Bzt8ZdK/aL%2BAXgn4/aFod5pll428Kafrtpp2obfPto7u3SdY3KkqWUOBlSVOMgkEVxf7B//JENc/7LN8R//U11ugD1vX9e0fwtoV74n8RajFZ6fp1pJdX13O21IIY1Lu7HsFUEk%2Bgr8xPGvx%2B8efEvUn/4KRaj4Ymu/Eviu%2Bk8E/sd/D67jBeJp2MMuuyxHgO/L7m4VQqElWicfR//AAVg8e614r8G%2BEf2F/h9rn2HxB8a9aOn6rfI4B0vw5bAT6pdsegUQjZhuGVpADkVy3/BPn4eaV%2B1B8bJP24JPDzWPw58Daa3gz9nTQZoyqW%2Bl24%2Bz3OqhT0eYoYlJwwQMrZ2o1fJ5tWq4/MY4Gi/ht8pbuT/AOvcHdL/AJ%2BTh/Ke3wblWX5pnlfOM2gp5dlShUnB7YjFTu8NhvNXXtKqXw04zk7NwPoT9iX9lXQv2P8A4Bab8LrW/Op63cSPqXjHxDKxaXWNXnw1zdOzfM2W%2BVd3IRFByck%2BuUUV9Nh6FLC0I0aStGKsl6f1822%2BpyZtmuPzzM62YY6bnWrSc5SfVyd9tkloklZRioxSSikiiiitjzwooooAKKKKACiiigAooooAKKKKACiiigAooooAKKKKACiiigAooooAKKKKACiiigAooooAKKKKACiiigArxn9l/wD5Lf8AtHf9lmsf/UK8L17NXjP7L/8AyW/9o7/ss1j/AOoV4XoA9mooooAKKKKACiiigAooooAKKKKACiiigAooooAKKKKACiiigAooooAKKKKACvBvid4r0nRf%2BClnwZ8N6hOI59Z%2BDnxCjsMn/WSR6l4QlKD38tXb6Ia95r4A/wCCrPxB1D4L/wDBRn9jv41W7Mljol34qtNenBwsGn6hc%2BHrCaV/9lftC/jiuXG4lYTDSrPZWv6c0U/uTv8AI4swxawODlXe0bX9HKKb%2BSlf5Hpf7F3/ABKf%2BCkn7XXhc8KNU8HahGPX7RpEjMR%2BKivrSvkv4Bf8Sb/gr58f9N6f214B8K6hj%2B95MUkGf1xX1pXHk2mFnHtUqr/ypJ/qfpviT7%2BfYat/Pg8DL/y0pRf402FFFFesfn4UUUUAFFFFABRRRQAUUUUAFFFFABRRRQAUUUUAFFFFABRRRQAUUUUAFFFFABRRRQAUUUUAFFFFABRRRQAUUUUAFeM%2BOP8AlIX8L/8AsjPjz/07eEK9mrxnxx/ykL%2BF/wD2Rnx5/wCnbwhQB7NRRRQAV59%2B0v8AA66%2BP3w1i8J6L4vXw/rWleIdL17w3rkmnfbI7PUdPvYruBpbfzIzPCzReVLGJI2aKRwrxsVdfQaKAPDfh/8AsrfEbwR8I/GPgHVPiZ4P8Q6p46utS1XxFfa98O5J9Pu9VvZmMhksTqOHsFthDbLaGXzNkO57l2YmvMNT/wCCX3jPTv2fLz4G/Cv41eCfC0Pi7x8PEfxRsLD4TvFoPiG2Wygs49Gg0601S3ew0/ybOzSWNbiRp1hkWRmW4mDfYNFAHMJ8N9O8W/CiL4YfG7Q/DHim3udLjtNfsR4aEWk3%2BAAyrY3EtwEhJAxE8ku0ADc2M15l/wAE6fDHhrwT%2BzdfeD/Bvh6x0jSNL%2BLfxDtNM0vTLRLe2s7ePxnrSxxRRIAsaKoChVAAAAAr3Svlv4cfET/hUf8AwT2%2BL/xQWfy5PD/jD4t38DZwfMi8V6%2B6Ae5YKB7ms6tSNGlKpLaKbfyTf6GVarChRlVltFNv0Sbf5HyR8c/it4j%2BOWn/ABj/AG0fChNxf/EbWbf4G/s8xFsebaTTmO/vojzxMfPZJAAylWU1%2BmXwP%2BE/h34EfBzwv8GPCaAad4X0K10y1bbgyCGJUMjf7TEFie5Ymvzw/wCCffw8/wCFm/GX9nr4JCDd4e%2BAHwdh8Y69Dj5B4j19ftFtDIP78cMxnUnowb8f04r5nhqlKqqmLn8UrK/m/fqP/wADkoryppdD7HE0ZZB4d5Nk8tK2Ii8wxHf2mKSVCL/wYaCaT2VVdwooor6o%2BTCiiigAooooAKKKKACiiigAooooAKKKKACiiigAooooAKKKKACiiigAooooAKKKKACiiigAooooAKKKKACiiigArxn9l/8A5Lf%2B0d/2Wax/9QrwvXs1eM/sv/8AJb/2jv8Ass1j/wCoV4XoA9mooooAKKKKACiiigAooooAKKKKACiiigAooooAKKKKACiiigAooooA8/8A2q/jVc/s5/s3%2BNvjjp%2Bgpqt54Y8OXV9p%2BmSzGKO7ulQ%2BRC7gEojSlFZwCVUk4OMVx3wO/aF%2BIGk6t8UfAH7V/ibwguofC6Gy1PU/F3hzTJ9L0ubSbqxNyJ3gubq5e3aF4btHzM6skSSfJvMaen/Fz4WeDfjh8LPEXwb%2BIdhJdaF4p0W50rVoIZmika3niaN9jrho3AYlXUgqwBBBArgPhv8AsZ%2BD/Bln4ltfHXxH8SfEU%2BOBJH49bx/Z6TdJ4ltzZxWUVrdQwWEMIt4oIyqxRJGjmeZpRK0jNQBh/sPftO/GH9pDXfilF8WPAVh4bg8M%2BMLODwppUVrNFfRaTd6PY6jbf2gJZGAvCt3mREVFiJ8rDmMyP4B/wVCt/hZ%2B1j8Rta%2BAXw8%2BI/h/XPFXhf8AZ48e3uo6Ho%2BtQXF9pV9bav4QvLaOeKNy9s8j2xVd4Un5uwNfUH7N/wCw1%2By/%2ByT428ceOv2efhFoHhSfx9f2dzq9poOgWVjbwC2tIraOCBLaCMpD%2B7aYoxb99PM4I34FPx9DFcf8FBfhjBPEro/wX8eq6OMhgdW8IAgjuKwxVCGKw06M9pJp/NNfqc2MwtPG4Oph57TjKL%2Baa/W/yPmX9nb46x3X7dXwg/ab8Vso0j9oj4B2mjWeoo3yReI7GQXFxbSHoCRuRDkFn%2BUDg1%2BgVfmV8LP2efEvxI/YS%2BLP7H/giaWDx/8As2/GLUNR%2BF08fM8TQztqGnumeczrLcxqDxl1Pavuz9kL9ovw/wDtYfs3eEvj74eVI11/Skkv7RGz9jvUJjubc55%2BSZJFGeoAPevA4fxE0nSq7zXtF6/BVX/btSF/SaPu8XiJcVeHeUcQr%2BLQhHA4ldp0VN0Z%2BSqU/aRf/Tyi%2B9j0miiivpj40KKKKACiiigAooooAKKKKACiiigAooooAKKKKACiiigAooooAKKKKACiiigAooooAKKKKACiiigAooooAKKKKACvGfHH/KQv4X/9kZ8ef%2BnbwhXs1eM%2BOP8AlIX8L/8AsjPjz/07eEKAPZqKKKACiivEP2/vEniLQvgno2kaJ4r1LQLTxJ8S/Cvh/X9c0fUJLO6s9OvtatLa4EVzEyvbPMsn2YTIyvH9o3IyOFYAHt9FfIPhCL9oHxx%2Bxr8V/hf8F/H%2BvarqPhf4r6loHhLWb3xVJ/auo6La6pbtd2EeqXDmT7WIjf6bFdyyeYkkUbPLvRpK8q%2BFHjv4pfFT4jWv7MXxD1v4k%2BC/h8f2g9a0PTkvPildya/Ja2vgy01RNJn12yvpZ5GXUJtRmYRXkjKLH7M0jJDKhAP0Tr88P2s/FV5oH/BIH4oeHtImCaj4r%2BOPjTQNPBOAz3XxE1RXX8YhLX05%2Bxl8XviN4r/YG8B/F7xFpGs%2BOten8IQToNOktI77xEi/JDdq1zNBb%2BZcRBJyzSRofMJBAIFfn/8Atw/E3Vb/APYe%2BH/hu50C/wBC1DUf2h/il4vudD1KW3a5txo%2Bv%2BI7t7aU28ssLMryorGOR03D5XYYJ8biGt7DJMRLvFr/AMCtH9WcWYYOtmeG%2BoUX7%2BIlTox/xV6lKiv/AE7f5H1b/wAEUfBENx%2BzJq/7TN9bGPUfix4svNUjjk%2B/aaZayNY2NnnusUcDFfaSvsavFf8AgnD4L/4V/wDsFfCHw00PlyD4f6ZdTxkYKy3EC3Dg%2B%2B6Vs17VW%2BTUfq%2BU0IdeWLfq1zP73Jn3/iHjaeP46zKpS0pxrTp00to0qMvY0oryjTowivJX6u5RRRXpHxoUUUUAFFFFABRRRQAUUUUAFFFFABRRRQAUUUUAFFFFABRRRQAUUUUAFFFFABRRRQAUUUUAFFFFABRRRQAUUUUAFeM/sv8A/Jb/ANo7/ss1j/6hXhevZq8Z/Zf/AOS3/tHf9lmsf/UK8L0AezUUUUAFFFFABRRRQAUUUUAFFFFABRRRQAUUUUAFFFFABRRRQAUUUUAFFFFABXjPjj/lIX8L/wDsjPjz/wBO3hCvZq8Z8cf8pC/hf/2Rnx5/6dvCFAHiPxn8U33/AATz/b51z9q/xroE7/CH4yaZpOleMvEVjlx4b1q0DQW11dRgZFvJEwTzB0ZmzyFD5nw9%2BJWgf8Ez/wBqDxT4V%2BIIe0%2BA/wAZvEMfiH4f%2BN7Zll0rQ9Yuo83VncSKSIIZmCyRPxGFAPTzGT7V8Y%2BDvCvxC8Kah4G8c%2BH7TVdH1a0e11LTb6ESQ3MLjDI6nggg18KeKvhX8Yv%2BCfvhHX/gn4w%2BCOofHb9lrVQ5h0q3P2zXfBls5LSW5gf5ry1Q/MjKweLG7chUbvlcfha%2BAqqtTfuKUpp2b5JS%2BNSS1dKfVr3oS1s1t1cLcR0OCsTi8LmdGVfKsarVow0qUZKftI1aejV4TvOLcWlzVKdT91V5qf33BPDcwpc20yyRyKGjkRgVZSMggjqDTq/On9mf43fFP9mvwQ3i/wDYw19v2j/2d4ZA8XhvT78nxj4GiIybVYJcPcRIPuQuBJjGNqgu32P%2BzN%2B2R%2Bzp%2B114abxD8DviNaajNbjGp6JcfuNR05wcFLi2fEkZDZXdgqSDtZhzXqYDN8NjOWEvdm1ezaafnCS0nHzi7/zRi7n0%2Bb8H18Nl/wDbGU1o43LpW5cRS1Ub7RrwTlPD1OjjUXK2n7OrUVj0%2BiiivWPjgooooAKKKKACiiigAooooAKKKKACiiigAooooAKKKKACiiigAooooAKKKKACiiigAooooAKKKKACiiigArxnxx/ykL%2BF/wD2Rnx5/wCnbwhXs1eM%2BOP%2BUhfwv/7Iz48/9O3hCgD2aiiigArN8Y%2BDPB/xE8LX/gf4geFNN13RNUtmt9T0fWLGO6tbyFhho5YpAUkQjqrAg1pUUAcVb/s1/s52ngt/hva/AHwVF4dk0P8AsWTQI/Ctmtk2m%2BY0n2IwCPyzb73d/Kxs3Oxxkk1Hqf7MH7NOtfCW2%2BAWsfs8eBrvwJZur2fgq58JWcmkwMrl1KWbRGFSHZmBC8Ek9TXc0UAQ6dp2n6Rp8Gk6TYw2trawrDbW1vEEjhjUBVRVXAVQAAAOABX4j/t6%2BJ7rxJfax4Q0zM0/g2H4oX1pGp6XGtfE7UNJZB6MYSxx1Kiv2%2Br8N9C0i9%2BJv7WnxG0S%2Bj3xal%2B2lbeDbMdc2I8U%2BINTvfwWTyCR/tV8txe5SypUY/bkl%2Bb/ADaPouB6MMR4kZDTmrwji6dWXblw0a2Llfy/2dfgftp4I8M2vgrwXpHg2yx5OkaXb2UO0cbYo1QfotalFFfURioxSWyPBq1Z1qsqk3eUm233bbbfzbYUUUUzMKKKKACiiigAooooAKKKKACiiigAooooAKKKKACiiigAooooAKKKKACiiigAooooAKKKKACiiigAooooAKKKKACvGf2X/wDkt/7R3/ZZrH/1CvC9ezV4z%2By//wAlv/aO/wCyzWP/AKhXhegD2aiiigAooooAKKKKACiiigAooooAKKKKACiiigAooooAKKKKACiiigDyL9vr4heNPhR%2BxR8U/iR8PNZk0zWdF8DajdWWrwxhn00rA268UMCpMC7phuBXMfIIyK4r9l%2BwbQviJ8cv2d7P4q%2BK9V8F%2BHJNI/srW9e8aXmp6hpM19pKy3dumpXcslx8i%2BRdrvkYxG9%2BUrH5ar9G3tlZ6lZy6dqNpFcW9xE0c8E0YdJEYYZWU8EEEgg8EGuI8M/ss/sxeC/CI%2BH/AIO/Zy8B6ToIgvYBommeELKCzEV4gjvE8lIgm2dFVZRjEiqA2QKAPK/%2BCfialrV748%2BIXgHxb4v1L4Q6xfWMfwwl8b%2BLL/WrrUBBFIl7qtvc6jNNciwuZGhECvIVcWz3EYEdyhazf%2BNPEniH/gpt4L8O6t8I/EOhWek/B7xwlhr2q3OnPaa0G1bwll7Zba7lnQJtGftEUB%2BcbQ3zY9T%2BDv7OH7PH7PFte2XwA%2BAvgvwNDqXlf2jF4O8LWmmLdeUGEfmC2jQPsDuF3Z27mxjJrjfHH/KQv4X/APZGfHn/AKdvCFAHs1FFFAHzl8ev%2BCYP7OPxh8bS/GTwNLrnwx%2BIbEuvjn4cam2m3cjnkmeNP3U4Y43Fl3sOC9fKP7Rn/BPj9tbSfEI8feKfhvoHxg1PT236d8Ufhnq48F%2BO4MDHmy7QbS7ZVwACskjYI3DNfp3RXiY3h/LsYm%2BXkbd3y6Jvu4u8W/Oyl/eIyuWP4ezJ5jkeKqYPEO950ZcnMnuqkGpUqkX9qNSnJS6pn5LeBP8Agr7%2B1b%2BylrkXw%2B%2BOcMvjC1hbaui/FTQ5PCPimGMcE/aSHsLlFHR2cSS9cLnFfXnwC/4LOfsK/G/7LpWufEaXwDrV0gKaT49gFir543JdZa2kUn7pEoLccCvpnxh4H8FfEPQ5fDPj/wAH6Xrmmzf67T9Y0%2BO5gk/3o5FKn8RXy78Yv%2BCIf/BOz4ui5uLX4P3HhC7uxia78E6tLYr6jFuS9sMHn/VV50cBxNlz/wBmrxrQ/lqXT%2BUlf82j6erxVHMo/wDC1llGtP8A5/YV/Uqr850eWtgpvq%2BWnh7vtdn1fpeq6XrmnQ6voupW95aXEYe3urWZZI5VPRlZSQw9xU9fm5p//BDH9oD9nnUZNb/Yc/4KLeK/CY8wumi6tauLeY9vOa3kWKT6NbkV2egeMf8Agvh8AmisfG3wk%2BGHxu06E/v7zRNZj0u/lQejSfZ4wfYQMc%2Bvfsp5zjaWmMwdSHnC1SP/AJK%2Bb/yU%2BexmLyaHvUXWiu1Sjqv%2B36E60H68sb9kfeFFfEbf8Fm7j4X6a11%2B1x/wT/8AjV8Otk/lyajH4eGoaWvqftbeQG/4CjcV2/gP/gtL/wAE0fiBsisf2nLDTZ3A3Qa9pN7Y7D6F5oVj/JiK6aefZPUly%2B3jF9pXg/umos8qecZXSt7StGN3Zc14XfZOcYJv0bPqWivPvBf7Wn7LHxH2DwB%2B0l4D1ppPux6X4us53z6FUkJB9iM138M0NxEs9vKro4yjo2Qw9QR1r06dalWV6clJeTT/ACbO2lXoV481KakvJp/k2OooorQ1CiiigAooooAKKKKACiiigAooooAKKKKACiiigAooooAKKKKACiiigAooooAK8Z8cf8pC/hf/ANkZ8ef%2BnbwhXs1eM%2BOP%2BUhfwv8A%2ByM%2BPP8A07eEKAPZqKKKACs3xh4y8IfDzwvf%2BOPH/ivTdD0XS7ZrjU9Y1i%2BjtrWzhUZaSWWQhI0A6sxAFaVeIft/eG/EWu/BPRtW0TwpqWv2nhv4l%2BFdf8QaHo%2BnSXl1eabY61aXNwYraJWkuXhWP7SIUVpJPs%2B1FdyqkA9M034w/CPWfhkPjXo/xT8OXfgw6e9%2BPFttrlvJpn2RAS9x9qVzF5ShWy%2B7aNpyeK566/a8/ZOsfhdB8cL39p/4dw%2BCrq%2BNlbeL5fGtgulzXI3AwLdmXymkGx/kDbvlbjg18reI/CvjTxh%2Bwz8afD%2Bi/B7xrEfGvxJvPFXhrQX8IX9tqOn6NPrlsZNRhtpIVJvlaC71aPTnHnyM8ayw5mZD5zD8Nvipa38PxHvLz45ado0nx31zWLX42aZ8KJJvGt3DN4SsrFLi58P/ANkyRxRyTrcWAl/sqNRDp1u/lo05u2AP0r0rVdL13S7bW9E1K3vLK8t0ns7y0mWSKeJ1DJIjqSGVlIIIOCCCK/Jb9k74fNc/t4%2BEdEniLjXv2wfjb4uvHI%2B7Bp99PaWv1AninAPYk1%2BgX7HPgb4teDf%2BCfnw0%2BHFjoOleA/F2k/DjSrCHTtX0ie%2BttJmito4wk1sLuOVyFX5o/tO5WJBkbGT8if8E9bXxH4r/wCCkf8AZnjDVLDUb3wH4W%2BJE2qX%2Bl6c9pbSapefEnWo5HigeWZoUeMFgjSyMowC7Y3HxM7pRrRoRf8Az9gvxu/wifdeHtCMc5xWYv8A5hcHjai/xTw/1ePzviNPM/SqiiivbPhQooooAKKKKACiiigAooooAKKKKACiiigAooooAKKKKACiiigAooooAKKKKACiiigAooooAKKKKACiiigAooooAKKKKACvGf2X/wDkt/7R3/ZZrH/1CvC9ezV4z%2By//wAlv/aO/wCyzWP/AKhXhegD2aiiigAooooAKKKKACiiigAooooAKKKKACiiigAooooAKKKKACiiigAooooAK8Z8cf8AKQv4X/8AZGfHn/p28IV7NXjPjj/lIX8L/wDsjPjz/wBO3hCgD2aiiigAooooAKKKKACiiigArzD4sfsVfsjfHN5bj4tfs3eDNbuZs%2BZqF34fgF3z1xcKolH4MK9PorKrQo4iHLVipLs0mvxTOjD4vF4OTlQqSg3vytq/k7NXXk015Hw58T/%2BDe3/AIJ4ePGkuPCeheKfBszEsv8Awj/iJpYw3ul6s/HsCPbFeL6n/wAG63xD%2BHd3Lq37On7a15aMSTDYavpt1Z7T6mexulOfpHX6l0V4dfhTh%2BvLm9govvFuL/8AJWl%2BB6EM6m3/ALThcNiP%2Bv2Fw1R/%2BB%2Bxp1F6qon5n5M/8MDf8Ftvgv5kmg/Hfxf4xSMk29t4V%2BOksESr2Ai1e2IH03YqIfF3/gsR8J%2BPHXjD9oTSo4/9atv8E9D8XwL7vcwTRsFH94L%2BFfrXRXL/AKq06X%2B74mrD/t5yX4tP8TtWP4IxH%2B98P0V54evjsK/kqeJrU1/4Lt8j8nNN/wCCqn7UHhm8TSvE/wC3V8OtOvicLY/FD4Ia5pLsfRjZxui%2B/wA1em%2BC/wDgpT%2B2v4i2Jo3xy/Ys8Tu3%2BrttO%2BIWoabcSf8AbO9ZWz%2BFfofqWl6ZrNm%2Bnaxp0F3byDEkFzCsiMPdWBBrzLxp%2Bwz%2Bxj8RN7%2BNP2U/h7fyv965l8IWYm/7%2BLGHH4Gj%2Bxs7pfw8W36ua/8Ak0H9neFWJ%2BzmeGf/AE7xdDERXyxGHhK3/b7fmeH6B%2B1p/wAFTdQtPt%2BlfsE/D3xfAAD53hX41WaI30MqsB%2BNX/8AhuH/AIKFaV/yNf8AwSK8SQ4%2B9/ZHxU0m/wDy2Iua0PEH/BF3/gm7rd3/AGnY/s8jRb0f6u88P%2BJdSsnj/wB1Y7gIP%2B%2Baof8ADovwDoXzfC39sj9oXwft/wBXBofxRlMA9mSWN9w9s0fVuJKf22/SpTf/AKXRX5h/qlwHX/3fiXGUvKtgac199Cq2/Wy9BP8Ah5P8e9M/5Gb/AIJY/HKLH3v7KsLW9/LZIM0f8PYo7HjxF/wTm/aksMfelb4TeZGP%2BBLcc/lSn9gb9tjw0P8Ai2n/AAVm8f2u3/V/8JT4O07WsfXzdm6j/hSH/BYbwv8A8gL9uP4aeKdv3f8AhJvhp9h3/X7G5x%2BFHtc%2Bh8XtP/AKE/ynF/gH/EPcPV/3Ti3Cy8qtCtSfz5qEor/wIT/h8R8Dbb/kO/s4/HfS8fe/tD4V3K7frtZqP%2BH0/wCxbb/8hm2%2BIem%2Bv274caiuPrtjNL/bP/Bbvw1/x/8Agz9m/wATRL93%2By9R1qzmce/nAoD9OKP%2BGlv%2BCtPh3/kN/wDBNHwx4hC/ebw/8Y7K1z7gXMZP4UfX8zj8U5r1wzf/AKRUkH/EL%2BLp/wC7Z3l1X0r0I/8ApyVAT/h%2BF/wTbg/5C3xp1aw9ftngTWFx%2BVqasWv/AAW9/wCCXV5jyv2poFz/AM9fCesJ/wChWgqD/hv79szRP%2BR3/wCCTnxFt8ff/sHxTp2p4%2Bnl7c1Bdf8ABUD7N8vj/wD4Jm/tJ2n9%2BaL4XJeQr9XWf%2BlH9q4mPxYmK/xUKy/UP%2BIT%2BK8v4MsNV/wVMNP/ANJzBfkbtv8A8Fmf%2BCZdz/q/2rtJGf8AnppGoJ/6FbirkP8AwV9/4JrzjKfta%2BHR/vwXS/ziFcNcf8FUf2Lo/wDkef2bfiZon9/%2B3fg9Ou367Veqp/4Ku/8ABH6SQW/ibxBpulytx5Wr/CzUEOffFkw/Wj%2B2ZLfGUF6xnH85IP8AiEnjfb3MtlP/AAYepP8A9N1qh6ZH/wAFaf8AgnDL939rrwoP96WUfzjqVf8Agq7/AME5n6fteeD/AMbxx/7LXB6d/wAFC/8AgjHr%2BPJ%2BJnw15/5/fCLQf%2BjbVa3tO/ap/wCCPmtY%2Bz/FP4GjP/P2NOh/9GKtbQzOvP4cXh383/8ALDzq/h34w4X%2BNltSPrhMX%2BkWb/8Aw9a/4Jz/APR3vg7/AMDm/wDiaa3/AAVg/wCCcq9f2vPCH4Xbn/2Snab8WP8AglTq%2BP7K%2BJH7PtwT0EGr6Gx/INW/pt//AME%2BtTIOj3vwbuM9DbSaS/8A6DXRHE5jP4a9B%2BnM/wD3IeRW4a8RcP8AxcNy%2BuGxS/OKOYk/4K2f8E34/vftc%2BFj/uvMf5R1C/8AwV6/4Jsx/e/a28OfhFcn%2BUVem6b4T/ZN1DH9j%2BGvh3Pnp9msrBv/AEEVuWnwm%2BC9xH5lh8NPC7r2aHRrYj9EraKzqW1Wl/4DN/8At55lTB8V0XapKnH1pVV%2BckeJ/wDD4H/gmqDj/hrTw/8A%2BA13/wDGaen/AAV8/wCCbDnA/a18OfjDdD%2BcVe4f8Kk%2BFI6fDLw9/wCCWD/4imv8HfhHIMP8LPDjfXQ7c/8AslV7PPP%2BflL/AMAn/wDJmXsuJP8An7R/8Aqf/LDxmH/grR/wThn%2B5%2B114UH%2B/LKv80FW4P8Agqd/wTtuP9X%2B2B4JH%2B/qoX%2BYFepTfAb4G3H%2Bv%2BDHhN/9/wAO2x/mlVJv2Z/2b7n/AI%2BP2fvBEn%2B/4Usz/OOjkzz%2Bel/4DU/%2BSDk4kX/Lyj/4BV/%2BTODh/wCCmn/BPmflP2xvh8P9/wASwL/NhXLeFf2kfgB%2B0J/wUJ%2BH7fAz4y%2BG/F39kfBnxt/an/CPavFdfZPN1bwn5fmeWx2bvLkxnrsbHQ161N%2ByR%2Byncc3H7Mnw9k/3/Bdif5xV5ta/Bn4P/CT/AIKGfDtvhT8KfDXhg6j8GfHH9oHw9oVvZfavL1bwls8zyUXft3vjOcb2x1Na0Fmyqr2zp8vXlU7/ACu7G%2BGWdqsvrDpOHXlVRS%2BXM2t%2B/Q%2Bi6KKK9A9QKKKKACiiigAr87P%2BCNumXWv/ALbX7Xfje%2BTMej/FbV9C01/9hvEeuXUy%2B3zuh/Gv0Tr4t/4IzeEH0q3/AGmfGt1FibW/2uPH6Rtj70Fvq80a/wDj5lFedjabq4rDdlNy%2B6Erfiz7LhrGwwORZ0/tVMPTpr/t/FUXL/yWm0/I%2B0qKKK9E%2BNCiiigAooooAKKKKACiiigAooooAKKKKACiiigAooooAKKKKACiiigAooooAKKKKACiiigAooooAKKKKACiiigAooooAK8Z/Zf/AOS3/tHf9lmsf/UK8L17NXjP7L//ACW/9o7/ALLNY/8AqFeF6APZqKKKACiiigAooooAKKKKACiiigAooooAKKKKACiiigAooooAKKKKAPHv%2BCg58cj9hz4sH4b/ANp/2x/wgWp/Z/7E3/btn2d/N%2BzeX8/n%2BV5nl7Pn37dvzYr5s%2BEXiX4ead8Mf2nvDX/BOTX/AA1B4d1LwtM/wVsPAt1brYXXiWLw7m8OkpCfLcJK%2BmmUwAqty0u/Eplr70ooA%2BN/%2BCZZ/Z8Pxj8e/wDDFp0j/hU//Ct/BXmf8I5t%2Bw/8JVv1n%2B0vM2cf2j9j/sj7Xu/e7vJ8z95vr0G/1L4r3f8AwU28F2fjbwX4e0/Qrf4PeOB4a1HSvE895d36HVvCXmNc20llCloRhMBJrgNuOSu0bvoevnD9o/V/jXo/7eHwnn%2BB3w/8LeItSb4R%2BO1u7TxX4wudFgjg/tTwkS6S2%2Bn3rO%2B7aNhjUYJO/ICkA%2Bj6K8Z/4Tj/AIKF/wDRr/wZ/wDD8at/8y9H/Ccf8FC/%2BjX/AIM/%2BH41b/5l6APZqK8Z/wCE4/4KF/8ARr/wZ/8AD8at/wDMvR/wnH/BQv8A6Nf%2BDP8A4fjVv/mXoA9mor5x0n9o79u3WPjPr/wOt/2UPhIuqeHfC%2Bka7eXL/HXVPIkg1G51K3hRCPDG4uraXOWBUAB48FiWC9R/wnH/AAUL/wCjX/gz/wCH41b/AOZegD2aivGf%2BE4/4KF/9Gv/AAZ/8Pxq3/zL0f8ACcf8FC/%2BjX/gz/4fjVv/AJl6APZqK8Z/4Tj/AIKF/wDRr/wZ/wDD8at/8y9cv4B/aO/bt%2BInivxv4Q0f9lD4SQ3HgPxRFoWqyXPx11QJPPJpWn6mHi2%2BGCSnk6jCpLBTvRxjADMAfR1FeM/8Jx/wUL/6Nf8Agz/4fjVv/mXo/wCE4/4KF/8ARr/wZ/8AD8at/wDMvQB7NRXjP/Ccf8FC/wDo1/4M/wDh%2BNW/%2BZej/hOP%2BChf/Rr/AMGf/D8at/8AMvQB7NRXzj8Iv2jv27fjL4Uu/F/hz9lD4SW1vZ%2BKNb0KSO9%2BOuqK5n0vVbrTJ3G3www2NNaSMhzkoykhTlR1H/Ccf8FC/wDo1/4M/wDh%2BNW/%2BZegD2aivGf%2BE4/4KF/9Gv8AwZ/8Pxq3/wAy9H/Ccf8ABQv/AKNf%2BDP/AIfjVv8A5l6APZqK8Z/4Tj/goX/0a/8ABn/w/Grf/MvXL/BH9o79u348fBjwh8cfCv7KHwktdL8Z%2BF9P13TbbUPjrqizwwXdtHcRpIE8MMocLIAwVmGQcEjmgD6Oorxn/hOP%2BChf/Rr/AMGf/D8at/8AMvR/wnH/AAUL/wCjX/gz/wCH41b/AOZegD2aivGf%2BE4/4KF/9Gv/AAZ/8Pxq3/zL1y/xu/aO/bt%2BA/wY8X/HHxV%2Byh8JLrS/BnhfUNd1K20/466o080FpbSXEiRh/DCqXKxkKGZRkjJA5oA%2BjqbNDDcRmGeJXRvvK65B/A143/wnH/BQv/o1/wCDP/h%2BNW/%2BZej/AITj/goX/wBGv/Bn/wAPxq3/AMy9AJtPQ9H1X4UfC3Xc/wBt/DbQLzd1%2B16NBJn/AL6U1zmqfsj/ALKWt5/tr9mP4e3e7r9q8F2Mmf8AvqI1zf8AwnH/AAUL/wCjX/gz/wCH41b/AOZej/hOP%2BChf/Rr/wAGf/D8at/8y9Yyw%2BHn8UIv1Sf5pno0M4zjC/wMTVh/hqVI/wDpNSJJqP8AwTz/AGDdVz9r/Yz%2BGAJ6mDwNYxH80iFYWof8Erv%2BCdmp5%2B0/sg%2BC1z/z76b5P/osiqHxd/aO/bt%2BDXhS08X%2BI/2UPhJc2954o0TQo47L466ozifVNVtdMgc7vDCjYs13GznOQisQGOFPUf8ACcf8FC/%2BjX/gz/4fjVv/AJl655ZZls/ioQf/AG5H/wCRPXo8ccbYf%2BFmmJj6Yiv/APLmcXf/APBHD/gmhqOftH7KGjLn/nhqd9F/6BOKybj/AIIf/wDBL%2Bd/Oi/Zm8iTs9t4y1lCPwF5j9K9K/4Tj/goX/0a/wDBn/w/Grf/ADL0f8Jx/wAFC/8Ao1/4M/8Ah%2BNW/wDmXrGWSZNLfDU//AI/5HpU/FHxLoq0M7xa/wC5mt/8mzzL/hyX/wAE/YP%2BQT4E8UWHp9j%2BIGqrj/vq4NJ/w5j/AGRoDnS/FXxPsfT7J8Sr8Y/NzXp3/Ccf8FC/%2BjX/AIM/%2BH41b/5l65fx9%2B0d%2B3b8O/FfgjwhrH7KHwkmuPHniiXQtKktvjrqhSCePStQ1MvLu8MAhPJ06ZQVDHe6DGCWWf7CyXph4fJW/Jo2/wCIreJb%2BLOMQ/Wpzf8ApUZHNf8ADnj4Dw/8g39oT45Wfp9l%2BKd0MfmppP8Ah0X4Ci/5B/7av7SVp6C2%2BLcox%2BcJr07/AITj/goX/wBGv/Bn/wAPxq3/AMy9H/Ccf8FC/wDo1/4M/wDh%2BNW/%2BZej%2Bw8o/wCfK%2B%2BS/KaD/iKniI98xm/WNGX/AKVhpHmP/Dpu1i/48f8Ago1%2B1Zb%2BixfGA4/I21U/gr%2Byrefsyf8ABQvwWt1%2B0x8U/iKutfBnxls/4WZ4pGpnT/J1bwrn7ORGnl%2BZ5o39d3lR9NvPrX/Ccf8ABQv/AKNf%2BDP/AIfjVv8A5l6oeB/A/wC1Z4x/as8OfG743fDj4e%2BGdG8M/D3xDocMPhX4h32tXV3dalfaJcIzJcaRYpFGiaXKCwd2LSoAuMkbUMqy/DVVUpQtJf3pv8HNr8Dz804%2B4vzvAzweOxXPTna69lh43s0170MNTmtUtprs7q6futFFFegfHhXHfHj42eGv2fvh1L8RPE2kanqm7UrHTNM0XRIY5L3VNQvbqK0tLSBZZI4/MknmjXdI6RoCXd0RWYdjXl/7W/wb8Z/Gf4YWFj8NbzTIvE3hrxhoviXQI9bnkisrq40%2B/huTazyRRyPEk0aSQ%2BaschiMgkCSbNjAGZ/w258LrX9mzXv2lde8L%2BI9LtvDGp3Gk6/4VvbW3/tay1WG8FmbBljna3MjTtGqSCcwMsqS%2Bb5bb6x7L/goB4L1DQJI7T4I%2BPX8aR%2BPZfBw%2BGSRaW2sPqsWnpqciCUX50/ylsZEuGnN2I1DCMsJiIq47Uf2QP2jPE/7L/xK%2BFWvS%2BCrbxF8TfEs/ibW4oNcu59Mlkl1CFpNBkLWaSNZS6baxWct4FEjG4ndbZMKp88X/glp4s/4RjTNXuvgZ8HbiHRvitqPiXRvgM2s3KeCrDS7zQ4dNmsI5hph5N5EdV/5B4i8%2BaVRGGIuKAPuDwrrN74i8M6dr%2BpeGL/RLm%2BsYp7jRtVaE3Vi7oGaCYwSSxGRCSrGOR0yp2uwwT4t/wAE7fCumeGPgr4um04Nu1T48fEq%2BumfHMreM9YXt2Coo/Cul%2BA37PWseBv2SPDH7N/xW8c6lq15pnhmDTdW1jQ9ev7CcsoHy293DKl3GqcRpJ5glKICxyTXh/7El3%2B1/wCAfg1rXgr4OfAv4fa74Z0r4u/EG20fVvGPxw1iPVLmJPGOsDdch9DvXaTcGBd7mZ3wHZtzEBOKbTfQuNSpGEoJ6Stdd7O6%2B56n2HRXjP8AwnH/AAUL/wCjX/gz/wCH41b/AOZej/hOP%2BChf/Rr/wAGf/D8at/8y9Mg9morxn/hOP8AgoX/ANGv/Bn/AMPxq3/zL0f8Jx/wUL/6Nf8Agz/4fjVv/mXoA9mor5x%2BCP7R37dvx4%2BDHhD44%2BFf2UPhJa6X4z8L6frum22ofHXVFnhgu7aO4jSQJ4YZQ4WQBgrMMg4JHNdR/wAJx/wUL/6Nf%2BDP/h%2BNW/8AmXoA9morxn/hOP8AgoX/ANGv/Bn/AMPxq3/zL0f8Jx/wUL/6Nf8Agz/4fjVv/mXoA9mor5x%2BN37R37dvwH%2BDHi/44%2BKv2UPhJdaX4M8L6hrupW2n/HXVGnmgtLaS4kSMP4YVS5WMhQzKMkZIHNdR/wAJx/wUL/6Nf%2BDP/h%2BNW/8AmXoA9morxn/hOP8AgoX/ANGv/Bn/AMPxq3/zL0f8Jx/wUL/6Nf8Agz/4fjVv/mXoA9morxn/AITj/goX/wBGv/Bn/wAPxq3/AMy9cv8AF39o79u34NeFLTxf4j/ZQ%2BElzb3nijRNCjjsvjrqjOJ9U1W10yBzu8MKNizXcbOc5CKxAY4UgH0dRXjP/Ccf8FC/%2BjX/AIM/%2BH41b/5l6P8AhOP%2BChf/AEa/8Gf/AA/Grf8AzL0AezUV4z/wnH/BQv8A6Nf%2BDP8A4fjVv/mXo/4Tj/goX/0a/wDBn/w/Grf/ADL0AezUV84%2BPv2jv27fh34r8EeENY/ZQ%2BEk1x488US6FpUlt8ddUKQTx6VqGpl5d3hgEJ5OnTKCoY73QYwSy9R/wnH/AAUL/wCjX/gz/wCH41b/AOZegD2aivGf%2BE4/4KF/9Gv/AAZ/8Pxq3/zL0f8ACcf8FC/%2BjX/gz/4fjVv/AJl6APZqK8Z/4Tj/AIKF/wDRr/wZ/wDD8at/8y9cvq37R37duj/GfQPgdcfsofCRtU8ReF9X12zuU%2BOuqeRHBp1zptvMjk%2BGNwdm1SAqApBCSZKkKGAPo6ivGf8AhOP%2BChf/AEa/8Gf/AA/Grf8AzL0f8Jx/wUL/AOjX/gz/AOH41b/5l6APZqK8Z/4Tj/goX/0a/wDBn/w/Grf/ADL0f8Jx/wAFC/8Ao1/4M/8Ah%2BNW/wDmXoA9mor5x0n9o79u3WPjPr/wOt/2UPhIuqeHfC%2Bka7eXL/HXVPIkg1G51K3hRCPDG4uraXOWBUAB48FiWC9R/wAJx/wUL/6Nf%2BDP/h%2BNW/8AmXoA9morxn/hOP8AgoX/ANGv/Bn/AMPxq3/zL0f8Jx/wUL/6Nf8Agz/4fjVv/mXoA9morxn/AITj/goX/wBGv/Bn/wAPxq3/AMy9cv4B/aO/bt%2BInivxv4Q0f9lD4SQ3HgPxRFoWqyXPx11QJPPJpWn6mHi2%2BGCSnk6jCpLBTvRxjADMAfR1FeM/8Jx/wUL/AOjX/gz/AOH41b/5l6P%2BE4/4KF/9Gv8AwZ/8Pxq3/wAy9AHs1eM/sv8A/Jb/ANo7/ss1j/6hXhej/hOP%2BChf/Rr/AMGf/D8at/8AMvVv9lb4c/GnwfrHxQ8d/HTQPC%2Bk6p4%2B%2BIUWuWeleE/Etzq1va2sWg6Ppiq9xcWVmzSNJp0rlRFtCyINzHOAD1uiiigAooooAKKKKACiiigAooooAKKKKACiiigAooooAKKKKACiiigAooooAK%2BV/wBp79rT4ufDD4x%2BLNa8A%2BHfB8nhj4P%2BH/D9741OtaRcTarqlvq9/KlzBYXEdxGll5FtZx3GZIpxcyFIyIfL80/VFeM/Gf8AYh%2BHHxu%2BKR%2BJmueOfFWlxaja6Ra%2BL/DWjXVqmneKYNLvZL2xivllt5Jgsc00ufs8sBljkMUxljCoAD2aiiigAooooA%2BY/Dn7SvxMh/b/APFHwf8AiNrHh7wn4bXxBaaJ4Mi1H4Rayl14xgGgQajiDxG12unNLHd3OoAWgheTy7SYBQWaRfpyvK/Fn7LUHj/4yaR8U/Hvxv8AGur6V4e12PWtA8AXB0yLRrHUI7d4I5w0Nkl7Ls8ySRUmupIxI%2B7Z8iBfVKACiiigDxf/AIKC/F344fs/fsj%2BNPj18Ar3wpHrHgnQrvXLqDxhotzfW13aWttLM9uiW11bMkrsiKJC5VAWJR%2BBXn/jz9rT4ueC/jx4t1Pwp4d8IRfDzwh8Y/CPw%2B8ZWc2kXB1vVdV12DRUj1CG7S4WGOOD%2B3NJjMUlvK8iQz4lj2oK9h/ax/Zxsv2tPgRr37PutfFXxT4R0nxPZS2OuX/hBdO%2B13NlLE8U1tuv7S6jRHV%2BWRFkBUbXXnPFwfsA%2BDp/iLZ/EXxV8cfH2usdZ0nXPE2jahLpUVj4n1zTEjSx1a9jtrCJluIhBaYW2aCBjY2xeJjHkgHvdFFFABXi/wC2T8Xfjh8ErXwD4x%2BFl74U/sbUPiZ4c8PeL7HxBotzc3Vza6rrNjpoNnLDdQpbSRrcyyb5EnUlEXZyTXtFeVftXfstv%2B1V4b0LwvP8ffG/ga30LxJYa6jeC4dHZ7u9sbyC8s2lOpafeDbFcW8bhYwgblZN6naADzj9nn9pX4ma3%2B1V4t%2BCPxQ1fw94T06HxTrdv4J8JSfCLWdMudetoXSU39vrVxd/YNQdjJNLLFbQF%2BS7FcMT9OV5LpP7KIf4yaL8ZfiP%2B0B478azeF7u8u/CeheIRpMNho91c28lrJcRLYafbSyv9nmnhXz5JVRZ32gEgj1qgAooooA8P/bu%2BLnx4/Z%2B%2BDWr/HX4UeMfAtjp/hbRbm8vdF8WeGb2/ufEN7lFs9Ms5La9g%2BzzXEpFujeVdM0s8QWFj8ref/BH9r74z658S/BX9reDPCWkfDTxv8T/ABR8NvCvhrTtLmj1fRL/AECHVt889yLhreaCRvD%2BposMdvEY1a2PmSZYD0/9pX9kGD9pLx54I%2BIE37QPjvwhc%2BAbu5vdFsfDEWjT2cl7KgjW8mg1PTrxHnhj8xYZAFMYnlI%2BZsir4D/Ya%2BHvgP4y2/xdh%2BIvi7UoNO13U9e0TwhqVzZf2TpWt6jG8eoapAkVqk/nzie7LK8zwo19cmOKPzOAD2uiiigAr5f/AGufjx%2B0v8FviJp/hTSofAHjXR/HMOtW2i/DmLwffSawlraaHdXcl/cTi9eK6thdRW9tJCLWIH7fCgmMjIkn1BXh037E1xH%2B0f4r/aa0T9qv4l6dq/i3TYdOudLhg8Pz2mn2cMDRw21m1zpMtzbxLK73WxZtrzuXcODtoAZ%2Bwh%2B0H43%2BPfw9vLr4r%2BPtGvvF2nCzbX/Ddl8LtX8I3mgPPbLKILmy1e6nuHBbf5dwAkciodobaTXuleb/AAO/Zu074M%2BJ/EnxD1j4peKfHHirxXFY2%2BseJ/FzWC3L2lmJvstqkWn2trbRxRtc3LjbCGZriQszZGPSKACiiigD45/4KCftx/FT9jDxz/aeuaLoHjHwi%2Bjajrdv4Vl%2BHOp2Utumm6Nfakkn/CRTXT6ZPd/a9NGyxWBLoRzLKBthaRvXv2aPi78c9W%2BKnjf9nr9o658Kah4n8I6ToetR614K0i5sLG5sdUF5GkRgubm5dZYrjTrtS/m4kQxNsjJKit8df2EvBH7TmtXVr8f/AIt%2BNfFHgu5kuJF%2BGV5JpsOixSTWM1kzb7eyjvpAI7iZgkt06B33bfkQL0/7Pn7M2kfAO817xFd/FDxZ448R%2BJDZx6t4q8a3Fm99LbWkRitbUfY7a3hWKIPKwxHvZ55XdnZyaAPSqKKKACviP9qf9sr9rP4N/GrxB8KPB3hvw5411Ow0W413wwE%2BB/iCOTRQNR0y1Qwt9uceJpBY6pced/ZflPC0JWURiYR19uV4fr37Fup%2BJfHp%2BJ2tftc/FGbW9PgvIvBt4U0ADwqt1NDJP9kjGk7J2aOBbfderdMsTOFKu7OQDqv2WPiw/wAZPhHB4svfiZo3iq/h1G6stUvtG8GX3h0W1xFKytazabqFxPdWc8YwrxzOHz821QwFejVw3wD%2BAvh74AeGdT0bSvFOt%2BINR1/XrjW/EniTxHNA17qt/MERp5RbxQwJiOKGJUhijjVIkAUYJPc0AFFFFABRRRQAUUUUAFFFFAFHxR4hsPCXhrUfFeqhza6ZYzXdyIly3lxoXbA7nCmvnP8AYm/aT%2BNfj/xTo/gz42eHvBlmPHXwtsviN4Zh8GaVcWg0yO8uCbvT7szXEou5o3ubZ/tiCATtLMTBHtBf6Wu7S1v7WWxvbdJoZo2jmilUMrqRgqQeCCOMV5D%2BzN%2BxX4C/Zg1V9X0D4g%2BLfEstt4YsfDPh0eLL21mGgaFZvI9vptqbe3hLRqZPmlnM1xII4vMmfy1wAexUUUUAFcL%2B1B48%2BIvws/Zo%2BInxO%2BD/AIUXXvFvhzwLq%2BqeFtDaxmuhqOo29nLLbWxhgZZZhJKiJ5cbB23YUgkGu6rO8W6Jf%2BJfDGoeH9L8V6joVze2kkNvrWkLA11YuykCaIXEUsRdTyBJG6ZHzKwyCAeXfsU/Fqf4ofDO%2BstW%2BIXh/WdT8O6qunXmmaJ8MNT8HPoaC2gkis7jStUuZ7mFwjiRXby0eKWLYmBvf2KvPPgP%2BztpPwOvPEviO5%2BIniTxj4k8X6jDeeIvFPit7MXd0YbdLeCIR2NtbW0UUcaAKscKZLOzFmZmPodABRRRQB8uftUftY/FD9nD4veOLL4laN4S8RfC%2Bw/Z38X%2BPbbQrfRLhNVdtEGlrPbXFzJcvbzRTrfTgILZCoRMu%2BWFdv8Asz/F/wCPmqfFzxl%2Bzr%2B0s/hK88UeGPDHh7xLHqvgrSbmxspLLVn1K3W2MNzc3LmWG40i7BlEgWRHiby4zuWoPjH%2Bwr4d%2BOnx1b4y%2BPPjt45l02bwVqfhG%2B%2BHsMGi/wBiXejaktt9vtJC%2BmtekTtaQOzi6DqUIRkRmQ9J%2Bzv%2By7of7Pt9rXiOf4oeLfG/iHX7Wwsr/wAT%2BNrm0kvTYWKSLZ2Y%2ByW1vH5URnuHBKGR3uZXd3Zs0Aen0UUUAFfInxr/AGl/2tvBmu/tAeBLfwr4M8WXvgLw/wCFPEnw2sdJ%2BH%2Bp386x6jqupQhLy1ivHl1GeBdNjnU2wtyXJCr8qtX13Xhcv7FHiGL46eNvj/oX7aHxW0rVvG%2BkWOmXNjZWfhhrTTbayuLmezS2EuivJ%2B6N5dKDM8pdZyJPMKoVAOr/AGVPi3N8ZfhSPE2o/E7RvFOo2uq3Njq11o/gi/8ADZs7iJvmtZ9M1G4nurSdFK7kmYMQyttVWFek1wnwD%2BAegfAHQtZsdP8AFuueI9V8TeIJdc8T%2BJvEktu17qt/JDDB5sgtoYYIwsFvbwqkUUaKkKALnJPd0AFFFFAHxt%2B0t%2B13%2B0t%2Bzx8ZoPhtrKfDPxrfa3BBN4Rh07wte2kvgu81LxDpnh7SJtTle%2BmF1FO2rzgtEtnI4sbpYwy%2BYYvcf2Vfi/8AEj4jDx/8PvjEdEn8VfDTx43hrWdV8NadNZ2Gp%2BZpenatb3ENvNPPJb5tdUt0eNppcSRyYYgjHC23/BNXwk118Q38Q/tL/E7Wbf4k68dc1i31I6F5lnqUVxDPp9zbXUWlpdKbB7e3FpG80kUSwoGR%2Bc%2BsfAP4C6H8A/D2rabZeL9c8Sat4i16bWvE/ijxK9sb/V76SOKHzphawQQLsggt4ESKKNFjgjULwSQDuqKKKAGXP2n7NJ9j2edsPlebnbuxxnHOM18QfFb9rn9tP4afETXPhtb23gPxnr3hi98NW%2BreOvBHwV1/Vo/DlvqzXj3thLpVnqU93czRw2VjdExTp%2B7uoWlgQGJpPt67hkuLWW3hupIHkjZVniCl4yRgMu4FcjqMgj1Br57%2BDH7AXiD4CfDa4%2BGnw7/bq%2BMUUd1qz6nNrN5ZeE59Qlu5XlkuZ5pn0I/aZJ3l3SSTiR8xpsKAYIB6z8BPiHZfFb4O%2BH/iFYfEDRvFSanp4kfX/D%2BkzWFpdyAlZClrPNNLbFXVkaGSR3jZWVjuUgdfXJfAv4L%2BEv2ffhfp3wp8FXN/cWVhLdXE19qtyJrq%2Bu7q5lurq6mcKoaWa4nmlfaqrukO1VXCjraACqPieHxJc%2BG9Qt/Bup2Nlq8llKul3mp2D3VtBcFCI5JYY5YmmjVsFkWSMsAQHUncL1ZvjHQb/wAUeFr/AMO6X4t1LQbm8tXig1rRxAbqxcjiaIXEUsRdTyBJG6HHzKwyKAPh74b/ALdn7Wvxg%2BKet/BL4Wab8Pk8Z6ba67fSeM/Ffwu1rQ11TTNItdFlSxl0S8vk1DT5Xu/EOxJp5nj8qGS4SF1nQH7G%2BAXxa034%2BfAnwV8ddG02Wzs/GvhLTdetLOZ9zwRXlrHcLGxAGSokAJ9RXi2r/wDBMjwPrWuX3xFu/wBpT4pp8QNWS8tda%2BJNte6RDq1/pl1bWttNphRNNFnDbFLK0YeRbRSrJAsqyhyzH6D8F%2BD/AA18PPB2k%2BAPBmkxafo%2Bh6ZBp%2Bk2EOdltbQxrHFGuecKiqo%2BlAGnRRRQBy/xp1Hxxo3wt1rW/hz4hsdL1awszdQ32oeD73xAiRxkPKBp1jPBc3kjRK6pFDIHLsuFc/I3xb8Jf%2BCiPx%2B8SeNND1PxvceEfAngzUp518QeOLz4GeIprbWL%2BHX7rSES5lW%2BjTwzPJa2lr%2B41RpJYHlWN87AlfbfxM8Ga7498JTeHPDfxS1/wbeSSxvFr/hmKxe7g2sCVVb%2B2uYGDAFSHibgnGDgjxW6/wCCc3hTUPB9x8NtW/aQ%2BJt34Y1zUJr/AMeaBNcaOIvGF3PeNdXE19Kumi4i80ssLR2ctrEIYkjVFG7cAfRNFFFABRRRQAUUUUAFFFFABRRRQAUUUUAFFFFABRRRQAUUUUAFFFFABRRRQAUUUUAFFFFABRRRQAUUUUAFFFFABRRRQAUUUUAFFFFABRRRQAUUUUAFFFFABRRRQAUUUUAFFFFABRRRQAUUUUAFFFFABRRRQAUUUUAFFFFABRRRQAUUUUAFFFFABRRRQAUUUUAFFFFABRRRQAUUUUAFFFFABRRRQAUUUUAFFFFABRRRQAUUUUAFFFFABRRRQAUUUUAFFFFABRRRQAUUUUAFFFFABRRRQAUUUUAFFFFABRRRQAUUUUAFFFFABRRRQAUUUUAFFFFAH//Z\">"
            ]
          },
          "metadata": {
            "tags": []
          }
        }
      ]
    },
    {
      "metadata": {
        "id": "myRloWWtVSBF",
        "colab_type": "text"
      },
      "cell_type": "markdown",
      "source": [
        "# Submit a linear model"
      ]
    },
    {
      "metadata": {
        "id": "Spa1fCJPVSBF",
        "colab_type": "code",
        "colab": {}
      },
      "cell_type": "code",
      "source": [
        "## GRADED PART, DO NOT CHANGE!\n",
        "# Testing shapes \n",
        "grader.set_answer(\"9XaAS\", grading_utils.get_tensors_shapes_string([W, b, input_X, input_y, logits, probas, classes]))\n",
        "# Validation loss\n",
        "grader.set_answer(\"vmogZ\", s.run(loss, {input_X: X_val_flat, input_y: y_val_oh}))\n",
        "# Validation accuracy\n",
        "grader.set_answer(\"RMv95\", accuracy_score(y_val, s.run(classes, {input_X: X_val_flat})))"
      ],
      "execution_count": 0,
      "outputs": []
    },
    {
      "metadata": {
        "id": "0LVDEFWWVSBH",
        "colab_type": "code",
        "colab": {
          "base_uri": "https://localhost:8080/",
          "height": 35
        },
        "outputId": "61cc7044-2bd9-422b-cf87-286c842fe829"
      },
      "cell_type": "code",
      "source": [
        "# you can make submission with answers so far to check yourself at this stage\n",
        "grader.submit(COURSERA_EMAIL, COURSERA_TOKEN)"
      ],
      "execution_count": 33,
      "outputs": [
        {
          "output_type": "stream",
          "text": [
            "Submitted to Coursera platform. See results on assignment page!\n"
          ],
          "name": "stdout"
        }
      ]
    },
    {
      "metadata": {
        "id": "VnWAxA3NVSBJ",
        "colab_type": "text"
      },
      "cell_type": "markdown",
      "source": [
        "# MLP with hidden layers"
      ]
    },
    {
      "metadata": {
        "id": "Vx5G5U_aVSBJ",
        "colab_type": "text"
      },
      "cell_type": "markdown",
      "source": [
        "Previously we've coded a dense layer with matrix multiplication by hand. \n",
        "But this is not convenient, you have to create a lot of variables and your code becomes a mess. \n",
        "In TensorFlow there's an easier way to make a dense layer:\n",
        "```python\n",
        "hidden1 = tf.layers.dense(inputs, 256, activation=tf.nn.sigmoid)\n",
        "```\n",
        "\n",
        "That will create all the necessary variables automatically.\n",
        "Here you can also choose an activation function (remember that we need it for a hidden layer!).\n",
        "\n",
        "Now define the MLP with 2 hidden layers and restart training with the cell above.\n",
        "\n",
        "You're aiming for ~0.97 validation accuracy here."
      ]
    },
    {
      "metadata": {
        "id": "Mu5RDPE5VSBK",
        "colab_type": "code",
        "colab": {}
      },
      "cell_type": "code",
      "source": [
        "# write the code here to get a new `step` operation and then run the cell with training loop above.\n",
        "# name your variables in the same way (e.g. logits, probas, classes, etc) for safety.\n",
        "s = reset_tf_session()\n",
        "W = tf.get_variable(\"w\", shape=(256,10))\n",
        "b = tf.get_variable(\"b\", shape=(1, 10))\n",
        "input_X = tf.placeholder(tf.float32, shape=(None, 784))\n",
        "input_y = tf.placeholder(tf.float32, shape=(None, 10))\n",
        "\n",
        "hidden1 = tf.layers.dense(input_X, 256, activation=tf.nn.sigmoid)\n",
        "hidden2 = tf.layers.dense(hidden1, 256, activation=tf.nn.sigmoid)\n",
        "\n",
        "logits = hidden2 @ W + b\n",
        "probas = tf.nn.softmax(logits) \n",
        "classes = tf.argmax(probas, 1)\n",
        "\n",
        "# Loss should be a scalar number: average loss over all the objects with tf.reduce_mean().\n",
        "# Use tf.nn.softmax_cross_entropy_with_logits on top of one-hot encoded input_y and logits.\n",
        "# It is identical to calculating cross-entropy on top of probas, but is more numerically friendly (read the docs).\n",
        "loss = tf.reduce_mean(tf.nn.softmax_cross_entropy_with_logits(labels=input_y, logits=logits))\n",
        "\n",
        "# Use a default tf.train.AdamOptimizer to get an SGD step\n",
        "step = tf.train.AdamOptimizer().minimize(loss)"
      ],
      "execution_count": 0,
      "outputs": []
    },
    {
      "metadata": {
        "id": "ysKWqCyuVSBN",
        "colab_type": "text"
      },
      "cell_type": "markdown",
      "source": [
        "# Submit the MLP with 2 hidden layers\n",
        "Run these cells after training the MLP with 2 hidden layers"
      ]
    },
    {
      "metadata": {
        "id": "hyCEHcpDVSBN",
        "colab_type": "code",
        "colab": {}
      },
      "cell_type": "code",
      "source": [
        "## GRADED PART, DO NOT CHANGE!\n",
        "# Validation loss for MLP\n",
        "grader.set_answer(\"i8bgs\", s.run(loss, {input_X: X_val_flat, input_y: y_val_oh}))\n",
        "# Validation accuracy for MLP\n",
        "grader.set_answer(\"rE763\", accuracy_score(y_val, s.run(classes, {input_X: X_val_flat})))"
      ],
      "execution_count": 0,
      "outputs": []
    },
    {
      "metadata": {
        "id": "QjawFMTkVSBR",
        "colab_type": "code",
        "colab": {
          "base_uri": "https://localhost:8080/",
          "height": 35
        },
        "outputId": "dcab9bd0-bf43-4494-b580-430deebde705"
      },
      "cell_type": "code",
      "source": [
        "# you can make submission with answers so far to check yourself at this stage\n",
        "grader.submit(COURSERA_EMAIL, COURSERA_TOKEN)"
      ],
      "execution_count": 44,
      "outputs": [
        {
          "output_type": "stream",
          "text": [
            "Submitted to Coursera platform. See results on assignment page!\n"
          ],
          "name": "stdout"
        }
      ]
    },
    {
      "metadata": {
        "id": "YGLmuK6vVSBU",
        "colab_type": "code",
        "colab": {}
      },
      "cell_type": "code",
      "source": [
        ""
      ],
      "execution_count": 0,
      "outputs": []
    }
  ]
}