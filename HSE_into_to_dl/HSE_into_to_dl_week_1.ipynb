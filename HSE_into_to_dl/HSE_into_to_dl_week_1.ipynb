{
  "nbformat": 4,
  "nbformat_minor": 0,
  "metadata": {
    "colab": {
      "name": "HSE into to dl week 1.ipynb",
      "version": "0.3.2",
      "provenance": [],
      "collapsed_sections": [
        "KV9EgjA1hQTQ"
      ],
      "include_colab_link": true
    },
    "language_info": {
      "codemirror_mode": {
        "name": "ipython",
        "version": 3
      },
      "file_extension": ".py",
      "mimetype": "text/x-python",
      "name": "python",
      "nbconvert_exporter": "python",
      "pygments_lexer": "ipython3",
      "version": "3.6.5"
    },
    "kernelspec": {
      "name": "python3",
      "display_name": "Python 3"
    },
    "accelerator": "GPU"
  },
  "cells": [
    {
      "cell_type": "markdown",
      "metadata": {
        "id": "view-in-github",
        "colab_type": "text"
      },
      "source": [
        "<a href=\"https://colab.research.google.com/github/otzhora/python_learning/blob/master/HSE_into_to_dl/HSE_into_to_dl_week_1.ipynb\" target=\"_parent\"><img src=\"https://colab.research.google.com/assets/colab-badge.svg\" alt=\"Open In Colab\"/></a>"
      ]
    },
    {
      "metadata": {
        "id": "-TXlfWNxhQSY",
        "colab_type": "text"
      },
      "cell_type": "markdown",
      "source": [
        "# Programming assignment (Linear models, Optimization)\n",
        "\n",
        "In this programming assignment you will implement a linear classifier and train it using stochastic gradient descent modifications and numpy."
      ]
    },
    {
      "metadata": {
        "id": "WEeU9i2lhqlR",
        "colab_type": "code",
        "colab": {
          "base_uri": "https://localhost:8080/",
          "height": 225
        },
        "outputId": "c09d3416-fbc1-4d49-b926-3abba759d336"
      },
      "cell_type": "code",
      "source": [
        "! shred -u setup_google_colab.py\n",
        "! wget https://raw.githubusercontent.com/hse-aml/intro-to-dl/master/setup_google_colab.py -O setup_google_colab.py\n",
        "import setup_google_colab\n",
        "setup_google_colab.setup_week1()"
      ],
      "execution_count": 1,
      "outputs": [
        {
          "output_type": "stream",
          "text": [
            "shred: setup_google_colab.py: failed to open for writing: No such file or directory\n",
            "--2019-04-10 18:33:59--  https://raw.githubusercontent.com/hse-aml/intro-to-dl/master/setup_google_colab.py\n",
            "Resolving raw.githubusercontent.com (raw.githubusercontent.com)... 151.101.0.133, 151.101.64.133, 151.101.128.133, ...\n",
            "Connecting to raw.githubusercontent.com (raw.githubusercontent.com)|151.101.0.133|:443... connected.\n",
            "HTTP request sent, awaiting response... 200 OK\n",
            "Length: 3792 (3.7K) [text/plain]\n",
            "Saving to: ‘setup_google_colab.py’\n",
            "\n",
            "setup_google_colab. 100%[===================>]   3.70K  --.-KB/s    in 0s      \n",
            "\n",
            "2019-04-10 18:34:04 (44.0 MB/s) - ‘setup_google_colab.py’ saved [3792/3792]\n",
            "\n"
          ],
          "name": "stdout"
        }
      ]
    },
    {
      "metadata": {
        "id": "rzIYHCh9hQSb",
        "colab_type": "code",
        "colab": {}
      },
      "cell_type": "code",
      "source": [
        "import numpy as np\n",
        "%matplotlib inline\n",
        "import matplotlib.pyplot as plt"
      ],
      "execution_count": 0,
      "outputs": []
    },
    {
      "metadata": {
        "id": "IC4chlDlhQSe",
        "colab_type": "code",
        "colab": {}
      },
      "cell_type": "code",
      "source": [
        "import sys\n",
        "sys.path.append(\"..\")\n",
        "import grading\n",
        "grader = grading.Grader(assignment_key=\"UaHtvpEFEee0XQ6wjK-hZg\", \n",
        "                      all_parts=[\"xU7U4\", \"HyTF6\", \"uNidL\", \"ToK7N\", \"GBdgZ\", \"dLdHG\"])"
      ],
      "execution_count": 0,
      "outputs": []
    },
    {
      "metadata": {
        "id": "Fy9aY_jEhQSh",
        "colab_type": "text"
      },
      "cell_type": "markdown",
      "source": [
        "## Two-dimensional classification\n",
        "\n",
        "To make things more intuitive, let's solve a 2D classification problem with synthetic data."
      ]
    },
    {
      "metadata": {
        "id": "Acfp0ZJ2hQSi",
        "colab_type": "code",
        "colab": {
          "base_uri": "https://localhost:8080/",
          "height": 269
        },
        "outputId": "934b9bb7-7fb2-43f0-f973-fbf4678e0acc"
      },
      "cell_type": "code",
      "source": [
        "with open('train.npy', 'rb') as fin:\n",
        "    X = np.load(fin)\n",
        "    \n",
        "with open('target.npy', 'rb') as fin:\n",
        "    y = np.load(fin)\n",
        "\n",
        "plt.scatter(X[:, 0], X[:, 1], c=y, cmap=plt.cm.Paired, s=20)\n",
        "plt.show()"
      ],
      "execution_count": 5,
      "outputs": [
        {
          "output_type": "display_data",
          "data": {
            "image/png": "[encoded data removed]",
            "text/plain": [
              "<Figure size 432x288 with 1 Axes>"
            ]
          },
          "metadata": {
            "tags": []
          }
        }
      ]
    },
    {
      "metadata": {
        "id": "MyAjjwEvhQSk",
        "colab_type": "text"
      },
      "cell_type": "markdown",
      "source": [
        "# Task\n",
        "\n",
        "## Features\n",
        "\n",
        "As you can notice the data above isn't linearly separable. Since that we should add features (or use non-linear model). Note that decision line between two classes have form of circle, since that we can add quadratic features to make the problem linearly separable. The idea under this displayed on image below:\n",
        "\n",
        "![](https://github.com/hse-aml/intro-to-dl/blob/master/week1/kernel.png?raw=1)"
      ]
    },
    {
      "metadata": {
        "id": "HD-JrLqYhQSl",
        "colab_type": "code",
        "colab": {}
      },
      "cell_type": "code",
      "source": [
        "def expand(X):\n",
        "    \"\"\"\n",
        "    Adds quadratic features. \n",
        "    This expansion allows your linear model to make non-linear separation.\n",
        "    \n",
        "    For each sample (row in matrix), compute an expanded row:\n",
        "    [feature0, feature1, feature0^2, feature1^2, feature0*feature1, 1]\n",
        "    \n",
        "    :param X: matrix of features, shape [n_samples,2]\n",
        "    :returns: expanded features of shape [n_samples,6]\n",
        "    \"\"\"\n",
        "    X_expanded = np.zeros((X.shape[0], 6))\n",
        "    \n",
        "    X_expanded[:, 0] = X[:, 0]\n",
        "    X_expanded[:, 1] = X[:, 1]\n",
        "    X_expanded[:, 2] = X[:, 0] ** 2\n",
        "    X_expanded[:, 3] = X[:, 1] ** 2\n",
        "    X_expanded[:, 4] = X[:, 0] * X[:, 1]\n",
        "    X_expanded[:, 5] = np.ones(X.shape[0])\n",
        "    \n",
        "    return X_expanded"
      ],
      "execution_count": 0,
      "outputs": []
    },
    {
      "metadata": {
        "id": "brvjifKMhQSo",
        "colab_type": "code",
        "colab": {
          "base_uri": "https://localhost:8080/",
          "height": 35
        },
        "outputId": "95c65f48-bdf5-42a2-ebc8-638730fe9a3c"
      },
      "cell_type": "code",
      "source": [
        "X_expanded = expand(X)\n",
        "X_expanded.shape"
      ],
      "execution_count": 34,
      "outputs": [
        {
          "output_type": "execute_result",
          "data": {
            "text/plain": [
              "(826, 6)"
            ]
          },
          "metadata": {
            "tags": []
          },
          "execution_count": 34
        }
      ]
    },
    {
      "metadata": {
        "id": "ch_BvD9lhQSr",
        "colab_type": "text"
      },
      "cell_type": "markdown",
      "source": [
        "Here are some tests for your implementation of `expand` function."
      ]
    },
    {
      "metadata": {
        "id": "sknw--66hQSr",
        "colab_type": "code",
        "colab": {
          "base_uri": "https://localhost:8080/",
          "height": 35
        },
        "outputId": "7ff69a8d-844f-4812-e055-35ea7fca6451"
      },
      "cell_type": "code",
      "source": [
        "# simple test on random numbers\n",
        "\n",
        "dummy_X = np.array([\n",
        "        [0,0],\n",
        "        [1,0],\n",
        "        [2.61,-1.28],\n",
        "        [-0.59,2.1]\n",
        "    ])\n",
        "\n",
        "# call your expand function\n",
        "dummy_expanded = expand(dummy_X)\n",
        "\n",
        "# what it should have returned:   x0       x1       x0^2     x1^2     x0*x1    1\n",
        "dummy_expanded_ans = np.array([[ 0.    ,  0.    ,  0.    ,  0.    ,  0.    ,  1.    ],\n",
        "                               [ 1.    ,  0.    ,  1.    ,  0.    ,  0.    ,  1.    ],\n",
        "                               [ 2.61  , -1.28  ,  6.8121,  1.6384, -3.3408,  1.    ],\n",
        "                               [-0.59  ,  2.1   ,  0.3481,  4.41  , -1.239 ,  1.    ]])\n",
        "\n",
        "#tests\n",
        "assert isinstance(dummy_expanded,np.ndarray), \"please make sure you return numpy array\"\n",
        "assert dummy_expanded.shape == dummy_expanded_ans.shape, \"please make sure your shape is correct\"\n",
        "assert np.allclose(dummy_expanded,dummy_expanded_ans,1e-3), \"Something's out of order with features\"\n",
        "\n",
        "print(\"Seems legit!\")\n"
      ],
      "execution_count": 35,
      "outputs": [
        {
          "output_type": "stream",
          "text": [
            "Seems legit!\n"
          ],
          "name": "stdout"
        }
      ]
    },
    {
      "metadata": {
        "id": "dhtO_0-chQSu",
        "colab_type": "text"
      },
      "cell_type": "markdown",
      "source": [
        "## Logistic regression\n",
        "\n",
        "To classify objects we will obtain probability of object belongs to class '1'. To predict probability we will use output of linear model and logistic function:\n",
        "\n",
        "$$ a(x; w) = \\langle w, x \\rangle $$\n",
        "$$ P( y=1 \\; \\big| \\; x, \\, w) = \\dfrac{1}{1 + \\exp(- \\langle w, x \\rangle)} = \\sigma(\\langle w, x \\rangle)$$\n"
      ]
    },
    {
      "metadata": {
        "id": "nLRrof7hhQSu",
        "colab_type": "code",
        "colab": {}
      },
      "cell_type": "code",
      "source": [
        "def probability(X, w):\n",
        "    \"\"\"\n",
        "    Given input features and weights\n",
        "    return predicted probabilities of y==1 given x, P(y=1|x), see description above\n",
        "        \n",
        "    Don't forget to use expand(X) function (where necessary) in this and subsequent functions.\n",
        "    \n",
        "    :param X: feature matrix X of shape [n_samples,6] (expanded)\n",
        "    :param w: weight vector w of shape [6] for each of the expanded features\n",
        "    :returns: an array of predicted probabilities in [0,1] interval.\n",
        "    \"\"\"\n",
        "    return 1 / (1 + np.exp(-X.dot(w)))\n",
        "    "
      ],
      "execution_count": 0,
      "outputs": []
    },
    {
      "metadata": {
        "id": "Uq4nz3CXhQSx",
        "colab_type": "code",
        "colab": {
          "base_uri": "https://localhost:8080/",
          "height": 35
        },
        "outputId": "82fcb2a7-693d-4830-ce67-161f58bf4a16"
      },
      "cell_type": "code",
      "source": [
        "dummy_weights = np.linspace(-1, 1, 6)\n",
        "ans_part1 = probability(X_expanded[:1, :], dummy_weights)\n",
        "ans_part1"
      ],
      "execution_count": 82,
      "outputs": [
        {
          "output_type": "execute_result",
          "data": {
            "text/plain": [
              "array([0.38039985])"
            ]
          },
          "metadata": {
            "tags": []
          },
          "execution_count": 82
        }
      ]
    },
    {
      "metadata": {
        "id": "sMsU66b8hQSz",
        "colab_type": "code",
        "colab": {}
      },
      "cell_type": "code",
      "source": [
        "## GRADED PART, DO NOT CHANGE!\n",
        "grader.set_answer(\"xU7U4\", ans_part1)"
      ],
      "execution_count": 0,
      "outputs": []
    },
    {
      "metadata": {
        "id": "qkO3VI36hQS1",
        "colab_type": "code",
        "colab": {}
      },
      "cell_type": "code",
      "source": [
        "# you can make submission with answers so far to check yourself at this stage\n",
        "grader.submit(COURSERA_EMAIL, COURSERA_TOKEN)"
      ],
      "execution_count": 0,
      "outputs": []
    },
    {
      "metadata": {
        "id": "LWpuOVSbhQS2",
        "colab_type": "text"
      },
      "cell_type": "markdown",
      "source": [
        "In logistic regression the optimal parameters $w$ are found by cross-entropy minimization:\n",
        "\n",
        "Loss for one sample: $$ l(x_i, y_i, w) = - \\left[ {y_i \\cdot log P(y_i = 1 \\, | \\, x_i,w) + (1-y_i) \\cdot log (1-P(y_i = 1\\, | \\, x_i,w))}\\right] $$\n",
        "\n",
        "Loss for many samples: $$ L(X, \\vec{y}, w) =  {1 \\over \\ell} \\sum_{i=1}^\\ell l(x_i, y_i, w) $$\n",
        "\n"
      ]
    },
    {
      "metadata": {
        "id": "TNtPoRx3hQS4",
        "colab_type": "code",
        "colab": {}
      },
      "cell_type": "code",
      "source": [
        "def compute_loss(X, y, w):\n",
        "    \"\"\"\n",
        "    Given feature matrix X [n_samples,6], target vector [n_samples] of 1/0,\n",
        "    and weight vector w [6], compute scalar loss function L using formula above.\n",
        "    Keep in mind that our loss is averaged over all samples (rows) in X.\n",
        "    \"\"\"\n",
        "    return (-y * np.log(probability(X, w)) - (1 - y) * np.log(1 - probability(X, w))).mean()"
      ],
      "execution_count": 0,
      "outputs": []
    },
    {
      "metadata": {
        "id": "BrSOv9hIhQS6",
        "colab_type": "code",
        "colab": {
          "base_uri": "https://localhost:8080/",
          "height": 35
        },
        "outputId": "b745ce1a-0b38-43dd-bd38-af2c23788894"
      },
      "cell_type": "code",
      "source": [
        "# use output of this cell to fill answer field \n",
        "ans_part2 = compute_loss(X_expanded, y, dummy_weights)\n",
        "ans_part2"
      ],
      "execution_count": 79,
      "outputs": [
        {
          "output_type": "execute_result",
          "data": {
            "text/plain": [
              "1.0185634030782518"
            ]
          },
          "metadata": {
            "tags": []
          },
          "execution_count": 79
        }
      ]
    },
    {
      "metadata": {
        "id": "LOxRydwVhQS7",
        "colab_type": "code",
        "colab": {}
      },
      "cell_type": "code",
      "source": [
        "## GRADED PART, DO NOT CHANGE!\n",
        "grader.set_answer(\"HyTF6\", ans_part2)"
      ],
      "execution_count": 0,
      "outputs": []
    },
    {
      "metadata": {
        "id": "JINKi_bxhQS9",
        "colab_type": "code",
        "colab": {}
      },
      "cell_type": "code",
      "source": [
        "# you can make submission with answers so far to check yourself at this stage\n",
        "grader.submit(COURSERA_EMAIL, COURSERA_TOKEN)"
      ],
      "execution_count": 0,
      "outputs": []
    },
    {
      "metadata": {
        "id": "ZZOUm0wohQS_",
        "colab_type": "text"
      },
      "cell_type": "markdown",
      "source": [
        "Since we train our model with gradient descent, we should compute gradients.\n",
        "\n",
        "To be specific, we need a derivative of loss function over each weight [6 of them].\n",
        "\n",
        "$$ \\nabla_w L = {1 \\over \\ell} \\sum_{i=1}^\\ell \\nabla_w l(x_i, y_i, w) $$ \n",
        "\n",
        "We won't be giving you the exact formula this time — instead, try figuring out a derivative with pen and paper. \n",
        "\n",
        "As usual, we've made a small test for you, but if you need more, feel free to check your math against finite differences (estimate how $L$ changes if you shift $w$ by $10^{-5}$ or so)."
      ]
    },
    {
      "metadata": {
        "id": "JbhfBJsehQTA",
        "colab_type": "code",
        "colab": {}
      },
      "cell_type": "code",
      "source": [
        "def compute_grad(X, y, w):\n",
        "    \"\"\"\n",
        "    Given feature matrix X [n_samples,6], target vector [n_samples] of 1/0,\n",
        "    and weight vector w [6], compute vector [6] of derivatives of L over each weights.\n",
        "    Keep in mind that our loss is averaged over all samples (rows) in X.\n",
        "    \"\"\"\n",
        "    \n",
        "    grad = np.zeros(6)\n",
        "    for i in range(6):\n",
        "      sigma = probability(X, w)\n",
        "      grad[i] = -(sigma * np.exp(-X.dot(w)) * X[:, i] * (y + (1 - y) * sigma / (1 - sigma))).mean()\n",
        "    return grad"
      ],
      "execution_count": 0,
      "outputs": []
    },
    {
      "metadata": {
        "id": "2yjCXpjShQTD",
        "colab_type": "code",
        "colab": {
          "base_uri": "https://localhost:8080/",
          "height": 35
        },
        "outputId": "fbc78a41-d993-409f-ef50-ac68bdbb0ed5"
      },
      "cell_type": "code",
      "source": [
        "# use output of this cell to fill answer field \n",
        "ans_part3 = np.linalg.norm(compute_grad(X_expanded, y, dummy_weights))\n",
        "ans_part3"
      ],
      "execution_count": 74,
      "outputs": [
        {
          "output_type": "execute_result",
          "data": {
            "text/plain": [
              "0.998556820762558"
            ]
          },
          "metadata": {
            "tags": []
          },
          "execution_count": 74
        }
      ]
    },
    {
      "metadata": {
        "id": "Wv13Y780hQTH",
        "colab_type": "code",
        "colab": {}
      },
      "cell_type": "code",
      "source": [
        "## GRADED PART, DO NOT CHANGE!\n",
        "grader.set_answer(\"uNidL\", ans_part3)"
      ],
      "execution_count": 0,
      "outputs": []
    },
    {
      "metadata": {
        "id": "OPelyFY7hQTK",
        "colab_type": "code",
        "colab": {}
      },
      "cell_type": "code",
      "source": [
        "# you can make submission with answers so far to check yourself at this stage\n",
        "grader.submit(COURSERA_EMAIL, COURSERA_TOKEN)"
      ],
      "execution_count": 0,
      "outputs": []
    },
    {
      "metadata": {
        "id": "rfAbpDy9hQTM",
        "colab_type": "text"
      },
      "cell_type": "markdown",
      "source": [
        "Here's an auxiliary function that visualizes the predictions:"
      ]
    },
    {
      "metadata": {
        "id": "QdBb4rhmhQTN",
        "colab_type": "code",
        "colab": {}
      },
      "cell_type": "code",
      "source": [
        "from IPython import display\n",
        "\n",
        "h = 0.01\n",
        "x_min, x_max = X[:, 0].min() - 1, X[:, 0].max() + 1\n",
        "y_min, y_max = X[:, 1].min() - 1, X[:, 1].max() + 1\n",
        "xx, yy = np.meshgrid(np.arange(x_min, x_max, h), np.arange(y_min, y_max, h))\n",
        "\n",
        "def visualize(X, y, w, history):\n",
        "    \"\"\"draws classifier prediction with matplotlib magic\"\"\"\n",
        "    Z = probability(expand(np.c_[xx.ravel(), yy.ravel()]), w)\n",
        "    Z = Z.reshape(xx.shape)\n",
        "    plt.subplot(1, 2, 1)\n",
        "    plt.contourf(xx, yy, Z, alpha=0.8)\n",
        "    plt.scatter(X[:, 0], X[:, 1], c=y, cmap=plt.cm.Paired)\n",
        "    plt.xlim(xx.min(), xx.max())\n",
        "    plt.ylim(yy.min(), yy.max())\n",
        "    \n",
        "    plt.subplot(1, 2, 2)\n",
        "    plt.plot(history)\n",
        "    plt.grid()\n",
        "    ymin, ymax = plt.ylim()\n",
        "    plt.ylim(0, ymax)\n",
        "    display.clear_output(wait=True)\n",
        "    plt.show()"
      ],
      "execution_count": 0,
      "outputs": []
    },
    {
      "metadata": {
        "id": "QNVJQqPZhQTP",
        "colab_type": "code",
        "colab": {
          "base_uri": "https://localhost:8080/",
          "height": 269
        },
        "outputId": "a26ac06d-9449-4feb-c7a3-f6d67dffb9ce"
      },
      "cell_type": "code",
      "source": [
        "visualize(X, y, dummy_weights, [0.5, 0.5, 0.25])"
      ],
      "execution_count": 57,
      "outputs": [
        {
          "output_type": "display_data",
          "data": {
            "image/png": "[encoded data removed]",
            "text/plain": [
              "<Figure size 432x288 with 2 Axes>"
            ]
          },
          "metadata": {
            "tags": []
          }
        }
      ]
    },
    {
      "metadata": {
        "id": "KV9EgjA1hQTQ",
        "colab_type": "text"
      },
      "cell_type": "markdown",
      "source": [
        "## Training\n",
        "In this section we'll use the functions you wrote to train our classifier using stochastic gradient descent.\n",
        "\n",
        "You can try change hyperparameters like batch size, learning rate and so on to find the best one, but use our hyperparameters when fill answers."
      ]
    },
    {
      "metadata": {
        "id": "xszDA7cYhQTR",
        "colab_type": "text"
      },
      "cell_type": "markdown",
      "source": [
        "## Mini-batch SGD\n",
        "\n",
        "Stochastic gradient descent just takes a random batch of $m$ samples on each iteration, calculates a gradient of the loss on it and makes a step:\n",
        "$$ w_t = w_{t-1} - \\eta \\dfrac{1}{m} \\sum_{j=1}^m \\nabla_w l(x_{i_j}, y_{i_j}, w_t) $$\n",
        "\n"
      ]
    },
    {
      "metadata": {
        "id": "rkyu_5CIhQTR",
        "colab_type": "code",
        "colab": {
          "base_uri": "https://localhost:8080/",
          "height": 286
        },
        "outputId": "e8a4f88c-e883-4a63-a4b0-67f6b4c21b3f"
      },
      "cell_type": "code",
      "source": [
        "# please use np.random.seed(42), eta=0.1, n_iter=100 and batch_size=4 for deterministic results\n",
        "\n",
        "np.random.seed(42)\n",
        "w = np.array([0, 0, 0, 0, 0, 1])\n",
        "\n",
        "eta= 0.1 # learning rate\n",
        "\n",
        "n_iter = 100\n",
        "batch_size = 4\n",
        "loss = np.zeros(n_iter)\n",
        "plt.figure(figsize=(12, 5))\n",
        "\n",
        "for i in range(n_iter):\n",
        "    ind = np.random.choice(X_expanded.shape[0], batch_size)\n",
        "    loss[i] = compute_loss(X_expanded, y, w)\n",
        "    if i % 10 == 0:\n",
        "        visualize(X_expanded[ind, :], y[ind], w, loss)\n",
        "\n",
        "    w = w - eta * compute_grad(X_expanded[ind, :], y[ind], w)\n",
        "\n",
        "visualize(X, y, w, loss)\n",
        "plt.clf()"
      ],
      "execution_count": 80,
      "outputs": [
        {
          "output_type": "display_data",
          "data": {
            "image/png": "[encoded data removed]",
            "text/plain": [
              "<Figure size 432x288 with 2 Axes>"
            ]
          },
          "metadata": {
            "tags": []
          }
        },
        {
          "output_type": "display_data",
          "data": {
            "text/plain": [
              "<Figure size 432x288 with 0 Axes>"
            ]
          },
          "metadata": {
            "tags": []
          }
        }
      ]
    },
    {
      "metadata": {
        "id": "YaZLK5qchQTT",
        "colab_type": "code",
        "colab": {
          "base_uri": "https://localhost:8080/",
          "height": 35
        },
        "outputId": "5967330a-2072-424d-e6d7-a39bea3634f4"
      },
      "cell_type": "code",
      "source": [
        "# use output of this cell to fill answer field \n",
        "\n",
        "ans_part4 = compute_loss(X_expanded, y, w)\n",
        "ans_part4"
      ],
      "execution_count": 77,
      "outputs": [
        {
          "output_type": "execute_result",
          "data": {
            "text/plain": [
              "nan"
            ]
          },
          "metadata": {
            "tags": []
          },
          "execution_count": 77
        }
      ]
    },
    {
      "metadata": {
        "id": "S5aYfEcWhQTV",
        "colab_type": "code",
        "colab": {}
      },
      "cell_type": "code",
      "source": [
        "## GRADED PART, DO NOT CHANGE!\n",
        "grader.set_answer(\"ToK7N\", ans_part4)"
      ],
      "execution_count": 0,
      "outputs": []
    },
    {
      "metadata": {
        "id": "1aKSw3ZThQTW",
        "colab_type": "code",
        "colab": {}
      },
      "cell_type": "code",
      "source": [
        "# you can make submission with answers so far to check yourself at this stage\n",
        "grader.submit(COURSERA_EMAIL, COURSERA_TOKEN)"
      ],
      "execution_count": 0,
      "outputs": []
    },
    {
      "metadata": {
        "id": "dJ6KWCjQhQTY",
        "colab_type": "text"
      },
      "cell_type": "markdown",
      "source": [
        "## SGD with momentum\n",
        "\n",
        "Momentum is a method that helps accelerate SGD in the relevant direction and dampens oscillations as can be seen in image below. It does this by adding a fraction $\\alpha$ of the update vector of the past time step to the current update vector.\n",
        "<br>\n",
        "<br>\n",
        "\n",
        "$$ \\nu_t = \\alpha \\nu_{t-1} + \\eta\\dfrac{1}{m} \\sum_{j=1}^m \\nabla_w l(x_{i_j}, y_{i_j}, w_t) $$\n",
        "$$ w_t = w_{t-1} - \\nu_t$$\n",
        "\n",
        "<br>\n",
        "\n",
        "\n",
        "![](https://github.com/hse-aml/intro-to-dl/blob/master/week1/sgd.png?raw=1)\n"
      ]
    },
    {
      "metadata": {
        "id": "IkBSEpPHhQTZ",
        "colab_type": "code",
        "colab": {}
      },
      "cell_type": "code",
      "source": [
        "# please use np.random.seed(42), eta=0.05, alpha=0.9, n_iter=100 and batch_size=4 for deterministic results\n",
        "np.random.seed(42)\n",
        "w = np.array([0, 0, 0, 0, 0, 1])\n",
        "\n",
        "eta = 0.05 # learning rate\n",
        "alpha = 0.9 # momentum\n",
        "nu = np.zeros_like(w)\n",
        "\n",
        "n_iter = 100\n",
        "batch_size = 4\n",
        "loss = np.zeros(n_iter)\n",
        "plt.figure(figsize=(12, 5))\n",
        "\n",
        "for i in range(n_iter):\n",
        "    ind = np.random.choice(X_expanded.shape[0], batch_size)\n",
        "    loss[i] = compute_loss(X_expanded, y, w)\n",
        "    if i % 10 == 0:\n",
        "        visualize(X_expanded[ind, :], y[ind], w, loss)\n",
        "\n",
        "    # TODO:<your code here>\n",
        "\n",
        "visualize(X, y, w, loss)\n",
        "plt.clf()"
      ],
      "execution_count": 0,
      "outputs": []
    },
    {
      "metadata": {
        "id": "zYfqyqXHhQTb",
        "colab_type": "code",
        "colab": {}
      },
      "cell_type": "code",
      "source": [
        "# use output of this cell to fill answer field \n",
        "\n",
        "ans_part5 = compute_loss(X_expanded, y, w)"
      ],
      "execution_count": 0,
      "outputs": []
    },
    {
      "metadata": {
        "id": "Hzfu6uughQTd",
        "colab_type": "code",
        "colab": {}
      },
      "cell_type": "code",
      "source": [
        "## GRADED PART, DO NOT CHANGE!\n",
        "grader.set_answer(\"GBdgZ\", ans_part5)"
      ],
      "execution_count": 0,
      "outputs": []
    },
    {
      "metadata": {
        "id": "_hMPUF1IhQTf",
        "colab_type": "code",
        "colab": {}
      },
      "cell_type": "code",
      "source": [
        "# you can make submission with answers so far to check yourself at this stage\n",
        "grader.submit(COURSERA_EMAIL, COURSERA_TOKEN)"
      ],
      "execution_count": 0,
      "outputs": []
    },
    {
      "metadata": {
        "id": "ae7JtocqhQTh",
        "colab_type": "text"
      },
      "cell_type": "markdown",
      "source": [
        "## RMSprop\n",
        "\n",
        "Implement RMSPROP algorithm, which use squared gradients to adjust learning rate:\n",
        "\n",
        "$$ G_j^t = \\alpha G_j^{t-1} + (1 - \\alpha) g_{tj}^2 $$\n",
        "$$ w_j^t = w_j^{t-1} - \\dfrac{\\eta}{\\sqrt{G_j^t + \\varepsilon}} g_{tj} $$"
      ]
    },
    {
      "metadata": {
        "id": "QV3B4E5WhQTi",
        "colab_type": "code",
        "colab": {}
      },
      "cell_type": "code",
      "source": [
        "# please use np.random.seed(42), eta=0.1, alpha=0.9, n_iter=100 and batch_size=4 for deterministic results\n",
        "np.random.seed(42)\n",
        "\n",
        "w = np.array([0, 0, 0, 0, 0, 1.])\n",
        "\n",
        "eta = 0.1 # learning rate\n",
        "alpha = 0.9 # moving average of gradient norm squared\n",
        "g2 = None # we start with None so that you can update this value correctly on the first iteration\n",
        "eps = 1e-8\n",
        "\n",
        "n_iter = 100\n",
        "batch_size = 4\n",
        "loss = np.zeros(n_iter)\n",
        "plt.figure(figsize=(12,5))\n",
        "for i in range(n_iter):\n",
        "    ind = np.random.choice(X_expanded.shape[0], batch_size)\n",
        "    loss[i] = compute_loss(X_expanded, y, w)\n",
        "    if i % 10 == 0:\n",
        "        visualize(X_expanded[ind, :], y[ind], w, loss)\n",
        "\n",
        "    # TODO:<your code here>\n",
        "\n",
        "visualize(X, y, w, loss)\n",
        "plt.clf()"
      ],
      "execution_count": 0,
      "outputs": []
    },
    {
      "metadata": {
        "id": "MWshDtBmhQTk",
        "colab_type": "code",
        "colab": {}
      },
      "cell_type": "code",
      "source": [
        "# use output of this cell to fill answer field \n",
        "ans_part6 = compute_loss(X_expanded, y, w)"
      ],
      "execution_count": 0,
      "outputs": []
    },
    {
      "metadata": {
        "id": "4BIWH6_QhQTn",
        "colab_type": "code",
        "colab": {}
      },
      "cell_type": "code",
      "source": [
        "## GRADED PART, DO NOT CHANGE!\n",
        "grader.set_answer(\"dLdHG\", ans_part6)"
      ],
      "execution_count": 0,
      "outputs": []
    },
    {
      "metadata": {
        "id": "06XUfks6hQTp",
        "colab_type": "code",
        "colab": {}
      },
      "cell_type": "code",
      "source": [
        "grader.submit(COURSERA_EMAIL, COURSERA_TOKEN)"
      ],
      "execution_count": 0,
      "outputs": []
    }
  ]
}