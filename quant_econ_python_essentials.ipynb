{
 "cells": [
  {
   "cell_type": "code",
   "execution_count": 1,
   "metadata": {},
   "outputs": [],
   "source": [
    "# https://lectures.quantecon.org/py/python_essentials.html"
   ]
  },
  {
   "cell_type": "code",
   "execution_count": 9,
   "metadata": {},
   "outputs": [],
   "source": [
    "import numpy as np"
   ]
  },
  {
   "cell_type": "code",
   "execution_count": 25,
   "metadata": {},
   "outputs": [
    {
     "name": "stdout",
     "output_type": "stream",
     "text": [
      "1.0548621672924234\n",
      "50\n"
     ]
    },
    {
     "data": {
      "text/plain": [
       "2"
      ]
     },
     "execution_count": 25,
     "metadata": {},
     "output_type": "execute_result"
    }
   ],
   "source": [
    "# ex 1\n",
    "\n",
    "x_vals = np.random.randn(10)\n",
    "y_vals = np.random.randn(10)\n",
    "\n",
    "print(sum(x * y for x, y in zip(x_vals, y_vals)))\n",
    "print(sum(x % 2 == 0 for x in range(100)))\n",
    "\n",
    "pairs = ((2, 5), (4, 2), (9, 8), (12, 10))\n",
    "\n",
    "sum(a % 2 == 0 and b % 2 == 0 for a, b in pairs)"
   ]
  },
  {
   "cell_type": "code",
   "execution_count": 27,
   "metadata": {},
   "outputs": [
    {
     "data": {
      "text/plain": [
       "6"
      ]
     },
     "execution_count": 27,
     "metadata": {},
     "output_type": "execute_result"
    }
   ],
   "source": [
    "# ex 2\n",
    "\n",
    "def p(x, coeff): \n",
    "    return sum(coeff*pow(x, i) for i, coeff in enumerate(coeff))\n",
    "\n",
    "p(1, [1, 2, 3])"
   ]
  },
  {
   "cell_type": "code",
   "execution_count": 31,
   "metadata": {},
   "outputs": [
    {
     "data": {
      "text/plain": [
       "6"
      ]
     },
     "execution_count": 31,
     "metadata": {},
     "output_type": "execute_result"
    }
   ],
   "source": [
    "# ex 3\n",
    "\n",
    "def number_of_capitals(s):\n",
    "    return sum([c == cap_c for c, cap_c in zip(s, s.upper())])\n",
    "\n",
    "number_of_capitals('FoofFFFeFF')"
   ]
  },
  {
   "cell_type": "code",
   "execution_count": 30,
   "metadata": {},
   "outputs": [
    {
     "data": {
      "text/plain": [
       "True"
      ]
     },
     "execution_count": 30,
     "metadata": {},
     "output_type": "execute_result"
    }
   ],
   "source": [
    "# ex 4\n",
    "\n",
    "def f(seq_a, seq_b): \n",
    "    return all([a in seq_b for a in seq_a])\n",
    "\n",
    "d([1, 2, 3], [1, 2, 3, 4, 5, 6])"
   ]
  },
  {
   "cell_type": "code",
   "execution_count": 32,
   "metadata": {},
   "outputs": [],
   "source": [
    "# ex 5\n",
    "\n",
    "# piecewise linear interpolation \n",
    "\n",
    "def linapprox(f, a, b, n, x):\n",
    "    length = b - a\n",
    "    step_size = length / n\n",
    "    \n",
    "    point = a\n",
    "    while point <= x:\n",
    "        point += step_size\n",
    "        \n",
    "    x0 = point - step_size\n",
    "    x1 = point \n",
    "    \n",
    "    return f(x0) + (x - x0) * (f(x1) - f(x0)) / (x1 - x0)\n",
    "    "
   ]
  },
  {
   "cell_type": "code",
   "execution_count": 47,
   "metadata": {},
   "outputs": [
    {
     "data": {
      "image/png": "[encoded data removed]",
      "text/plain": [
       "<Figure size 432x288 with 1 Axes>"
      ]
     },
     "metadata": {
      "needs_background": "light"
     },
     "output_type": "display_data"
    }
   ],
   "source": [
    "import matplotlib.pyplot as plt\n",
    "\n",
    "number_of_steps = 20\n",
    "graph_linspace = np.linspace(-np.pi/2, np.pi/2, 100)\n",
    "\n",
    "y = []\n",
    "for i in graph_linspace:\n",
    "    y.append(linapprox(np.sin, -np.pi/2, np.pi/2, number_of_steps, i))\n",
    "    \n",
    "plt.plot(graph_linspace, y)\n",
    "plt.axis((-np.pi/2, np.pi/2, -1, 1))\n",
    "plt.show()"
   ]
  }
 ],
 "metadata": {
  "kernelspec": {
   "display_name": "Python 3",
   "language": "python",
   "name": "python3"
  },
  "language_info": {
   "codemirror_mode": {
    "name": "ipython",
    "version": 3
   },
   "file_extension": ".py",
   "mimetype": "text/x-python",
   "name": "python",
   "nbconvert_exporter": "python",
   "pygments_lexer": "ipython3",
   "version": "3.6.6"
  }
 },
 "nbformat": 4,
 "nbformat_minor": 2
}
