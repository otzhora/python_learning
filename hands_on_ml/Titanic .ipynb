{
 "cells": [
  {
   "cell_type": "code",
   "execution_count": 108,
   "metadata": {
    "scrolled": true
   },
   "outputs": [],
   "source": [
    "import pandas as pd\n",
    "import numpy as np\n",
    "from sklearn.feature_selection import SelectFromModel\n",
    "from sklearn.linear_model import LassoCV\n",
    "from sklearn.model_selection import GridSearchCV\n",
    "from sklearn.preprocessing import RobustScaler\n",
    "from keras import backend as K\n",
    "from keras.models import Sequential\n",
    "from keras.layers import Dense, InputLayer, Dropout\n",
    "from keras.wrappers.scikit_learn import KerasClassifier\n",
    "import re"
   ]
  },
  {
   "cell_type": "code",
   "execution_count": 70,
   "metadata": {
    "scrolled": true
   },
   "outputs": [],
   "source": [
    "train = pd.read_csv('./datasets/titanic/train.csv')\n",
    "test = pd.read_csv('./datasets/titanic/test.csv')\n",
    "num_train = len(train)"
   ]
  },
  {
   "cell_type": "code",
   "execution_count": 71,
   "metadata": {
    "scrolled": true
   },
   "outputs": [],
   "source": [
    "df_all = pd.concat([train, test], sort=False)"
   ]
  },
  {
   "cell_type": "code",
   "execution_count": 72,
   "metadata": {
    "scrolled": true
   },
   "outputs": [
    {
     "data": {
      "text/html": [
       "<div>\n",
       "<style scoped>\n",
       "    .dataframe tbody tr th:only-of-type {\n",
       "        vertical-align: middle;\n",
       "    }\n",
       "\n",
       "    .dataframe tbody tr th {\n",
       "        vertical-align: top;\n",
       "    }\n",
       "\n",
       "    .dataframe thead th {\n",
       "        text-align: right;\n",
       "    }\n",
       "</style>\n",
       "<table border=\"1\" class=\"dataframe\">\n",
       "  <thead>\n",
       "    <tr style=\"text-align: right;\">\n",
       "      <th></th>\n",
       "      <th>PassengerId</th>\n",
       "      <th>Survived</th>\n",
       "      <th>Pclass</th>\n",
       "      <th>Name</th>\n",
       "      <th>Sex</th>\n",
       "      <th>Age</th>\n",
       "      <th>SibSp</th>\n",
       "      <th>Parch</th>\n",
       "      <th>Ticket</th>\n",
       "      <th>Fare</th>\n",
       "      <th>Cabin</th>\n",
       "      <th>Embarked</th>\n",
       "    </tr>\n",
       "  </thead>\n",
       "  <tbody>\n",
       "    <tr>\n",
       "      <th>0</th>\n",
       "      <td>1</td>\n",
       "      <td>0.0</td>\n",
       "      <td>3</td>\n",
       "      <td>Braund, Mr. Owen Harris</td>\n",
       "      <td>male</td>\n",
       "      <td>22.0</td>\n",
       "      <td>1</td>\n",
       "      <td>0</td>\n",
       "      <td>A/5 21171</td>\n",
       "      <td>7.2500</td>\n",
       "      <td>NaN</td>\n",
       "      <td>S</td>\n",
       "    </tr>\n",
       "    <tr>\n",
       "      <th>1</th>\n",
       "      <td>2</td>\n",
       "      <td>1.0</td>\n",
       "      <td>1</td>\n",
       "      <td>Cumings, Mrs. John Bradley (Florence Briggs Th...</td>\n",
       "      <td>female</td>\n",
       "      <td>38.0</td>\n",
       "      <td>1</td>\n",
       "      <td>0</td>\n",
       "      <td>PC 17599</td>\n",
       "      <td>71.2833</td>\n",
       "      <td>C85</td>\n",
       "      <td>C</td>\n",
       "    </tr>\n",
       "    <tr>\n",
       "      <th>2</th>\n",
       "      <td>3</td>\n",
       "      <td>1.0</td>\n",
       "      <td>3</td>\n",
       "      <td>Heikkinen, Miss. Laina</td>\n",
       "      <td>female</td>\n",
       "      <td>26.0</td>\n",
       "      <td>0</td>\n",
       "      <td>0</td>\n",
       "      <td>STON/O2. 3101282</td>\n",
       "      <td>7.9250</td>\n",
       "      <td>NaN</td>\n",
       "      <td>S</td>\n",
       "    </tr>\n",
       "    <tr>\n",
       "      <th>3</th>\n",
       "      <td>4</td>\n",
       "      <td>1.0</td>\n",
       "      <td>1</td>\n",
       "      <td>Futrelle, Mrs. Jacques Heath (Lily May Peel)</td>\n",
       "      <td>female</td>\n",
       "      <td>35.0</td>\n",
       "      <td>1</td>\n",
       "      <td>0</td>\n",
       "      <td>113803</td>\n",
       "      <td>53.1000</td>\n",
       "      <td>C123</td>\n",
       "      <td>S</td>\n",
       "    </tr>\n",
       "    <tr>\n",
       "      <th>4</th>\n",
       "      <td>5</td>\n",
       "      <td>0.0</td>\n",
       "      <td>3</td>\n",
       "      <td>Allen, Mr. William Henry</td>\n",
       "      <td>male</td>\n",
       "      <td>35.0</td>\n",
       "      <td>0</td>\n",
       "      <td>0</td>\n",
       "      <td>373450</td>\n",
       "      <td>8.0500</td>\n",
       "      <td>NaN</td>\n",
       "      <td>S</td>\n",
       "    </tr>\n",
       "  </tbody>\n",
       "</table>\n",
       "</div>"
      ],
      "text/plain": [
       "   PassengerId  Survived  Pclass                                               Name     Sex   Age  SibSp  Parch            Ticket     Fare Cabin Embarked\n",
       "0            1       0.0       3                            Braund, Mr. Owen Harris    male  22.0      1      0         A/5 21171   7.2500   NaN        S\n",
       "1            2       1.0       1  Cumings, Mrs. John Bradley (Florence Briggs Th...  female  38.0      1      0          PC 17599  71.2833   C85        C\n",
       "2            3       1.0       3                             Heikkinen, Miss. Laina  female  26.0      0      0  STON/O2. 3101282   7.9250   NaN        S\n",
       "3            4       1.0       1       Futrelle, Mrs. Jacques Heath (Lily May Peel)  female  35.0      1      0            113803  53.1000  C123        S\n",
       "4            5       0.0       3                           Allen, Mr. William Henry    male  35.0      0      0            373450   8.0500   NaN        S"
      ]
     },
     "execution_count": 72,
     "metadata": {},
     "output_type": "execute_result"
    }
   ],
   "source": [
    "df_all.head()"
   ]
  },
  {
   "cell_type": "code",
   "execution_count": 73,
   "metadata": {
    "scrolled": true
   },
   "outputs": [],
   "source": [
    "df_all['Embarked'] = df_all['Embarked'].fillna('S')"
   ]
  },
  {
   "cell_type": "code",
   "execution_count": 74,
   "metadata": {
    "scrolled": true
   },
   "outputs": [],
   "source": [
    "df_all = df_all.drop(columns=['Ticket', 'Cabin'])"
   ]
  },
  {
   "cell_type": "markdown",
   "metadata": {},
   "source": [
    "Sex"
   ]
  },
  {
   "cell_type": "code",
   "execution_count": 75,
   "metadata": {
    "scrolled": true
   },
   "outputs": [],
   "source": [
    "df_all['Sex'] = df_all['Sex'].map({'female': 0, 'male': 1}).astype(int)"
   ]
  },
  {
   "cell_type": "markdown",
   "metadata": {},
   "source": [
    "age proccesing "
   ]
  },
  {
   "cell_type": "code",
   "execution_count": 76,
   "metadata": {
    "scrolled": true
   },
   "outputs": [],
   "source": [
    "for i in range(0, 2):\n",
    "    for j in range(0, 3):\n",
    "        df_all.loc[(df_all['Age'].isna()) & (df_all['Sex'] == i) & (df_all['Pclass'] == j + 1), 'Age'] = df_all[(df_all['Sex'] == i) & (df_all['Pclass'] == j + 1)]['Age'].dropna().median()"
   ]
  },
  {
   "cell_type": "code",
   "execution_count": 77,
   "metadata": {
    "scrolled": true
   },
   "outputs": [],
   "source": [
    "df_all.loc[ df_all['Age'] <= 16, 'Age'] = 0\n",
    "df_all.loc[(df_all['Age'] > 16) & (df_all['Age'] <= 32), 'Age'] = 1\n",
    "df_all.loc[(df_all['Age'] > 32) & (df_all['Age'] <= 48), 'Age'] = 2\n",
    "df_all.loc[(df_all['Age'] > 48) & (df_all['Age'] <= 64), 'Age'] = 3\n",
    "df_all.loc[ df_all['Age'] > 64, 'Age'] = 4"
   ]
  },
  {
   "cell_type": "markdown",
   "metadata": {},
   "source": [
    "fare processing"
   ]
  },
  {
   "cell_type": "code",
   "execution_count": 80,
   "metadata": {
    "scrolled": true
   },
   "outputs": [],
   "source": [
    "df_all.loc[ df_all['Fare'] <= 7.91, 'Fare'] = 0\n",
    "df_all.loc[(df_all['Fare'] > 7.91) & (df_all['Fare'] <= 14.454), 'Fare'] = 1\n",
    "df_all.loc[(df_all['Fare'] > 14.454) & (df_all['Fare'] <= 31), 'Fare']  = 2\n",
    "df_all.loc[ df_all['Fare'] > 31, 'Fare'] = 3"
   ]
  },
  {
   "cell_type": "code",
   "execution_count": 81,
   "metadata": {
    "scrolled": true
   },
   "outputs": [],
   "source": [
    "df_all['Fare'].fillna(df_all['Fare'].dropna().median(), inplace=True)"
   ]
  },
  {
   "cell_type": "markdown",
   "metadata": {},
   "source": [
    "Is alone processing"
   ]
  },
  {
   "cell_type": "code",
   "execution_count": 82,
   "metadata": {
    "scrolled": true
   },
   "outputs": [],
   "source": [
    "df_all['IsAlone'] = 0\n",
    "df_all.loc[df_all['SibSp'] + df_all['Parch'] == 0, 'IsAlone'] = 1"
   ]
  },
  {
   "cell_type": "code",
   "execution_count": 83,
   "metadata": {
    "scrolled": true
   },
   "outputs": [],
   "source": [
    "df_all = df_all.drop(columns=['SibSp', 'Parch'])"
   ]
  },
  {
   "cell_type": "markdown",
   "metadata": {},
   "source": [
    "Title"
   ]
  },
  {
   "cell_type": "code",
   "execution_count": 84,
   "metadata": {
    "scrolled": true
   },
   "outputs": [],
   "source": [
    "def get_title(name):\n",
    "    title_search = re.search(' ([A-Za-z]+)\\.', name)\n",
    "    if title_search:\n",
    "        return title_search.group(1)\n",
    "    return \"\""
   ]
  },
  {
   "cell_type": "code",
   "execution_count": 85,
   "metadata": {
    "scrolled": true
   },
   "outputs": [],
   "source": [
    "df_all['Name'] = df_all['Name'].apply(get_title)\n",
    "df_all['Name'] = df_all['Name'].replace(['Lady', 'Countess','Capt', 'Col',\\\n",
    "'Don', 'Dr', 'Major', 'Rev', 'Sir', 'Jonkheer', 'Dona'], 'Rare')\n",
    "\n",
    "df_all['Name'] = df_all['Name'].replace('Mlle', 'Miss')\n",
    "df_all['Name'] = df_all['Name'].replace('Ms', 'Miss')\n",
    "df_all['Name'] = df_all['Name'].replace('Mme', 'Mrs')\n",
    "        "
   ]
  },
  {
   "cell_type": "code",
   "execution_count": 86,
   "metadata": {
    "scrolled": true
   },
   "outputs": [],
   "source": [
    "title_mapping = {\"Mr\": 1, \"Miss\": 2, \"Mrs\": 3, \"Master\": 4, \"Rare\": 5}\n",
    "df_all['Name'] = df_all['Name'].map(title_mapping)\n",
    "df_all['Name'] = df_all['Name'].fillna(0)"
   ]
  },
  {
   "cell_type": "markdown",
   "metadata": {},
   "source": [
    "Embarked"
   ]
  },
  {
   "cell_type": "code",
   "execution_count": 87,
   "metadata": {
    "scrolled": true
   },
   "outputs": [],
   "source": [
    "df_all['Embarked'] = df_all['Embarked'].map({'S': 0, 'C': 1, 'Q': 2}).astype(int)"
   ]
  },
  {
   "cell_type": "markdown",
   "metadata": {},
   "source": [
    "Age*class"
   ]
  },
  {
   "cell_type": "code",
   "execution_count": 88,
   "metadata": {
    "scrolled": true
   },
   "outputs": [],
   "source": [
    "df_all['Age*class'] = df_all['Age'] * df_all['Pclass']"
   ]
  },
  {
   "cell_type": "code",
   "execution_count": 89,
   "metadata": {
    "scrolled": true
   },
   "outputs": [
    {
     "data": {
      "text/html": [
       "<div>\n",
       "<style scoped>\n",
       "    .dataframe tbody tr th:only-of-type {\n",
       "        vertical-align: middle;\n",
       "    }\n",
       "\n",
       "    .dataframe tbody tr th {\n",
       "        vertical-align: top;\n",
       "    }\n",
       "\n",
       "    .dataframe thead th {\n",
       "        text-align: right;\n",
       "    }\n",
       "</style>\n",
       "<table border=\"1\" class=\"dataframe\">\n",
       "  <thead>\n",
       "    <tr style=\"text-align: right;\">\n",
       "      <th></th>\n",
       "      <th>PassengerId</th>\n",
       "      <th>Survived</th>\n",
       "      <th>Pclass</th>\n",
       "      <th>Name</th>\n",
       "      <th>Sex</th>\n",
       "      <th>Age</th>\n",
       "      <th>Fare</th>\n",
       "      <th>Embarked</th>\n",
       "      <th>IsAlone</th>\n",
       "      <th>Age*class</th>\n",
       "    </tr>\n",
       "  </thead>\n",
       "  <tbody>\n",
       "    <tr>\n",
       "      <th>0</th>\n",
       "      <td>1</td>\n",
       "      <td>0.0</td>\n",
       "      <td>3</td>\n",
       "      <td>1</td>\n",
       "      <td>1</td>\n",
       "      <td>1.0</td>\n",
       "      <td>0.0</td>\n",
       "      <td>0</td>\n",
       "      <td>0</td>\n",
       "      <td>3.0</td>\n",
       "    </tr>\n",
       "    <tr>\n",
       "      <th>1</th>\n",
       "      <td>2</td>\n",
       "      <td>1.0</td>\n",
       "      <td>1</td>\n",
       "      <td>3</td>\n",
       "      <td>0</td>\n",
       "      <td>2.0</td>\n",
       "      <td>3.0</td>\n",
       "      <td>1</td>\n",
       "      <td>0</td>\n",
       "      <td>2.0</td>\n",
       "    </tr>\n",
       "    <tr>\n",
       "      <th>2</th>\n",
       "      <td>3</td>\n",
       "      <td>1.0</td>\n",
       "      <td>3</td>\n",
       "      <td>2</td>\n",
       "      <td>0</td>\n",
       "      <td>1.0</td>\n",
       "      <td>1.0</td>\n",
       "      <td>0</td>\n",
       "      <td>1</td>\n",
       "      <td>3.0</td>\n",
       "    </tr>\n",
       "    <tr>\n",
       "      <th>3</th>\n",
       "      <td>4</td>\n",
       "      <td>1.0</td>\n",
       "      <td>1</td>\n",
       "      <td>3</td>\n",
       "      <td>0</td>\n",
       "      <td>2.0</td>\n",
       "      <td>3.0</td>\n",
       "      <td>0</td>\n",
       "      <td>0</td>\n",
       "      <td>2.0</td>\n",
       "    </tr>\n",
       "    <tr>\n",
       "      <th>4</th>\n",
       "      <td>5</td>\n",
       "      <td>0.0</td>\n",
       "      <td>3</td>\n",
       "      <td>1</td>\n",
       "      <td>1</td>\n",
       "      <td>2.0</td>\n",
       "      <td>1.0</td>\n",
       "      <td>0</td>\n",
       "      <td>1</td>\n",
       "      <td>6.0</td>\n",
       "    </tr>\n",
       "  </tbody>\n",
       "</table>\n",
       "</div>"
      ],
      "text/plain": [
       "   PassengerId  Survived  Pclass  Name  Sex  Age  Fare  Embarked  IsAlone  Age*class\n",
       "0            1       0.0       3     1    1  1.0   0.0         0        0        3.0\n",
       "1            2       1.0       1     3    0  2.0   3.0         1        0        2.0\n",
       "2            3       1.0       3     2    0  1.0   1.0         0        1        3.0\n",
       "3            4       1.0       1     3    0  2.0   3.0         0        0        2.0\n",
       "4            5       0.0       3     1    1  2.0   1.0         0        1        6.0"
      ]
     },
     "execution_count": 89,
     "metadata": {},
     "output_type": "execute_result"
    }
   ],
   "source": [
    "df_all.head()"
   ]
  },
  {
   "cell_type": "markdown",
   "metadata": {},
   "source": [
    "Split df on test and train set's"
   ]
  },
  {
   "cell_type": "code",
   "execution_count": 90,
   "metadata": {
    "scrolled": true
   },
   "outputs": [],
   "source": [
    "X_train = df_all.iloc[:num_train].drop(columns=['Survived', 'PassengerId'])\n",
    "y_train = df_all.iloc[:num_train]['Survived']"
   ]
  },
  {
   "cell_type": "code",
   "execution_count": 91,
   "metadata": {
    "scrolled": true
   },
   "outputs": [],
   "source": [
    "y_train = pd.get_dummies(y_train)"
   ]
  },
  {
   "cell_type": "code",
   "execution_count": 92,
   "metadata": {
    "scrolled": true
   },
   "outputs": [
    {
     "data": {
      "text/html": [
       "<div>\n",
       "<style scoped>\n",
       "    .dataframe tbody tr th:only-of-type {\n",
       "        vertical-align: middle;\n",
       "    }\n",
       "\n",
       "    .dataframe tbody tr th {\n",
       "        vertical-align: top;\n",
       "    }\n",
       "\n",
       "    .dataframe thead th {\n",
       "        text-align: right;\n",
       "    }\n",
       "</style>\n",
       "<table border=\"1\" class=\"dataframe\">\n",
       "  <thead>\n",
       "    <tr style=\"text-align: right;\">\n",
       "      <th></th>\n",
       "      <th>0.0</th>\n",
       "      <th>1.0</th>\n",
       "    </tr>\n",
       "  </thead>\n",
       "  <tbody>\n",
       "    <tr>\n",
       "      <th>0</th>\n",
       "      <td>1</td>\n",
       "      <td>0</td>\n",
       "    </tr>\n",
       "    <tr>\n",
       "      <th>1</th>\n",
       "      <td>0</td>\n",
       "      <td>1</td>\n",
       "    </tr>\n",
       "    <tr>\n",
       "      <th>2</th>\n",
       "      <td>0</td>\n",
       "      <td>1</td>\n",
       "    </tr>\n",
       "    <tr>\n",
       "      <th>3</th>\n",
       "      <td>0</td>\n",
       "      <td>1</td>\n",
       "    </tr>\n",
       "    <tr>\n",
       "      <th>4</th>\n",
       "      <td>1</td>\n",
       "      <td>0</td>\n",
       "    </tr>\n",
       "  </tbody>\n",
       "</table>\n",
       "</div>"
      ],
      "text/plain": [
       "   0.0  1.0\n",
       "0    1    0\n",
       "1    0    1\n",
       "2    0    1\n",
       "3    0    1\n",
       "4    1    0"
      ]
     },
     "execution_count": 92,
     "metadata": {},
     "output_type": "execute_result"
    }
   ],
   "source": [
    "y_train.head()"
   ]
  },
  {
   "cell_type": "code",
   "execution_count": 93,
   "metadata": {
    "scrolled": true
   },
   "outputs": [],
   "source": [
    "X_test = df_all.iloc[num_train:].drop(columns=['Survived'])"
   ]
  },
  {
   "cell_type": "code",
   "execution_count": 94,
   "metadata": {
    "scrolled": true
   },
   "outputs": [
    {
     "data": {
      "text/html": [
       "<div>\n",
       "<style scoped>\n",
       "    .dataframe tbody tr th:only-of-type {\n",
       "        vertical-align: middle;\n",
       "    }\n",
       "\n",
       "    .dataframe tbody tr th {\n",
       "        vertical-align: top;\n",
       "    }\n",
       "\n",
       "    .dataframe thead th {\n",
       "        text-align: right;\n",
       "    }\n",
       "</style>\n",
       "<table border=\"1\" class=\"dataframe\">\n",
       "  <thead>\n",
       "    <tr style=\"text-align: right;\">\n",
       "      <th></th>\n",
       "      <th>0.0</th>\n",
       "      <th>1.0</th>\n",
       "    </tr>\n",
       "  </thead>\n",
       "  <tbody>\n",
       "    <tr>\n",
       "      <th>0</th>\n",
       "      <td>1</td>\n",
       "      <td>0</td>\n",
       "    </tr>\n",
       "    <tr>\n",
       "      <th>1</th>\n",
       "      <td>0</td>\n",
       "      <td>1</td>\n",
       "    </tr>\n",
       "    <tr>\n",
       "      <th>2</th>\n",
       "      <td>0</td>\n",
       "      <td>1</td>\n",
       "    </tr>\n",
       "    <tr>\n",
       "      <th>3</th>\n",
       "      <td>0</td>\n",
       "      <td>1</td>\n",
       "    </tr>\n",
       "    <tr>\n",
       "      <th>4</th>\n",
       "      <td>1</td>\n",
       "      <td>0</td>\n",
       "    </tr>\n",
       "  </tbody>\n",
       "</table>\n",
       "</div>"
      ],
      "text/plain": [
       "   0.0  1.0\n",
       "0    1    0\n",
       "1    0    1\n",
       "2    0    1\n",
       "3    0    1\n",
       "4    1    0"
      ]
     },
     "execution_count": 94,
     "metadata": {},
     "output_type": "execute_result"
    }
   ],
   "source": [
    "y_train.head()"
   ]
  },
  {
   "cell_type": "code",
   "execution_count": 95,
   "metadata": {
    "scrolled": true
   },
   "outputs": [],
   "source": [
    "ID = X_test['PassengerId']\n",
    "X_test = X_test.drop(columns=['PassengerId'])"
   ]
  },
  {
   "cell_type": "code",
   "execution_count": 96,
   "metadata": {
    "scrolled": true
   },
   "outputs": [
    {
     "data": {
      "text/html": [
       "<div>\n",
       "<style scoped>\n",
       "    .dataframe tbody tr th:only-of-type {\n",
       "        vertical-align: middle;\n",
       "    }\n",
       "\n",
       "    .dataframe tbody tr th {\n",
       "        vertical-align: top;\n",
       "    }\n",
       "\n",
       "    .dataframe thead th {\n",
       "        text-align: right;\n",
       "    }\n",
       "</style>\n",
       "<table border=\"1\" class=\"dataframe\">\n",
       "  <thead>\n",
       "    <tr style=\"text-align: right;\">\n",
       "      <th></th>\n",
       "      <th>Pclass</th>\n",
       "      <th>Name</th>\n",
       "      <th>Sex</th>\n",
       "      <th>Age</th>\n",
       "      <th>Fare</th>\n",
       "      <th>Embarked</th>\n",
       "      <th>IsAlone</th>\n",
       "      <th>Age*class</th>\n",
       "    </tr>\n",
       "  </thead>\n",
       "  <tbody>\n",
       "    <tr>\n",
       "      <th>0</th>\n",
       "      <td>3</td>\n",
       "      <td>1</td>\n",
       "      <td>1</td>\n",
       "      <td>2.0</td>\n",
       "      <td>0.0</td>\n",
       "      <td>2</td>\n",
       "      <td>1</td>\n",
       "      <td>6.0</td>\n",
       "    </tr>\n",
       "    <tr>\n",
       "      <th>1</th>\n",
       "      <td>3</td>\n",
       "      <td>3</td>\n",
       "      <td>0</td>\n",
       "      <td>2.0</td>\n",
       "      <td>0.0</td>\n",
       "      <td>0</td>\n",
       "      <td>0</td>\n",
       "      <td>6.0</td>\n",
       "    </tr>\n",
       "    <tr>\n",
       "      <th>2</th>\n",
       "      <td>2</td>\n",
       "      <td>1</td>\n",
       "      <td>1</td>\n",
       "      <td>3.0</td>\n",
       "      <td>1.0</td>\n",
       "      <td>2</td>\n",
       "      <td>1</td>\n",
       "      <td>6.0</td>\n",
       "    </tr>\n",
       "    <tr>\n",
       "      <th>3</th>\n",
       "      <td>3</td>\n",
       "      <td>1</td>\n",
       "      <td>1</td>\n",
       "      <td>1.0</td>\n",
       "      <td>1.0</td>\n",
       "      <td>0</td>\n",
       "      <td>1</td>\n",
       "      <td>3.0</td>\n",
       "    </tr>\n",
       "    <tr>\n",
       "      <th>4</th>\n",
       "      <td>3</td>\n",
       "      <td>3</td>\n",
       "      <td>0</td>\n",
       "      <td>1.0</td>\n",
       "      <td>1.0</td>\n",
       "      <td>0</td>\n",
       "      <td>0</td>\n",
       "      <td>3.0</td>\n",
       "    </tr>\n",
       "  </tbody>\n",
       "</table>\n",
       "</div>"
      ],
      "text/plain": [
       "   Pclass  Name  Sex  Age  Fare  Embarked  IsAlone  Age*class\n",
       "0       3     1    1  2.0   0.0         2        1        6.0\n",
       "1       3     3    0  2.0   0.0         0        0        6.0\n",
       "2       2     1    1  3.0   1.0         2        1        6.0\n",
       "3       3     1    1  1.0   1.0         0        1        3.0\n",
       "4       3     3    0  1.0   1.0         0        0        3.0"
      ]
     },
     "execution_count": 96,
     "metadata": {},
     "output_type": "execute_result"
    }
   ],
   "source": [
    "X_test.head()"
   ]
  },
  {
   "cell_type": "markdown",
   "metadata": {},
   "source": [
    "# training"
   ]
  },
  {
   "cell_type": "code",
   "execution_count": 114,
   "metadata": {
    "scrolled": true
   },
   "outputs": [],
   "source": [
    "def create_model(layers=1, neurons=20, dropout=0.2, activation='relu'):\n",
    "    model = Sequential()\n",
    "    model.add(InputLayer(input_shape=(X_train.shape[1],)))\n",
    "    \n",
    "    for _ in range(layers):\n",
    "        model.add(Dense(neurons, activation=activation))\n",
    "        model.add(Dropout(dropout))\n",
    "    \n",
    "    model.add(Dense(2, activation='softmax'))\n",
    "    model.compile(loss='categorical_crossentropy', optimizer='nadam', metrics=['accuracy'])\n",
    "    return model"
   ]
  },
  {
   "cell_type": "code",
   "execution_count": 129,
   "metadata": {
    "scrolled": true
   },
   "outputs": [],
   "source": [
    "model = KerasClassifier(build_fn=create_model, verbose=0)"
   ]
  },
  {
   "cell_type": "code",
   "execution_count": 136,
   "metadata": {
    "scrolled": true
   },
   "outputs": [],
   "source": [
    "gsc = GridSearchCV(\n",
    "    estimator=model,\n",
    "    param_grid={\n",
    "        'neurons':[8, 16, 32, 64, 128],\n",
    "        'layers': range(1, 4),\n",
    "        'epochs': [40, 60, 100, 150],\n",
    "        #'dropout': [0, 0.2],\n",
    "        #'activation': ['tanh', 'relu']\n",
    "    },\n",
    "    #scoring='accuracy',\n",
    "    cv=3\n",
    ")"
   ]
  },
  {
   "cell_type": "code",
   "execution_count": null,
   "metadata": {
    "scrolled": true
   },
   "outputs": [],
   "source": [
    "grid_result = gsc.fit(X_train, y_train, verbose=2)"
   ]
  },
  {
   "cell_type": "code",
   "execution_count": null,
   "metadata": {
    "scrolled": true
   },
   "outputs": [],
   "source": [
    "\"Best: %f using %s\" % (grid_result.best_score_, grid_result.best_params_)"
   ]
  },
  {
   "cell_type": "code",
   "execution_count": null,
   "metadata": {
    "scrolled": true
   },
   "outputs": [],
   "source": [
    "for test_mean, test_stdev, train_mean, train_stdev, param in zip(\n",
    "        grid_result.cv_results_['mean_test_score'],\n",
    "        grid_result.cv_results_['std_test_score'],\n",
    "        grid_result.cv_results_['mean_train_score'],\n",
    "        grid_result.cv_results_['std_train_score'],\n",
    "        grid_result.cv_results_['params']):\n",
    "    print(\"Train: %f (%f) // Test : %f (%f) with: %r\" % (train_mean, train_stdev, test_mean, test_stdev, param))"
   ]
  },
  {
   "cell_type": "code",
   "execution_count": 140,
   "metadata": {},
   "outputs": [
    {
     "name": "stdout",
     "output_type": "stream",
     "text": [
      "Train on 712 samples, validate on 179 samples\n",
      "Epoch 1/100\n",
      "712/712 [==============================] - 33s 47ms/step - loss: 0.6323 - acc: 0.6545 - val_loss: 0.4675 - val_acc: 0.8380\n",
      "Epoch 2/100\n",
      "712/712 [==============================] - 1s 819us/step - loss: 0.5464 - acc: 0.7303 - val_loss: 0.4317 - val_acc: 0.8156\n",
      "Epoch 3/100\n",
      "712/712 [==============================] - 1s 844us/step - loss: 0.5434 - acc: 0.7669 - val_loss: 0.4816 - val_acc: 0.7877\n",
      "Epoch 4/100\n",
      "712/712 [==============================] - 1s 879us/step - loss: 0.5164 - acc: 0.7598 - val_loss: 0.4459 - val_acc: 0.7989\n",
      "Epoch 5/100\n",
      "712/712 [==============================] - 1s 867us/step - loss: 0.5034 - acc: 0.7725 - val_loss: 0.4435 - val_acc: 0.7933\n",
      "Epoch 6/100\n",
      "712/712 [==============================] - 1s 820us/step - loss: 0.5057 - acc: 0.7823 - val_loss: 0.4283 - val_acc: 0.8156\n",
      "Epoch 7/100\n",
      "712/712 [==============================] - 1s 848us/step - loss: 0.4932 - acc: 0.7851 - val_loss: 0.4002 - val_acc: 0.8380\n",
      "Epoch 8/100\n",
      "712/712 [==============================] - 1s 826us/step - loss: 0.4895 - acc: 0.7978 - val_loss: 0.4159 - val_acc: 0.8268\n",
      "Epoch 9/100\n",
      "712/712 [==============================] - 1s 836us/step - loss: 0.4805 - acc: 0.7767 - val_loss: 0.3860 - val_acc: 0.8380\n",
      "Epoch 10/100\n",
      "712/712 [==============================] - 1s 822us/step - loss: 0.4586 - acc: 0.8160 - val_loss: 0.4105 - val_acc: 0.8212\n",
      "Epoch 11/100\n",
      "712/712 [==============================] - 1s 827us/step - loss: 0.4655 - acc: 0.7907 - val_loss: 0.4313 - val_acc: 0.7933\n",
      "Epoch 12/100\n",
      "712/712 [==============================] - 1s 842us/step - loss: 0.4708 - acc: 0.7978 - val_loss: 0.4047 - val_acc: 0.8212\n",
      "Epoch 13/100\n",
      "712/712 [==============================] - 1s 842us/step - loss: 0.4724 - acc: 0.7837 - val_loss: 0.3795 - val_acc: 0.8492\n",
      "Epoch 14/100\n",
      "712/712 [==============================] - 1s 840us/step - loss: 0.4664 - acc: 0.7795 - val_loss: 0.3805 - val_acc: 0.8380\n",
      "Epoch 15/100\n",
      "712/712 [==============================] - 1s 902us/step - loss: 0.4516 - acc: 0.7949 - val_loss: 0.4148 - val_acc: 0.8268\n",
      "Epoch 16/100\n",
      "712/712 [==============================] - 1s 935us/step - loss: 0.4612 - acc: 0.8090 - val_loss: 0.3896 - val_acc: 0.8380\n",
      "Epoch 17/100\n",
      "712/712 [==============================] - 1s 839us/step - loss: 0.4540 - acc: 0.8034 - val_loss: 0.4220 - val_acc: 0.8268\n",
      "Epoch 18/100\n",
      "712/712 [==============================] - 1s 898us/step - loss: 0.4533 - acc: 0.8062 - val_loss: 0.4268 - val_acc: 0.8324\n",
      "Epoch 19/100\n",
      "712/712 [==============================] - 1s 857us/step - loss: 0.4591 - acc: 0.7992 - val_loss: 0.3649 - val_acc: 0.8492\n",
      "Epoch 20/100\n",
      "712/712 [==============================] - 1s 842us/step - loss: 0.4538 - acc: 0.7963 - val_loss: 0.3932 - val_acc: 0.8324\n",
      "Epoch 21/100\n",
      "712/712 [==============================] - 1s 908us/step - loss: 0.4426 - acc: 0.8118 - val_loss: 0.3576 - val_acc: 0.8436\n",
      "Epoch 22/100\n",
      "712/712 [==============================] - 1s 890us/step - loss: 0.4550 - acc: 0.8020 - val_loss: 0.4148 - val_acc: 0.8268\n",
      "Epoch 23/100\n",
      "712/712 [==============================] - 1s 829us/step - loss: 0.4469 - acc: 0.8034 - val_loss: 0.3659 - val_acc: 0.8547\n",
      "Epoch 24/100\n",
      "712/712 [==============================] - 1s 827us/step - loss: 0.4397 - acc: 0.8048 - val_loss: 0.4004 - val_acc: 0.8380\n",
      "Epoch 25/100\n",
      "712/712 [==============================] - 1s 831us/step - loss: 0.4402 - acc: 0.8090 - val_loss: 0.3686 - val_acc: 0.8492\n",
      "Epoch 26/100\n",
      "712/712 [==============================] - 1s 908us/step - loss: 0.4363 - acc: 0.7992 - val_loss: 0.3605 - val_acc: 0.8436\n",
      "Epoch 27/100\n",
      "712/712 [==============================] - 1s 822us/step - loss: 0.4433 - acc: 0.7978 - val_loss: 0.3726 - val_acc: 0.8547\n",
      "Epoch 28/100\n",
      "712/712 [==============================] - 1s 843us/step - loss: 0.4333 - acc: 0.8174 - val_loss: 0.3647 - val_acc: 0.8436\n",
      "Epoch 29/100\n",
      "712/712 [==============================] - 1s 891us/step - loss: 0.4231 - acc: 0.8118 - val_loss: 0.3900 - val_acc: 0.8324\n",
      "Epoch 30/100\n",
      "712/712 [==============================] - 1s 827us/step - loss: 0.4372 - acc: 0.8160 - val_loss: 0.3628 - val_acc: 0.8436\n",
      "Epoch 31/100\n",
      "712/712 [==============================] - 1s 888us/step - loss: 0.4331 - acc: 0.8188 - val_loss: 0.3813 - val_acc: 0.8380\n",
      "Epoch 32/100\n",
      "712/712 [==============================] - 1s 824us/step - loss: 0.4304 - acc: 0.8160 - val_loss: 0.3658 - val_acc: 0.8547\n",
      "Epoch 33/100\n",
      "712/712 [==============================] - 1s 917us/step - loss: 0.4300 - acc: 0.8132 - val_loss: 0.3674 - val_acc: 0.8436\n",
      "Epoch 34/100\n",
      "712/712 [==============================] - 1s 818us/step - loss: 0.4331 - acc: 0.8090 - val_loss: 0.3603 - val_acc: 0.8436\n",
      "Epoch 35/100\n",
      "712/712 [==============================] - 1s 919us/step - loss: 0.4180 - acc: 0.8244 - val_loss: 0.4027 - val_acc: 0.8492\n",
      "Epoch 36/100\n",
      "712/712 [==============================] - 1s 875us/step - loss: 0.4209 - acc: 0.8160 - val_loss: 0.3801 - val_acc: 0.8380\n",
      "Epoch 37/100\n",
      "712/712 [==============================] - 1s 875us/step - loss: 0.4286 - acc: 0.8146 - val_loss: 0.3575 - val_acc: 0.8547\n",
      "Epoch 38/100\n",
      "712/712 [==============================] - 1s 989us/step - loss: 0.4188 - acc: 0.8132 - val_loss: 0.3866 - val_acc: 0.8380\n",
      "Epoch 39/100\n",
      "712/712 [==============================] - 1s 886us/step - loss: 0.4227 - acc: 0.8202 - val_loss: 0.3671 - val_acc: 0.8436\n",
      "Epoch 40/100\n",
      "712/712 [==============================] - 1s 940us/step - loss: 0.4251 - acc: 0.8118 - val_loss: 0.3714 - val_acc: 0.8436\n",
      "Epoch 41/100\n",
      "712/712 [==============================] - 1s 897us/step - loss: 0.4136 - acc: 0.8315 - val_loss: 0.3867 - val_acc: 0.8659\n",
      "Epoch 42/100\n",
      "712/712 [==============================] - 1s 886us/step - loss: 0.4248 - acc: 0.8287 - val_loss: 0.3650 - val_acc: 0.8492\n",
      "Epoch 43/100\n",
      "712/712 [==============================] - 1s 892us/step - loss: 0.4263 - acc: 0.8146 - val_loss: 0.3849 - val_acc: 0.8492\n",
      "Epoch 44/100\n",
      "712/712 [==============================] - 1s 925us/step - loss: 0.4203 - acc: 0.8188 - val_loss: 0.3914 - val_acc: 0.8436\n",
      "Epoch 45/100\n",
      "712/712 [==============================] - 1s 880us/step - loss: 0.4127 - acc: 0.8202 - val_loss: 0.3897 - val_acc: 0.8492\n",
      "Epoch 46/100\n",
      "712/712 [==============================] - 1s 911us/step - loss: 0.4149 - acc: 0.8230 - val_loss: 0.3723 - val_acc: 0.8715\n",
      "Epoch 47/100\n",
      "712/712 [==============================] - 1s 910us/step - loss: 0.4140 - acc: 0.8146 - val_loss: 0.3946 - val_acc: 0.8715\n",
      "Epoch 48/100\n",
      "712/712 [==============================] - 1s 871us/step - loss: 0.4049 - acc: 0.8385 - val_loss: 0.3823 - val_acc: 0.8659\n",
      "Epoch 49/100\n",
      "712/712 [==============================] - 1s 916us/step - loss: 0.4225 - acc: 0.8258 - val_loss: 0.3556 - val_acc: 0.8603\n",
      "Epoch 50/100\n",
      "712/712 [==============================] - 1s 930us/step - loss: 0.4171 - acc: 0.8371 - val_loss: 0.3739 - val_acc: 0.8547\n",
      "Epoch 51/100\n",
      "712/712 [==============================] - 1s 888us/step - loss: 0.4283 - acc: 0.8090 - val_loss: 0.3707 - val_acc: 0.8603\n",
      "Epoch 52/100\n",
      "712/712 [==============================] - 1s 885us/step - loss: 0.4142 - acc: 0.8216 - val_loss: 0.3924 - val_acc: 0.8659\n",
      "Epoch 53/100\n",
      "712/712 [==============================] - 1s 908us/step - loss: 0.4099 - acc: 0.8132 - val_loss: 0.4004 - val_acc: 0.8492\n",
      "Epoch 54/100\n",
      "712/712 [==============================] - 1s 875us/step - loss: 0.4272 - acc: 0.8202 - val_loss: 0.3674 - val_acc: 0.8603\n",
      "Epoch 55/100\n",
      "712/712 [==============================] - 1s 889us/step - loss: 0.4131 - acc: 0.8104 - val_loss: 0.3831 - val_acc: 0.8492\n",
      "Epoch 56/100\n",
      "712/712 [==============================] - 1s 931us/step - loss: 0.4085 - acc: 0.8371 - val_loss: 0.3924 - val_acc: 0.8547\n",
      "Epoch 57/100\n",
      "712/712 [==============================] - 1s 876us/step - loss: 0.3965 - acc: 0.8174 - val_loss: 0.3726 - val_acc: 0.8603\n",
      "Epoch 58/100\n",
      "712/712 [==============================] - 1s 908us/step - loss: 0.4222 - acc: 0.8202 - val_loss: 0.3815 - val_acc: 0.8547\n",
      "Epoch 59/100\n",
      "712/712 [==============================] - 1s 875us/step - loss: 0.3999 - acc: 0.8343 - val_loss: 0.3622 - val_acc: 0.8603\n",
      "Epoch 60/100\n",
      "712/712 [==============================] - 1s 955us/step - loss: 0.4212 - acc: 0.8188 - val_loss: 0.4078 - val_acc: 0.8324\n"
     ]
    },
    {
     "name": "stdout",
     "output_type": "stream",
     "text": [
      "Epoch 61/100\n",
      "712/712 [==============================] - 1s 899us/step - loss: 0.4118 - acc: 0.8132 - val_loss: 0.3718 - val_acc: 0.8436\n",
      "Epoch 62/100\n",
      "712/712 [==============================] - 1s 918us/step - loss: 0.4118 - acc: 0.8287 - val_loss: 0.3642 - val_acc: 0.8492\n",
      "Epoch 63/100\n",
      "712/712 [==============================] - 1s 938us/step - loss: 0.4120 - acc: 0.8160 - val_loss: 0.3838 - val_acc: 0.8715\n",
      "Epoch 64/100\n",
      "712/712 [==============================] - 1s 887us/step - loss: 0.4048 - acc: 0.8287 - val_loss: 0.3866 - val_acc: 0.8603\n",
      "Epoch 65/100\n",
      "712/712 [==============================] - 1s 877us/step - loss: 0.4034 - acc: 0.8301 - val_loss: 0.3713 - val_acc: 0.8492\n",
      "Epoch 66/100\n",
      "712/712 [==============================] - 1s 912us/step - loss: 0.4039 - acc: 0.8258 - val_loss: 0.3721 - val_acc: 0.8492\n",
      "Epoch 67/100\n",
      "712/712 [==============================] - 1s 888us/step - loss: 0.3992 - acc: 0.8160 - val_loss: 0.3929 - val_acc: 0.8492\n",
      "Epoch 68/100\n",
      "712/712 [==============================] - 1s 879us/step - loss: 0.4061 - acc: 0.8216 - val_loss: 0.3841 - val_acc: 0.8492\n",
      "Epoch 69/100\n",
      "712/712 [==============================] - 1s 918us/step - loss: 0.4064 - acc: 0.8230 - val_loss: 0.3790 - val_acc: 0.8492\n",
      "Epoch 70/100\n",
      "712/712 [==============================] - 1s 933us/step - loss: 0.3951 - acc: 0.8216 - val_loss: 0.3853 - val_acc: 0.8547\n",
      "Epoch 71/100\n",
      "712/712 [==============================] - 1s 906us/step - loss: 0.3996 - acc: 0.8258 - val_loss: 0.3811 - val_acc: 0.8436\n",
      "Epoch 72/100\n",
      "712/712 [==============================] - 1s 914us/step - loss: 0.3897 - acc: 0.8371 - val_loss: 0.3814 - val_acc: 0.8659\n",
      "Epoch 73/100\n",
      "712/712 [==============================] - 1s 968us/step - loss: 0.3952 - acc: 0.8315 - val_loss: 0.4079 - val_acc: 0.8603\n",
      "Epoch 74/100\n",
      "712/712 [==============================] - 1s 901us/step - loss: 0.4025 - acc: 0.8230 - val_loss: 0.3884 - val_acc: 0.8436\n",
      "Epoch 75/100\n",
      "712/712 [==============================] - 1s 893us/step - loss: 0.3940 - acc: 0.8371 - val_loss: 0.3857 - val_acc: 0.8603\n",
      "Epoch 76/100\n",
      "712/712 [==============================] - 1s 895us/step - loss: 0.3917 - acc: 0.8315 - val_loss: 0.3809 - val_acc: 0.8380\n",
      "Epoch 77/100\n",
      "712/712 [==============================] - 1s 884us/step - loss: 0.3924 - acc: 0.8357 - val_loss: 0.4030 - val_acc: 0.8603\n",
      "Epoch 78/100\n",
      "712/712 [==============================] - 1s 908us/step - loss: 0.4100 - acc: 0.8287 - val_loss: 0.3818 - val_acc: 0.8547\n",
      "Epoch 79/100\n",
      "712/712 [==============================] - 1s 890us/step - loss: 0.4017 - acc: 0.8258 - val_loss: 0.3579 - val_acc: 0.8492\n",
      "Epoch 80/100\n",
      "712/712 [==============================] - 1s 834us/step - loss: 0.3973 - acc: 0.8258 - val_loss: 0.3742 - val_acc: 0.8492\n",
      "Epoch 81/100\n",
      "712/712 [==============================] - 1s 925us/step - loss: 0.3996 - acc: 0.8371 - val_loss: 0.3831 - val_acc: 0.8603\n",
      "Epoch 82/100\n",
      "712/712 [==============================] - 1s 880us/step - loss: 0.4021 - acc: 0.8343 - val_loss: 0.3786 - val_acc: 0.8603\n",
      "Epoch 83/100\n",
      "712/712 [==============================] - 1s 930us/step - loss: 0.3790 - acc: 0.8343 - val_loss: 0.3711 - val_acc: 0.8492\n",
      "Epoch 84/100\n",
      "712/712 [==============================] - 1s 889us/step - loss: 0.3949 - acc: 0.8287 - val_loss: 0.3880 - val_acc: 0.8659\n",
      "Epoch 85/100\n",
      "712/712 [==============================] - 1s 906us/step - loss: 0.3862 - acc: 0.8315 - val_loss: 0.3861 - val_acc: 0.8659\n",
      "Epoch 86/100\n",
      "712/712 [==============================] - 1s 878us/step - loss: 0.3854 - acc: 0.8301 - val_loss: 0.3958 - val_acc: 0.8547\n",
      "Epoch 87/100\n",
      "712/712 [==============================] - 1s 891us/step - loss: 0.3835 - acc: 0.8399 - val_loss: 0.3909 - val_acc: 0.8492\n",
      "Epoch 88/100\n",
      "712/712 [==============================] - 1s 895us/step - loss: 0.3962 - acc: 0.8202 - val_loss: 0.3833 - val_acc: 0.8492\n",
      "Epoch 89/100\n",
      "712/712 [==============================] - 1s 887us/step - loss: 0.3782 - acc: 0.8343 - val_loss: 0.3810 - val_acc: 0.8715\n",
      "Epoch 90/100\n",
      "712/712 [==============================] - 1s 886us/step - loss: 0.3966 - acc: 0.8343 - val_loss: 0.3874 - val_acc: 0.8547\n",
      "Epoch 91/100\n",
      "712/712 [==============================] - 1s 973us/step - loss: 0.3738 - acc: 0.8427 - val_loss: 0.4127 - val_acc: 0.8715\n",
      "Epoch 92/100\n",
      "712/712 [==============================] - 1s 933us/step - loss: 0.3984 - acc: 0.8272 - val_loss: 0.3960 - val_acc: 0.8603\n",
      "Epoch 93/100\n",
      "712/712 [==============================] - 1s 1ms/step - loss: 0.3899 - acc: 0.8329 - val_loss: 0.3876 - val_acc: 0.8603\n",
      "Epoch 94/100\n",
      "712/712 [==============================] - 1s 925us/step - loss: 0.3786 - acc: 0.8216 - val_loss: 0.3993 - val_acc: 0.8547\n",
      "Epoch 95/100\n",
      "712/712 [==============================] - 1s 888us/step - loss: 0.3843 - acc: 0.8258 - val_loss: 0.4073 - val_acc: 0.8659\n",
      "Epoch 96/100\n",
      "712/712 [==============================] - 1s 911us/step - loss: 0.3802 - acc: 0.8301 - val_loss: 0.3978 - val_acc: 0.8547\n",
      "Epoch 97/100\n",
      "712/712 [==============================] - 1s 901us/step - loss: 0.3916 - acc: 0.8399 - val_loss: 0.3931 - val_acc: 0.8436\n",
      "Epoch 98/100\n",
      "712/712 [==============================] - 1s 959us/step - loss: 0.3840 - acc: 0.8287 - val_loss: 0.3909 - val_acc: 0.8603\n",
      "Epoch 99/100\n",
      "712/712 [==============================] - 1s 964us/step - loss: 0.3903 - acc: 0.8287 - val_loss: 0.3774 - val_acc: 0.8547\n",
      "Epoch 100/100\n",
      "712/712 [==============================] - 1s 974us/step - loss: 0.3863 - acc: 0.8272 - val_loss: 0.3893 - val_acc: 0.8603\n"
     ]
    },
    {
     "data": {
      "text/plain": [
       "<keras.callbacks.History at 0x1b3c84ba20>"
      ]
     },
     "execution_count": 140,
     "metadata": {},
     "output_type": "execute_result"
    }
   ],
   "source": [
    "model = create_model(3, 64)\n",
    "model.fit(X_train, y_train, validation_split=0.2, epochs=100, verbose=1)"
   ]
  },
  {
   "cell_type": "code",
   "execution_count": 141,
   "metadata": {},
   "outputs": [],
   "source": [
    "y_test = model.predict_classes(X_test)"
   ]
  },
  {
   "cell_type": "code",
   "execution_count": 142,
   "metadata": {},
   "outputs": [],
   "source": [
    "df_subm = pd.DataFrame({'PassengerId': ID, 'Survived': y_test})\n",
    "df_subm.to_csv('titanic_subm.csv', index=False)"
   ]
  },
  {
   "cell_type": "code",
   "execution_count": null,
   "metadata": {},
   "outputs": [],
   "source": []
  }
 ],
 "metadata": {
  "kernelspec": {
   "display_name": "Python 3",
   "language": "python",
   "name": "python3"
  },
  "language_info": {
   "codemirror_mode": {
    "name": "ipython",
    "version": 3
   },
   "file_extension": ".py",
   "mimetype": "text/x-python",
   "name": "python",
   "nbconvert_exporter": "python",
   "pygments_lexer": "ipython3",
   "version": "3.6.6"
  }
 },
 "nbformat": 4,
 "nbformat_minor": 2
}
