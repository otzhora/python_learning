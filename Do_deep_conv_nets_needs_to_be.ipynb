{
  "nbformat": 4,
  "nbformat_minor": 0,
  "metadata": {
    "colab": {
      "name": "Do deep conv nets needs to be.ipynb",
      "provenance": [],
      "include_colab_link": true
    },
    "kernelspec": {
      "name": "python3",
      "display_name": "Python 3"
    },
    "accelerator": "GPU"
  },
  "cells": [
    {
      "cell_type": "markdown",
      "metadata": {
        "id": "view-in-github",
        "colab_type": "text"
      },
      "source": [
        "<a href=\"https://colab.research.google.com/github/otzhora/python_learning/blob/master/Do_deep_conv_nets_needs_to_be.ipynb\" target=\"_parent\"><img src=\"https://colab.research.google.com/assets/colab-badge.svg\" alt=\"Open In Colab\"/></a>"
      ]
    },
    {
      "cell_type": "code",
      "metadata": {
        "id": "knYG9CQ8lqBS",
        "colab_type": "code",
        "colab": {
          "base_uri": "https://localhost:8080/",
          "height": 35
        },
        "outputId": "8b4246ac-54c7-42a6-98bf-4baaabda886c"
      },
      "source": [
        "try:\n",
        "  # %tensorflow_version only exists in Colab.\n",
        "  %tensorflow_version 2.x\n",
        "except Exception:\n",
        "  pass"
      ],
      "execution_count": 1,
      "outputs": [
        {
          "output_type": "stream",
          "text": [
            "TensorFlow 2.x selected.\n"
          ],
          "name": "stdout"
        }
      ]
    },
    {
      "cell_type": "code",
      "metadata": {
        "id": "rVIjNB7xui_i",
        "colab_type": "code",
        "colab": {
          "base_uri": "https://localhost:8080/",
          "height": 35
        },
        "outputId": "3dfed830-e4f7-4d18-d675-20faf6c589db"
      },
      "source": [
        "from google.colab import drive\n",
        "drive.mount('/content/drive')"
      ],
      "execution_count": 14,
      "outputs": [
        {
          "output_type": "stream",
          "text": [
            "Drive already mounted at /content/drive; to attempt to forcibly remount, call drive.mount(\"/content/drive\", force_remount=True).\n"
          ],
          "name": "stdout"
        }
      ]
    },
    {
      "cell_type": "code",
      "metadata": {
        "id": "Ql_OKk0bgGZD",
        "colab_type": "code",
        "colab": {}
      },
      "source": [
        "import tensorflow as tf\n",
        "import os\n",
        "\n",
        "import tensorflow.keras as keras\n",
        "from tensorflow.keras.datasets import cifar10\n",
        "from tensorflow.keras.preprocessing.image import ImageDataGenerator\n",
        "from tensorflow.keras.models import Sequential\n",
        "from tensorflow.keras.layers import Dense, Dropout, Activation, Flatten\n",
        "from tensorflow.keras.layers import Conv2D, MaxPooling2D\n",
        "from tensorflow.keras.callbacks import EarlyStopping"
      ],
      "execution_count": 0,
      "outputs": []
    },
    {
      "cell_type": "code",
      "metadata": {
        "id": "bXk76XfOgLfy",
        "colab_type": "code",
        "colab": {}
      },
      "source": [
        "batch_size = 128\n",
        "num_classes = 10\n",
        "epochs = 250\n",
        "data_augumentations = True\n",
        "num_predictions = 20"
      ],
      "execution_count": 0,
      "outputs": []
    },
    {
      "cell_type": "code",
      "metadata": {
        "id": "KKPhIrIwhiib",
        "colab_type": "code",
        "colab": {}
      },
      "source": [
        "def get_model(x_train):\n",
        "  model = Sequential()\n",
        "  model.add(Conv2D(96, (3, 3), padding='same',\n",
        "                  input_shape=x_train.shape[1:]))\n",
        "  model.add(Activation('relu'))\n",
        "  model.add(Conv2D(96, (3, 3)))\n",
        "  model.add(Activation('relu'))\n",
        "  model.add(MaxPooling2D(pool_size=(2, 2)))\n",
        "  model.add(Dropout(0.25))\n",
        "\n",
        "  model.add(Conv2D(171, (3, 3), padding='same'))\n",
        "  model.add(Activation('relu'))\n",
        "  model.add(Conv2D(171, (3, 3)))\n",
        "  model.add(Activation('relu'))\n",
        "  model.add(MaxPooling2D(pool_size=(2, 2)))\n",
        "  model.add(Dropout(0.25))\n",
        "\n",
        "  model.add(Conv2D(128, (3, 3), padding='same'))\n",
        "  model.add(Activation('relu'))\n",
        "  model.add(Conv2D(128, (3, 3)))\n",
        "  model.add(Activation('relu'))\n",
        "  model.add(Conv2D(128, (3, 3), padding='same'))\n",
        "  model.add(Activation('relu'))\n",
        "  model.add(Conv2D(128, (3, 3)))\n",
        "  model.add(Activation('relu'))\n",
        "  model.add(MaxPooling2D(pool_size=(2, 2)))\n",
        "  model.add(Dropout(0.25)) \n",
        "\n",
        "  model.add(Flatten())\n",
        "  model.add(Dense(512))\n",
        "  model.add(Activation('relu'))\n",
        "  model.add(Dropout(0.5))\n",
        "  model.add(Dense(512))\n",
        "  model.add(Activation('relu'))\n",
        "  model.add(Dropout(0.5))\n",
        "  model.add(Dense(num_classes))\n",
        "  model.add(Activation('softmax'))\n",
        "\n",
        "  opt = keras.optimizers.RMSprop(lr=0.0001, decay=1e-6)\n",
        "  model.compile(loss='categorical_crossentropy',\n",
        "                optimizer=opt,\n",
        "                metrics=['accuracy'])\n",
        "  print(model.summary())\n",
        "  return model"
      ],
      "execution_count": 0,
      "outputs": []
    },
    {
      "cell_type": "code",
      "metadata": {
        "id": "ACsl8bt_jRdL",
        "colab_type": "code",
        "colab": {}
      },
      "source": [
        "def get_data():\n",
        "  (x_train, y_train), (x_test, y_test) = cifar10.load_data()\n",
        "  x_train = x_train.astype('float32')\n",
        "  x_test = x_test.astype('float32')\n",
        "  x_train /= 255\n",
        "  x_test /= 255\n",
        "  y_train = keras.utils.to_categorical(y_train, num_classes)\n",
        "  y_test = keras.utils.to_categorical(y_test, num_classes)\n",
        "  return (x_train, y_train), (x_test, y_test)"
      ],
      "execution_count": 0,
      "outputs": []
    },
    {
      "cell_type": "code",
      "metadata": {
        "id": "lnPmPOJTigkE",
        "colab_type": "code",
        "colab": {}
      },
      "source": [
        "def train_model():\n",
        "  (x_train, y_train), (x_test, y_test) = get_data()\n",
        "  x_val, y_val = x_train[40000:], y_train[40000:]\n",
        "  x_train, y_train = x_train[:40000], y_train[:40000]\n",
        "\n",
        "  model = get_model(x_train)\n",
        "  datagen = ImageDataGenerator(\n",
        "        featurewise_center=False,  # set input mean to 0 over the dataset\n",
        "        samplewise_center=False,  # set each sample mean to 0\n",
        "        featurewise_std_normalization=False,  # divide inputs by std of the dataset\n",
        "        samplewise_std_normalization=False,  # divide each input by its std\n",
        "        zca_whitening=False,  # apply ZCA whitening\n",
        "        zca_epsilon=1e-06,  # epsilon for ZCA whitening\n",
        "        rotation_range=0,  # randomly rotate images in the range (degrees, 0 to 180)\n",
        "        # randomly shift images horizontally (fraction of total width)\n",
        "        width_shift_range=0.1,\n",
        "        # randomly shift images vertically (fraction of total height)\n",
        "        height_shift_range=0.1,\n",
        "        shear_range=0.,  # set range for random shear\n",
        "        zoom_range=0.,  # set range for random zoom\n",
        "        channel_shift_range=0.,  # set range for random channel shifts\n",
        "        # set mode for filling points outside the input boundaries\n",
        "        fill_mode='nearest',\n",
        "        cval=0.,  # value used for fill_mode = \"constant\"\n",
        "        horizontal_flip=True,  # randomly flip images\n",
        "        vertical_flip=False,  # randomly flip images\n",
        "        # set rescaling factor (applied before any other transformation)\n",
        "        rescale=None,\n",
        "        # set function that will be applied on each input\n",
        "        preprocessing_function=None,\n",
        "        # image data format, either \"channels_first\" or \"channels_last\"\n",
        "        data_format=None,\n",
        "        # fraction of images reserved for validation (strictly between 0 and 1)\n",
        "        validation_split=0)\n",
        "  datagen.fit(x_train)\n",
        "  es = EarlyStopping(monitor='val_loss', mode='min', verbose=1, patience=15)\n",
        "  # Fit the model on the batches generated by datagen.flow().\n",
        "  model.fit_generator(datagen.flow(x_train, y_train,\n",
        "                                    batch_size=batch_size),\n",
        "                      epochs=epochs,\n",
        "                      validation_data=(x_val, y_val),\n",
        "                      workers=1,\n",
        "                      callbacks=[es])\n",
        "  return model"
      ],
      "execution_count": 0,
      "outputs": []
    },
    {
      "cell_type": "code",
      "metadata": {
        "id": "OguQZD9HimDX",
        "colab_type": "code",
        "outputId": "84861b51-8962-4ef2-9ab8-51c5385dbff7",
        "colab": {
          "base_uri": "https://localhost:8080/",
          "height": 1000
        }
      },
      "source": [
        "model = train_model()"
      ],
      "execution_count": 25,
      "outputs": [
        {
          "output_type": "stream",
          "text": [
            "Model: \"sequential_1\"\n",
            "_________________________________________________________________\n",
            "Layer (type)                 Output Shape              Param #   \n",
            "=================================================================\n",
            "conv2d_8 (Conv2D)            (None, 32, 32, 96)        2688      \n",
            "_________________________________________________________________\n",
            "activation_11 (Activation)   (None, 32, 32, 96)        0         \n",
            "_________________________________________________________________\n",
            "conv2d_9 (Conv2D)            (None, 30, 30, 96)        83040     \n",
            "_________________________________________________________________\n",
            "activation_12 (Activation)   (None, 30, 30, 96)        0         \n",
            "_________________________________________________________________\n",
            "max_pooling2d_3 (MaxPooling2 (None, 15, 15, 96)        0         \n",
            "_________________________________________________________________\n",
            "dropout_5 (Dropout)          (None, 15, 15, 96)        0         \n",
            "_________________________________________________________________\n",
            "conv2d_10 (Conv2D)           (None, 15, 15, 171)       147915    \n",
            "_________________________________________________________________\n",
            "activation_13 (Activation)   (None, 15, 15, 171)       0         \n",
            "_________________________________________________________________\n",
            "conv2d_11 (Conv2D)           (None, 13, 13, 171)       263340    \n",
            "_________________________________________________________________\n",
            "activation_14 (Activation)   (None, 13, 13, 171)       0         \n",
            "_________________________________________________________________\n",
            "max_pooling2d_4 (MaxPooling2 (None, 6, 6, 171)         0         \n",
            "_________________________________________________________________\n",
            "dropout_6 (Dropout)          (None, 6, 6, 171)         0         \n",
            "_________________________________________________________________\n",
            "conv2d_12 (Conv2D)           (None, 6, 6, 128)         197120    \n",
            "_________________________________________________________________\n",
            "activation_15 (Activation)   (None, 6, 6, 128)         0         \n",
            "_________________________________________________________________\n",
            "conv2d_13 (Conv2D)           (None, 4, 4, 128)         147584    \n",
            "_________________________________________________________________\n",
            "activation_16 (Activation)   (None, 4, 4, 128)         0         \n",
            "_________________________________________________________________\n",
            "conv2d_14 (Conv2D)           (None, 4, 4, 128)         147584    \n",
            "_________________________________________________________________\n",
            "activation_17 (Activation)   (None, 4, 4, 128)         0         \n",
            "_________________________________________________________________\n",
            "conv2d_15 (Conv2D)           (None, 2, 2, 128)         147584    \n",
            "_________________________________________________________________\n",
            "activation_18 (Activation)   (None, 2, 2, 128)         0         \n",
            "_________________________________________________________________\n",
            "max_pooling2d_5 (MaxPooling2 (None, 1, 1, 128)         0         \n",
            "_________________________________________________________________\n",
            "dropout_7 (Dropout)          (None, 1, 1, 128)         0         \n",
            "_________________________________________________________________\n",
            "flatten_1 (Flatten)          (None, 128)               0         \n",
            "_________________________________________________________________\n",
            "dense_3 (Dense)              (None, 512)               66048     \n",
            "_________________________________________________________________\n",
            "activation_19 (Activation)   (None, 512)               0         \n",
            "_________________________________________________________________\n",
            "dropout_8 (Dropout)          (None, 512)               0         \n",
            "_________________________________________________________________\n",
            "dense_4 (Dense)              (None, 512)               262656    \n",
            "_________________________________________________________________\n",
            "activation_20 (Activation)   (None, 512)               0         \n",
            "_________________________________________________________________\n",
            "dropout_9 (Dropout)          (None, 512)               0         \n",
            "_________________________________________________________________\n",
            "dense_5 (Dense)              (None, 10)                5130      \n",
            "_________________________________________________________________\n",
            "activation_21 (Activation)   (None, 10)                0         \n",
            "=================================================================\n",
            "Total params: 1,470,689\n",
            "Trainable params: 1,470,689\n",
            "Non-trainable params: 0\n",
            "_________________________________________________________________\n",
            "None\n",
            "Epoch 1/250\n",
            "313/313 [==============================] - 41s 132ms/step - loss: 2.1559 - accuracy: 0.1683 - val_loss: 2.0270 - val_accuracy: 0.2257\n",
            "Epoch 2/250\n",
            "313/313 [==============================] - 41s 130ms/step - loss: 1.9521 - accuracy: 0.2516 - val_loss: 1.7996 - val_accuracy: 0.3254\n",
            "Epoch 3/250\n",
            "313/313 [==============================] - 41s 132ms/step - loss: 1.8004 - accuracy: 0.3210 - val_loss: 1.6005 - val_accuracy: 0.4030\n",
            "Epoch 4/250\n",
            "313/313 [==============================] - 40s 129ms/step - loss: 1.6810 - accuracy: 0.3758 - val_loss: 1.5491 - val_accuracy: 0.4345\n",
            "Epoch 5/250\n",
            "313/313 [==============================] - 41s 130ms/step - loss: 1.5986 - accuracy: 0.4153 - val_loss: 1.4555 - val_accuracy: 0.4680\n",
            "Epoch 6/250\n",
            "313/313 [==============================] - 40s 129ms/step - loss: 1.5139 - accuracy: 0.4474 - val_loss: 1.3785 - val_accuracy: 0.4980\n",
            "Epoch 7/250\n",
            "313/313 [==============================] - 40s 129ms/step - loss: 1.4412 - accuracy: 0.4767 - val_loss: 1.5495 - val_accuracy: 0.4615\n",
            "Epoch 8/250\n",
            "313/313 [==============================] - 40s 129ms/step - loss: 1.3772 - accuracy: 0.5018 - val_loss: 1.3112 - val_accuracy: 0.5299\n",
            "Epoch 9/250\n",
            "313/313 [==============================] - 41s 130ms/step - loss: 1.3200 - accuracy: 0.5231 - val_loss: 1.1720 - val_accuracy: 0.5896\n",
            "Epoch 10/250\n",
            "313/313 [==============================] - 41s 131ms/step - loss: 1.2725 - accuracy: 0.5449 - val_loss: 1.1665 - val_accuracy: 0.5789\n",
            "Epoch 11/250\n",
            "313/313 [==============================] - 41s 130ms/step - loss: 1.2177 - accuracy: 0.5644 - val_loss: 1.1368 - val_accuracy: 0.5964\n",
            "Epoch 12/250\n",
            "313/313 [==============================] - 40s 129ms/step - loss: 1.1780 - accuracy: 0.5797 - val_loss: 1.0906 - val_accuracy: 0.6159\n",
            "Epoch 13/250\n",
            "313/313 [==============================] - 40s 129ms/step - loss: 1.1383 - accuracy: 0.5947 - val_loss: 0.9763 - val_accuracy: 0.6538\n",
            "Epoch 14/250\n",
            "313/313 [==============================] - 40s 129ms/step - loss: 1.1057 - accuracy: 0.6090 - val_loss: 1.0146 - val_accuracy: 0.6364\n",
            "Epoch 15/250\n",
            "313/313 [==============================] - 40s 129ms/step - loss: 1.0695 - accuracy: 0.6245 - val_loss: 1.0140 - val_accuracy: 0.6400\n",
            "Epoch 16/250\n",
            "313/313 [==============================] - 40s 129ms/step - loss: 1.0285 - accuracy: 0.6407 - val_loss: 0.8944 - val_accuracy: 0.6882\n",
            "Epoch 17/250\n",
            "313/313 [==============================] - 41s 130ms/step - loss: 1.0034 - accuracy: 0.6436 - val_loss: 0.8821 - val_accuracy: 0.6859\n",
            "Epoch 18/250\n",
            "313/313 [==============================] - 41s 131ms/step - loss: 0.9768 - accuracy: 0.6577 - val_loss: 1.1198 - val_accuracy: 0.6304\n",
            "Epoch 19/250\n",
            "313/313 [==============================] - 40s 129ms/step - loss: 0.9486 - accuracy: 0.6668 - val_loss: 0.9136 - val_accuracy: 0.6830\n",
            "Epoch 20/250\n",
            "313/313 [==============================] - 40s 129ms/step - loss: 0.9200 - accuracy: 0.6810 - val_loss: 0.7823 - val_accuracy: 0.7227\n",
            "Epoch 21/250\n",
            "313/313 [==============================] - 40s 128ms/step - loss: 0.8962 - accuracy: 0.6908 - val_loss: 0.8442 - val_accuracy: 0.7083\n",
            "Epoch 22/250\n",
            "313/313 [==============================] - 40s 129ms/step - loss: 0.8713 - accuracy: 0.6988 - val_loss: 0.7972 - val_accuracy: 0.7163\n",
            "Epoch 23/250\n",
            "313/313 [==============================] - 40s 129ms/step - loss: 0.8482 - accuracy: 0.7064 - val_loss: 0.7599 - val_accuracy: 0.7325\n",
            "Epoch 24/250\n",
            "313/313 [==============================] - 40s 129ms/step - loss: 0.8248 - accuracy: 0.7132 - val_loss: 0.7775 - val_accuracy: 0.7297\n",
            "Epoch 25/250\n",
            "313/313 [==============================] - 40s 129ms/step - loss: 0.7988 - accuracy: 0.7236 - val_loss: 0.7463 - val_accuracy: 0.7416\n",
            "Epoch 26/250\n",
            "313/313 [==============================] - 41s 130ms/step - loss: 0.7858 - accuracy: 0.7309 - val_loss: 0.6749 - val_accuracy: 0.7656\n",
            "Epoch 27/250\n",
            "313/313 [==============================] - 40s 128ms/step - loss: 0.7601 - accuracy: 0.7383 - val_loss: 0.7148 - val_accuracy: 0.7524\n",
            "Epoch 28/250\n",
            "313/313 [==============================] - 40s 128ms/step - loss: 0.7418 - accuracy: 0.7479 - val_loss: 0.7144 - val_accuracy: 0.7571\n",
            "Epoch 29/250\n",
            "313/313 [==============================] - 40s 129ms/step - loss: 0.7242 - accuracy: 0.7533 - val_loss: 0.7087 - val_accuracy: 0.7598\n",
            "Epoch 30/250\n",
            "313/313 [==============================] - 40s 128ms/step - loss: 0.7110 - accuracy: 0.7589 - val_loss: 0.6777 - val_accuracy: 0.7780\n",
            "Epoch 31/250\n",
            "313/313 [==============================] - 40s 129ms/step - loss: 0.6928 - accuracy: 0.7652 - val_loss: 0.5962 - val_accuracy: 0.7975\n",
            "Epoch 32/250\n",
            "313/313 [==============================] - 40s 129ms/step - loss: 0.6814 - accuracy: 0.7661 - val_loss: 0.5937 - val_accuracy: 0.7975\n",
            "Epoch 33/250\n",
            "313/313 [==============================] - 41s 130ms/step - loss: 0.6608 - accuracy: 0.7757 - val_loss: 0.6195 - val_accuracy: 0.7936\n",
            "Epoch 34/250\n",
            "313/313 [==============================] - 40s 128ms/step - loss: 0.6508 - accuracy: 0.7802 - val_loss: 0.6991 - val_accuracy: 0.7700\n",
            "Epoch 35/250\n",
            "313/313 [==============================] - 40s 129ms/step - loss: 0.6372 - accuracy: 0.7852 - val_loss: 0.6199 - val_accuracy: 0.7909\n",
            "Epoch 36/250\n",
            "313/313 [==============================] - 40s 128ms/step - loss: 0.6248 - accuracy: 0.7884 - val_loss: 0.6513 - val_accuracy: 0.7853\n",
            "Epoch 37/250\n",
            "313/313 [==============================] - 40s 128ms/step - loss: 0.6126 - accuracy: 0.7920 - val_loss: 0.6835 - val_accuracy: 0.7749\n",
            "Epoch 38/250\n",
            "313/313 [==============================] - 40s 128ms/step - loss: 0.6031 - accuracy: 0.7991 - val_loss: 0.5404 - val_accuracy: 0.8186\n",
            "Epoch 39/250\n",
            "313/313 [==============================] - 40s 128ms/step - loss: 0.5880 - accuracy: 0.8033 - val_loss: 0.5865 - val_accuracy: 0.8059\n",
            "Epoch 40/250\n",
            "313/313 [==============================] - 40s 129ms/step - loss: 0.5804 - accuracy: 0.8045 - val_loss: 0.5677 - val_accuracy: 0.8060\n",
            "Epoch 41/250\n",
            "313/313 [==============================] - 41s 131ms/step - loss: 0.5666 - accuracy: 0.8113 - val_loss: 0.6810 - val_accuracy: 0.7859\n",
            "Epoch 42/250\n",
            "313/313 [==============================] - 40s 128ms/step - loss: 0.5564 - accuracy: 0.8143 - val_loss: 0.5759 - val_accuracy: 0.8088\n",
            "Epoch 43/250\n",
            "313/313 [==============================] - 40s 129ms/step - loss: 0.5467 - accuracy: 0.8178 - val_loss: 0.5364 - val_accuracy: 0.8231\n",
            "Epoch 44/250\n",
            "313/313 [==============================] - 40s 128ms/step - loss: 0.5394 - accuracy: 0.8191 - val_loss: 0.5118 - val_accuracy: 0.8261\n",
            "Epoch 45/250\n",
            "313/313 [==============================] - 41s 130ms/step - loss: 0.5339 - accuracy: 0.8217 - val_loss: 0.5153 - val_accuracy: 0.8283\n",
            "Epoch 46/250\n",
            "313/313 [==============================] - 40s 129ms/step - loss: 0.5233 - accuracy: 0.8248 - val_loss: 0.5252 - val_accuracy: 0.8252\n",
            "Epoch 47/250\n",
            "313/313 [==============================] - 41s 130ms/step - loss: 0.5117 - accuracy: 0.8284 - val_loss: 0.5186 - val_accuracy: 0.8310\n",
            "Epoch 48/250\n",
            "313/313 [==============================] - 40s 129ms/step - loss: 0.4989 - accuracy: 0.8331 - val_loss: 0.5047 - val_accuracy: 0.8355\n",
            "Epoch 49/250\n",
            "313/313 [==============================] - 41s 130ms/step - loss: 0.4935 - accuracy: 0.8335 - val_loss: 0.4826 - val_accuracy: 0.8387\n",
            "Epoch 50/250\n",
            "313/313 [==============================] - 40s 129ms/step - loss: 0.4840 - accuracy: 0.8367 - val_loss: 0.4815 - val_accuracy: 0.8403\n",
            "Epoch 51/250\n",
            "313/313 [==============================] - 40s 129ms/step - loss: 0.4838 - accuracy: 0.8388 - val_loss: 0.5259 - val_accuracy: 0.8289\n",
            "Epoch 52/250\n",
            "313/313 [==============================] - 40s 128ms/step - loss: 0.4751 - accuracy: 0.8411 - val_loss: 0.5076 - val_accuracy: 0.8322\n",
            "Epoch 53/250\n",
            "313/313 [==============================] - 40s 129ms/step - loss: 0.4676 - accuracy: 0.8424 - val_loss: 0.4985 - val_accuracy: 0.8365\n",
            "Epoch 54/250\n",
            "313/313 [==============================] - 40s 129ms/step - loss: 0.4604 - accuracy: 0.8459 - val_loss: 0.5600 - val_accuracy: 0.8199\n",
            "Epoch 55/250\n",
            "313/313 [==============================] - 41s 130ms/step - loss: 0.4568 - accuracy: 0.8487 - val_loss: 0.4997 - val_accuracy: 0.8348\n",
            "Epoch 56/250\n",
            "313/313 [==============================] - 41s 130ms/step - loss: 0.4479 - accuracy: 0.8486 - val_loss: 0.4860 - val_accuracy: 0.8436\n",
            "Epoch 57/250\n",
            "313/313 [==============================] - 40s 129ms/step - loss: 0.4426 - accuracy: 0.8535 - val_loss: 0.5439 - val_accuracy: 0.8256\n",
            "Epoch 58/250\n",
            "313/313 [==============================] - 40s 128ms/step - loss: 0.4353 - accuracy: 0.8571 - val_loss: 0.4926 - val_accuracy: 0.8414\n",
            "Epoch 59/250\n",
            "313/313 [==============================] - 40s 128ms/step - loss: 0.4284 - accuracy: 0.8558 - val_loss: 0.4836 - val_accuracy: 0.8477\n",
            "Epoch 60/250\n",
            "313/313 [==============================] - 40s 128ms/step - loss: 0.4229 - accuracy: 0.8592 - val_loss: 0.4871 - val_accuracy: 0.8414\n",
            "Epoch 61/250\n",
            "313/313 [==============================] - 40s 129ms/step - loss: 0.4140 - accuracy: 0.8617 - val_loss: 0.5291 - val_accuracy: 0.8319\n",
            "Epoch 62/250\n",
            "313/313 [==============================] - 41s 130ms/step - loss: 0.4175 - accuracy: 0.8631 - val_loss: 0.5761 - val_accuracy: 0.8166\n",
            "Epoch 63/250\n",
            "313/313 [==============================] - 41s 130ms/step - loss: 0.4124 - accuracy: 0.8622 - val_loss: 0.5066 - val_accuracy: 0.8392\n",
            "Epoch 64/250\n",
            "313/313 [==============================] - 41s 131ms/step - loss: 0.4055 - accuracy: 0.8654 - val_loss: 0.4670 - val_accuracy: 0.8486\n",
            "Epoch 65/250\n",
            "313/313 [==============================] - 41s 130ms/step - loss: 0.4001 - accuracy: 0.8681 - val_loss: 0.5126 - val_accuracy: 0.8401\n",
            "Epoch 66/250\n",
            "313/313 [==============================] - 40s 129ms/step - loss: 0.3913 - accuracy: 0.8697 - val_loss: 0.4844 - val_accuracy: 0.8483\n",
            "Epoch 67/250\n",
            "313/313 [==============================] - 41s 130ms/step - loss: 0.3855 - accuracy: 0.8710 - val_loss: 0.4689 - val_accuracy: 0.8525\n",
            "Epoch 68/250\n",
            "313/313 [==============================] - 41s 130ms/step - loss: 0.3844 - accuracy: 0.8734 - val_loss: 0.4930 - val_accuracy: 0.8447\n",
            "Epoch 69/250\n",
            "313/313 [==============================] - 41s 130ms/step - loss: 0.3802 - accuracy: 0.8734 - val_loss: 0.4800 - val_accuracy: 0.8474\n",
            "Epoch 70/250\n",
            "313/313 [==============================] - 41s 130ms/step - loss: 0.3725 - accuracy: 0.8754 - val_loss: 0.5121 - val_accuracy: 0.8443\n",
            "Epoch 71/250\n",
            "313/313 [==============================] - 41s 130ms/step - loss: 0.3720 - accuracy: 0.8756 - val_loss: 0.4695 - val_accuracy: 0.8563\n",
            "Epoch 72/250\n",
            "313/313 [==============================] - 41s 131ms/step - loss: 0.3655 - accuracy: 0.8790 - val_loss: 0.4469 - val_accuracy: 0.8589\n",
            "Epoch 73/250\n",
            "313/313 [==============================] - 41s 130ms/step - loss: 0.3615 - accuracy: 0.8810 - val_loss: 0.4762 - val_accuracy: 0.8521\n",
            "Epoch 74/250\n",
            "313/313 [==============================] - 41s 130ms/step - loss: 0.3537 - accuracy: 0.8811 - val_loss: 0.5100 - val_accuracy: 0.8461\n",
            "Epoch 75/250\n",
            "313/313 [==============================] - 41s 130ms/step - loss: 0.3519 - accuracy: 0.8844 - val_loss: 0.4537 - val_accuracy: 0.8584\n",
            "Epoch 76/250\n",
            "313/313 [==============================] - 41s 130ms/step - loss: 0.3496 - accuracy: 0.8846 - val_loss: 0.4565 - val_accuracy: 0.8564\n",
            "Epoch 77/250\n",
            "313/313 [==============================] - 41s 130ms/step - loss: 0.3468 - accuracy: 0.8865 - val_loss: 0.4692 - val_accuracy: 0.8546\n",
            "Epoch 78/250\n",
            "313/313 [==============================] - 40s 129ms/step - loss: 0.3413 - accuracy: 0.8863 - val_loss: 0.4637 - val_accuracy: 0.8548\n",
            "Epoch 79/250\n",
            "313/313 [==============================] - 41s 131ms/step - loss: 0.3421 - accuracy: 0.8863 - val_loss: 0.4234 - val_accuracy: 0.8686\n",
            "Epoch 80/250\n",
            "313/313 [==============================] - 40s 129ms/step - loss: 0.3285 - accuracy: 0.8905 - val_loss: 0.4669 - val_accuracy: 0.8542\n",
            "Epoch 81/250\n",
            "313/313 [==============================] - 40s 129ms/step - loss: 0.3294 - accuracy: 0.8896 - val_loss: 0.4588 - val_accuracy: 0.8600\n",
            "Epoch 82/250\n",
            "313/313 [==============================] - 41s 130ms/step - loss: 0.3230 - accuracy: 0.8929 - val_loss: 0.4607 - val_accuracy: 0.8672\n",
            "Epoch 83/250\n",
            "313/313 [==============================] - 40s 129ms/step - loss: 0.3255 - accuracy: 0.8928 - val_loss: 0.4720 - val_accuracy: 0.8623\n",
            "Epoch 84/250\n",
            "313/313 [==============================] - 41s 130ms/step - loss: 0.3220 - accuracy: 0.8936 - val_loss: 0.4926 - val_accuracy: 0.8587\n",
            "Epoch 85/250\n",
            "313/313 [==============================] - 41s 130ms/step - loss: 0.3154 - accuracy: 0.8961 - val_loss: 0.4584 - val_accuracy: 0.8628\n",
            "Epoch 86/250\n",
            "313/313 [==============================] - 40s 129ms/step - loss: 0.3157 - accuracy: 0.8952 - val_loss: 0.4818 - val_accuracy: 0.8618\n",
            "Epoch 87/250\n",
            "313/313 [==============================] - 41s 130ms/step - loss: 0.3079 - accuracy: 0.8986 - val_loss: 0.5825 - val_accuracy: 0.8368\n",
            "Epoch 88/250\n",
            "313/313 [==============================] - 41s 130ms/step - loss: 0.3107 - accuracy: 0.8974 - val_loss: 0.4351 - val_accuracy: 0.8683\n",
            "Epoch 89/250\n",
            "313/313 [==============================] - 40s 128ms/step - loss: 0.3052 - accuracy: 0.8991 - val_loss: 0.4575 - val_accuracy: 0.8643\n",
            "Epoch 90/250\n",
            "313/313 [==============================] - 40s 128ms/step - loss: 0.3026 - accuracy: 0.9000 - val_loss: 0.4561 - val_accuracy: 0.8598\n",
            "Epoch 91/250\n",
            "313/313 [==============================] - 40s 129ms/step - loss: 0.3021 - accuracy: 0.9005 - val_loss: 0.4699 - val_accuracy: 0.8613\n",
            "Epoch 92/250\n",
            "313/313 [==============================] - 41s 131ms/step - loss: 0.2937 - accuracy: 0.9044 - val_loss: 0.5132 - val_accuracy: 0.8535\n",
            "Epoch 93/250\n",
            "313/313 [==============================] - 41s 130ms/step - loss: 0.2936 - accuracy: 0.9033 - val_loss: 0.4763 - val_accuracy: 0.8595\n",
            "Epoch 94/250\n",
            "313/313 [==============================] - 41s 131ms/step - loss: 0.2945 - accuracy: 0.9019 - val_loss: 0.4521 - val_accuracy: 0.8640\n",
            "Epoch 00094: early stopping\n"
          ],
          "name": "stdout"
        }
      ]
    },
    {
      "cell_type": "code",
      "metadata": {
        "id": "2Gnvdr6xkP6s",
        "colab_type": "code",
        "colab": {}
      },
      "source": [
        "(x_train, y_train), (x_test, y_test) = get_data()"
      ],
      "execution_count": 0,
      "outputs": []
    },
    {
      "cell_type": "code",
      "metadata": {
        "id": "H8LKv5UFkO2L",
        "colab_type": "code",
        "colab": {}
      },
      "source": [
        "scores = model.evaluate(x_test, y_test, verbose=0, batch_size=512)"
      ],
      "execution_count": 0,
      "outputs": []
    },
    {
      "cell_type": "code",
      "metadata": {
        "id": "5sTooX5wO72a",
        "colab_type": "code",
        "outputId": "c21e4e22-c23d-435a-ebd5-aabdb948b47c",
        "colab": {
          "base_uri": "https://localhost:8080/",
          "height": 35
        }
      },
      "source": [
        "scores"
      ],
      "execution_count": 31,
      "outputs": [
        {
          "output_type": "execute_result",
          "data": {
            "text/plain": [
              "[0.4682715835571289, 0.8586]"
            ]
          },
          "metadata": {
            "tags": []
          },
          "execution_count": 31
        }
      ]
    },
    {
      "cell_type": "code",
      "metadata": {
        "id": "fXD3n3z2uQmz",
        "colab_type": "code",
        "colab": {}
      },
      "source": [
        "model.save(\"./drive/My Drive/teacher_model.h5\")"
      ],
      "execution_count": 0,
      "outputs": []
    },
    {
      "cell_type": "code",
      "metadata": {
        "id": "QqR7qW1G0Frt",
        "colab_type": "code",
        "colab": {}
      },
      "source": [
        "preds = model.predict(x_train[0:1])"
      ],
      "execution_count": 0,
      "outputs": []
    },
    {
      "cell_type": "code",
      "metadata": {
        "id": "S7JWaDnvDMxl",
        "colab_type": "code",
        "colab": {
          "base_uri": "https://localhost:8080/",
          "height": 69
        },
        "outputId": "347a4324-9606-4da5-ecb6-4abbab700a5f"
      },
      "source": [
        "preds[0]"
      ],
      "execution_count": 46,
      "outputs": [
        {
          "output_type": "execute_result",
          "data": {
            "text/plain": [
              "array([8.8463061e-08, 5.6787155e-07, 9.2108050e-05, 3.5279058e-04,\n",
              "       3.5751124e-05, 2.1839807e-05, 9.9949658e-01, 1.4618507e-08,\n",
              "       4.7920995e-08, 2.7771165e-07], dtype=float32)"
            ]
          },
          "metadata": {
            "tags": []
          },
          "execution_count": 46
        }
      ]
    },
    {
      "cell_type": "code",
      "metadata": {
        "id": "VFKWr-V8EuF-",
        "colab_type": "code",
        "colab": {}
      },
      "source": [
        ""
      ],
      "execution_count": 0,
      "outputs": []
    }
  ]
}